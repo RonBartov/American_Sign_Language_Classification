{
  "nbformat": 4,
  "nbformat_minor": 0,
  "metadata": {
    "colab": {
      "provenance": [],
      "include_colab_link": true
    },
    "kernelspec": {
      "name": "python3",
      "display_name": "Python 3"
    },
    "language_info": {
      "name": "python"
    },
    "gpuClass": "standard"
  },
  "cells": [
    {
      "cell_type": "markdown",
      "metadata": {
        "id": "view-in-github",
        "colab_type": "text"
      },
      "source": [
        "<a href=\"https://colab.research.google.com/github/RonBartov/American_Sign_Language_Classification/blob/main/Final_Project_ASL_Classification.ipynb\" target=\"_parent\"><img src=\"https://colab.research.google.com/assets/colab-badge.svg\" alt=\"Open In Colab\"/></a>"
      ]
    },
    {
      "cell_type": "markdown",
      "source": [
        "# **Deep Learning Final Project- American Sign Language Images Classification**"
      ],
      "metadata": {
        "id": "n8US6O-11ZYG"
      }
    },
    {
      "cell_type": "code",
      "execution_count": 1,
      "metadata": {
        "id": "aMh1xZpHfGw3",
        "colab": {
          "base_uri": "https://localhost:8080/"
        },
        "outputId": "05ad1964-6d78-4606-d6bc-8995fce6456a"
      },
      "outputs": [
        {
          "output_type": "stream",
          "name": "stdout",
          "text": [
            "Mounted at /content/gdrive\n"
          ]
        }
      ],
      "source": [
        "import os\n",
        "import cv2\n",
        "from sklearn.model_selection import train_test_split\n",
        "import pandas as pd\n",
        "from PIL import Image as Im \n",
        "from PIL import ImageOps\n",
        "from google.colab import drive\n",
        "import seaborn as sns\n",
        "from torch.utils.data import DataLoader, TensorDataset\n",
        "from torchvision import transforms\n",
        "from torch.autograd import Variable\n",
        "import torch\n",
        "import torch.nn as nn\n",
        "import torch.nn.functional as F\n",
        "from torchvision.utils import make_grid\n",
        "from IPython.display import Image\n",
        "import matplotlib.pyplot as plt\n",
        "import numpy as np\n",
        "import random\n",
        "from torchvision.utils import make_grid\n",
        "import torch.optim as optim\n",
        "\n",
        "device = torch.device('cuda' if torch.cuda.is_available() else 'cpu')\n",
        "drive.mount('/content/gdrive')"
      ]
    },
    {
      "cell_type": "markdown",
      "source": [
        "# **Additional Functions That Will Be Used In The Project**"
      ],
      "metadata": {
        "id": "t337yy5utFvU"
      }
    },
    {
      "cell_type": "code",
      "source": [
        "def plot_one_iPhone_img(indicator=None, img_source=None):\n",
        "  ''' Inputs:\n",
        "      indicator: the letter of the label.\n",
        "      img_source: path of the iPhone images folder\n",
        "\n",
        "      Output:\n",
        "      None. The function will plot an iPhone image in 3 different plots- original image, gray scale and resized grayscale\n",
        "  '''\n",
        "  \n",
        "  img_name = \"ASL_iPhone_Image_\" + indicator\n",
        "  print(\"Image Name: \" + img_name + \"\\n\")\n",
        "  img_path = img_source + \"/ASL_Image_\" + indicator + \".jpeg\"\n",
        "  img_rgb = Im.open(img_path)\n",
        "  img_gray = ImageOps.grayscale(img_rgb)\n",
        "  resized_gray_img = img_gray.resize((28, 28))\n",
        "\n",
        "  print(\"Size of the original image:\", np.array(img_rgb).shape)\n",
        "  print(\"Size of the gray image:\", np.array(img_gray).shape)\n",
        "  print(\"Size of the gray resized image:\", np.array(resized_gray_img).shape)\n",
        "\n",
        "  # Plots\n",
        "  fig, axs = plt.subplots(1, 3, figsize=(15, 5))\n",
        "  axs[0].imshow(img_rgb)\n",
        "  axs[0].set_title(\"Original Image\")\n",
        "  axs[1].imshow(img_gray, cmap='gray')\n",
        "  axs[1].set_title(\"Gray Image\")\n",
        "  axs[2].imshow(resized_gray_img, cmap='gray')\n",
        "  axs[2].set_title(\"Gray Resized Image\")\n",
        "\n",
        "  return None"
      ],
      "metadata": {
        "id": "cyD94YazQWfz"
      },
      "execution_count": 2,
      "outputs": []
    },
    {
      "cell_type": "code",
      "source": [
        "def bar_graph_plot(pd_series, x_label='',y_label='',Title=''):\n",
        "  '''\n",
        "  Inputs:\n",
        "  pd_series: pandas series of shape(N,). The names of the columns need to be an integers\n",
        "\n",
        "  Output:\n",
        "  None. The function will plot a bar plot of the pd_series\n",
        "  '''\n",
        "  mean = pd_series.values.mean()\n",
        "  plt.bar(pd_series.index, pd_series.values)\n",
        "  plt.xticks(pd_series.index, pd_series.index)\n",
        "  plt.axhline(y=mean, color='red', linestyle='--')\n",
        "  plt.xlabel(x_label)\n",
        "  plt.ylabel(y_label)\n",
        "  plt.title(Title)\n",
        "  \n",
        "  # add average value to plot\n",
        "  plt.annotate(\"Average: {:.6f}\".format(mean), xy=(0, mean), xycoords='data',\n",
        "              xytext=(0.3, 0.85), textcoords='figure fraction',\n",
        "              arrowprops=dict(arrowstyle=\"->\", connectionstyle=\"arc3,rad=-0.2\", color='black'),\n",
        "              ha='center', va='bottom')\n",
        "  plt.show()\n",
        "  return None"
      ],
      "metadata": {
        "id": "aE06-qRt4dty"
      },
      "execution_count": 3,
      "outputs": []
    },
    {
      "cell_type": "code",
      "source": [
        "def process_images(imgs_path,letter_to_int_dict):\n",
        "  '''\n",
        "  Inputs: \n",
        "  imgs_path: path that contains .jpeg images\n",
        "  letter_to_int_dict, a dictionary that maps between the chars A-Z into their corresponding int 0-25\n",
        "\n",
        "  Output:\n",
        "  df: data frame. Each row represent 28x28=784 pixels of the resized .jpeg images from the path.\n",
        "  '''\n",
        "  \n",
        "  data = []\n",
        "  for file in os.listdir(imgs_path):\n",
        "    if file.endswith(\".jpeg\"):\n",
        "      label_char = file[len(\"ASL_Image_\"):-len(\".jpeg\")]\n",
        "      label_num = letter_to_int_dict[label_char]\n",
        "      img = cv2.imread(os.path.join(imgs_path, file))\n",
        "      resized_gray_img = cv2.resize(cv2.cvtColor(img, cv2.COLOR_BGR2GRAY), (28, 28), interpolation=cv2.INTER_AREA)\n",
        "      flat_img = resized_gray_img.reshape(-1)\n",
        "      flat_img = np.append(label_num, flat_img)\n",
        "      data.append(flat_img)\n",
        "  data = np.array(data)\n",
        "  df = pd.DataFrame(data=data, columns=[\"label\"] + [f\"pixel{i+1}\" for i in range(784)])\n",
        "  df[\"label\"] = df[\"label\"].astype(int)\n",
        "  return df"
      ],
      "metadata": {
        "id": "FP1qMyEWMlEU"
      },
      "execution_count": 4,
      "outputs": []
    },
    {
      "cell_type": "code",
      "source": [
        "# def plot_images(dataframe, int_to_letter_dict, m,n):\n",
        "#   '''\n",
        "#   Inputs:\n",
        "#   dataframe: contains mxn rows, each row represent a square image with 784 pixels (28x28)\n",
        "#   int_to_letter_dict: dictionary that maps int (label's number) to their corresponding letters {int: leter}\n",
        "\n",
        "#   Output:\n",
        "#   None. The function will plot a mxn grid of images obtained from datadrame's rows\n",
        "#   '''\n",
        "\n",
        "#   num_of_imgs = m*n\n",
        "#   fig, axs = plt.subplots(m, n, figsize=(10, 10))\n",
        "\n",
        "#   if m > 1 or n > 1:\n",
        "#     axs = axs.ravel() # return 1D array of all axes objects\n",
        "  \n",
        "#   # create x and y limits for 28x28 images\n",
        "#   jump = 4\n",
        "#   limits = [i for i in range(0, 28+jump, jump)]\n",
        "\n",
        "#   # reset indexes in order to loop from 0 to 5\n",
        "#   df_indx_reset = dataframe.iloc[:num_of_imgs,:]\n",
        "#   df_indx_reset.reset_index(drop=True, inplace=True)\n",
        "\n",
        "#   for i, row in df_indx_reset.head(num_of_imgs).iterrows():\n",
        "#     ax = axs[i]\n",
        "#     ax.imshow(row[1:].values.reshape(28, 28), cmap='gray')\n",
        "#     ax.set_title(\"ASL_Image_\" + int_to_letter_dict[row[0]])\n",
        "#     ax.axis('on')\n",
        "#     ax.set_xticks(limits)\n",
        "#     ax.set_yticks(limits[::-1])\n",
        "#     ax.grid(visible=True)\n",
        "#     ax.set_aspect('equal')\n",
        "\n",
        "#   plt.tight_layout() # adjusts the spacing between subplots and the surrounding borders\n",
        "#   plt.show()\n",
        "\n",
        "#   return None"
      ],
      "metadata": {
        "id": "qFNsvazSVktK"
      },
      "execution_count": 19,
      "outputs": []
    },
    {
      "cell_type": "code",
      "source": [
        "def plot_images(dataframe, int_to_letter_dict, m,n):\n",
        "  '''\n",
        "  Inputs:\n",
        "  dataframe: contains mxn rows, each row represent a square image with 784 pixels (28x28)\n",
        "  int_to_letter_dict: dictionary that maps int (label's number) to their corresponding letters {int: leter}\n",
        "\n",
        "  Output:\n",
        "  None. The function will plot a mxn grid of images obtained from datadrame's rows\n",
        "  '''\n",
        "\n",
        "  num_of_imgs = m*n\n",
        "  fig, axs = plt.subplots(m, n, figsize=(3*max(m,n), 3*max(m,n)))\n",
        "\n",
        "  # reset indexes in order to loop from 0 to 5\n",
        "  df_indx_reset = dataframe.iloc[:num_of_imgs,:]\n",
        "  df_indx_reset.reset_index(drop=True, inplace=True)\n",
        "\n",
        "  # create x and y limits for 28x28 images\n",
        "  jump = 4\n",
        "  limits = [i for i in range(0, 28+jump, jump)]\n",
        "\n",
        "  if m*n == 1:\n",
        "    img_pixls_row = dataframe.iloc[0:1,1:]\n",
        "    img_label = int_to_letter_dict[dataframe.iloc[0:1,0].iloc[0]]\n",
        "    axs.imshow(img_pixls_row.values.reshape(28, 28), cmap='gray') #row[1:]\n",
        "    axs.set_title(\"ASL_Image_\" + img_label)\n",
        "    axs.axis('on')\n",
        "    axs.set_xticks(limits)\n",
        "    axs.set_yticks(limits[::-1])\n",
        "    axs.grid(visible=True)\n",
        "    axs.set_aspect('equal')\n",
        "    plt.tight_layout() # adjusts the spacing between subplots and the surrounding borders\n",
        "    plt.show()\n",
        "\n",
        "    return None\n",
        "\n",
        "  else:\n",
        "    axs = axs.ravel() # return 1D array of all axes objects\n",
        "  \n",
        "    for i, row in df_indx_reset.head(num_of_imgs).iterrows():\n",
        "      ax = axs[i]\n",
        "      ax.imshow(row[1:].values.reshape(28, 28), cmap='gray')\n",
        "      ax.set_title(\"ASL_Image_\" + int_to_letter_dict[row[0]])\n",
        "      ax.axis('on')\n",
        "      ax.set_xticks(limits)\n",
        "      ax.set_yticks(limits[::-1])\n",
        "      ax.grid(visible=True)\n",
        "      ax.set_aspect('equal')\n",
        "\n",
        "    plt.tight_layout() # adjusts the spacing between subplots and the surrounding borders\n",
        "    plt.show()\n",
        "\n",
        "    return None"
      ],
      "metadata": {
        "id": "YdAcKC1EfR74"
      },
      "execution_count": 36,
      "outputs": []
    },
    {
      "cell_type": "code",
      "source": [],
      "metadata": {
        "id": "AZkaiQEXwTqB"
      },
      "execution_count": 79,
      "outputs": []
    },
    {
      "cell_type": "markdown",
      "source": [
        "# **Section 1- General Background and Goals**\n",
        "\n",
        "Sign languages are visual languages that use hand gestures, facial expressions, and body language to convey some meaning. They are used as a means of communication by deaf and hard-of-hearing individuals in many countries around the world. Unlike spoken languages, sign languages are not based on a particular spoken language and are unique to the deaf communities in which they are used.\n",
        "\n",
        "Despite the widespread use of sign languages, there is still much work to be done in improving communication between deaf and hearing individuals and the development of technologies that can recognize and understand sign languages is an important step towards this goal. \n",
        "\n",
        "**In our project**, we are exploring the use of deep learning for American Sign Language (ASL) recognition by teaching our neural network to classify between different ASL letters. The dataset we are using is the ASL MNIST dataset, which is a dataset that has been adapted to specifically focus on the recognition of American Sign Language.\n",
        "\n",
        "\n",
        "###**Data Description**\n",
        "Our data composed from 28x28 grayscale images (one channel images), each one represents one of the 24 american letters that **not require any motion**, i.e all the american letters except J and Z.\n",
        "\n",
        "\n",
        "\n",
        "The data contains 34,627 images in total and it devided into the following types:\n",
        "\n",
        "1) Test and Validation data- 27,455 images\n",
        "\n",
        "2) Test Data- 7,172 images\n",
        "\n",
        "\n",
        "In addition, the first column of the data represents the labels of the images as a numeric values. We have in total 26 american letters that their labels are the numbers 0-25 correspondingly to the order of the letters, and because we are not using the letters J and Z (which require motion as we mentioned before) we have left only with the labels 0-8 and 10-24.\n",
        "\n",
        "\n",
        "###**Additional Goal**\n",
        "\n",
        "In addition to the classification of the MNIST data itself, our goal in this project is to exemine the classification accuracy for images that were taken from our personal phones. Those images will have a different properties, due to the type of the camera, initial resolution and also the enviroment where the image were taken, thus we will expect to get lower accuracy for those king of images.\n",
        "\n",
        "\n",
        "###**Using 'Notes'** \n",
        "In orded to give some clear explenations regarding specific actions or decision we make, we will add a text box with a 'Note' title everytime we would like to explain something. "
      ],
      "metadata": {
        "id": "jEuOp2Jj1Psp"
      }
    },
    {
      "cell_type": "markdown",
      "source": [
        "#**Section 2- Initial Preparation for Our Personal Photos**\n",
        "\n",
        "In order to be able to work also with our personal photos in the end of the training, we first would like to transfer it from it's current shape (folders of \".jpeg\" photos) into a dataframe so it will be much easier to understand and analyze it. \n",
        "\n",
        "For that aim, we will create two dictionaries that will be used during this project:\n",
        "\n",
        "**1) letter_to_int_dict-** maps the chars A-Z into the integers 0-24 correspondingly\n",
        "\n",
        "**2) int_to_letter_dict-** maps the integers 0-24 into the chars A-Z\n",
        "\n",
        "The transformation from images-folder structure into data frame will be implemented by using our 'process_images' function (you can read its description in the function definition above)"
      ],
      "metadata": {
        "id": "AgbJl-qPO9dE"
      }
    },
    {
      "cell_type": "code",
      "source": [
        "# creating the dictionaries\n",
        "letters = \"ABCDEFGHIJKLMNOPQRSTUVWXYZ\"\n",
        "integers = range(26)\n",
        "int_to_letter_dict = dict(zip(integers,letters))\n",
        "letter_to_int_dict = dict(zip(letters,integers))"
      ],
      "metadata": {
        "id": "NXz3CmNNQdJ2"
      },
      "execution_count": 6,
      "outputs": []
    },
    {
      "cell_type": "code",
      "source": [
        "# transforming images into dataframe\n",
        "\n",
        "# Ron's path\n",
        "iPhone_imgs_folder_path = \"/content/gdrive/MyDrive/Colab Notebooks/Deep Learning Final Project- ASL/ASL_Images_From_Iphone\"\n",
        "\n",
        "# Aviv's path\n",
        "# imgs_folder_path = \"\"\n",
        "\n",
        "iPhone_imgs_df = process_images(iPhone_imgs_folder_path, letter_to_int_dict)\n",
        "iPhone_imgs_df.head()"
      ],
      "metadata": {
        "colab": {
          "base_uri": "https://localhost:8080/",
          "height": 299
        },
        "id": "dnof9n3pMwnE",
        "outputId": "78d04656-e895-4f9f-e7c4-52acc13370bb"
      },
      "execution_count": 7,
      "outputs": [
        {
          "output_type": "execute_result",
          "data": {
            "text/plain": [
              "   label  pixel1  pixel2  pixel3  pixel4  pixel5  pixel6  pixel7  pixel8  \\\n",
              "0      5     207     208     208     208     208     210     210     211   \n",
              "1      2     206     207     207     207     208     208     210     211   \n",
              "2      1     216     216     216     217     217     218     218     220   \n",
              "3      0     213     213     212     212     212     213     213     213   \n",
              "4     24     202     203     204     204     205     205     205     205   \n",
              "\n",
              "   pixel9  ...  pixel775  pixel776  pixel777  pixel778  pixel779  pixel780  \\\n",
              "0     212  ...       125       179       189       187       185       185   \n",
              "1     212  ...       188       185       183       182       180       180   \n",
              "2     221  ...        90       148       186       185       181       180   \n",
              "3     214  ...        87        82        97       144       181       190   \n",
              "4     205  ...        96        93        86        71       122       173   \n",
              "\n",
              "   pixel781  pixel782  pixel783  pixel784  \n",
              "0       183       182       183       184  \n",
              "1       179       179       180       181  \n",
              "2       178       178       178       180  \n",
              "3       187       186       185       185  \n",
              "4       172       172       171       167  \n",
              "\n",
              "[5 rows x 785 columns]"
            ],
            "text/html": [
              "\n",
              "  <div id=\"df-412c9c18-dcdc-4ff6-a6ac-0c89d7151c5a\">\n",
              "    <div class=\"colab-df-container\">\n",
              "      <div>\n",
              "<style scoped>\n",
              "    .dataframe tbody tr th:only-of-type {\n",
              "        vertical-align: middle;\n",
              "    }\n",
              "\n",
              "    .dataframe tbody tr th {\n",
              "        vertical-align: top;\n",
              "    }\n",
              "\n",
              "    .dataframe thead th {\n",
              "        text-align: right;\n",
              "    }\n",
              "</style>\n",
              "<table border=\"1\" class=\"dataframe\">\n",
              "  <thead>\n",
              "    <tr style=\"text-align: right;\">\n",
              "      <th></th>\n",
              "      <th>label</th>\n",
              "      <th>pixel1</th>\n",
              "      <th>pixel2</th>\n",
              "      <th>pixel3</th>\n",
              "      <th>pixel4</th>\n",
              "      <th>pixel5</th>\n",
              "      <th>pixel6</th>\n",
              "      <th>pixel7</th>\n",
              "      <th>pixel8</th>\n",
              "      <th>pixel9</th>\n",
              "      <th>...</th>\n",
              "      <th>pixel775</th>\n",
              "      <th>pixel776</th>\n",
              "      <th>pixel777</th>\n",
              "      <th>pixel778</th>\n",
              "      <th>pixel779</th>\n",
              "      <th>pixel780</th>\n",
              "      <th>pixel781</th>\n",
              "      <th>pixel782</th>\n",
              "      <th>pixel783</th>\n",
              "      <th>pixel784</th>\n",
              "    </tr>\n",
              "  </thead>\n",
              "  <tbody>\n",
              "    <tr>\n",
              "      <th>0</th>\n",
              "      <td>5</td>\n",
              "      <td>207</td>\n",
              "      <td>208</td>\n",
              "      <td>208</td>\n",
              "      <td>208</td>\n",
              "      <td>208</td>\n",
              "      <td>210</td>\n",
              "      <td>210</td>\n",
              "      <td>211</td>\n",
              "      <td>212</td>\n",
              "      <td>...</td>\n",
              "      <td>125</td>\n",
              "      <td>179</td>\n",
              "      <td>189</td>\n",
              "      <td>187</td>\n",
              "      <td>185</td>\n",
              "      <td>185</td>\n",
              "      <td>183</td>\n",
              "      <td>182</td>\n",
              "      <td>183</td>\n",
              "      <td>184</td>\n",
              "    </tr>\n",
              "    <tr>\n",
              "      <th>1</th>\n",
              "      <td>2</td>\n",
              "      <td>206</td>\n",
              "      <td>207</td>\n",
              "      <td>207</td>\n",
              "      <td>207</td>\n",
              "      <td>208</td>\n",
              "      <td>208</td>\n",
              "      <td>210</td>\n",
              "      <td>211</td>\n",
              "      <td>212</td>\n",
              "      <td>...</td>\n",
              "      <td>188</td>\n",
              "      <td>185</td>\n",
              "      <td>183</td>\n",
              "      <td>182</td>\n",
              "      <td>180</td>\n",
              "      <td>180</td>\n",
              "      <td>179</td>\n",
              "      <td>179</td>\n",
              "      <td>180</td>\n",
              "      <td>181</td>\n",
              "    </tr>\n",
              "    <tr>\n",
              "      <th>2</th>\n",
              "      <td>1</td>\n",
              "      <td>216</td>\n",
              "      <td>216</td>\n",
              "      <td>216</td>\n",
              "      <td>217</td>\n",
              "      <td>217</td>\n",
              "      <td>218</td>\n",
              "      <td>218</td>\n",
              "      <td>220</td>\n",
              "      <td>221</td>\n",
              "      <td>...</td>\n",
              "      <td>90</td>\n",
              "      <td>148</td>\n",
              "      <td>186</td>\n",
              "      <td>185</td>\n",
              "      <td>181</td>\n",
              "      <td>180</td>\n",
              "      <td>178</td>\n",
              "      <td>178</td>\n",
              "      <td>178</td>\n",
              "      <td>180</td>\n",
              "    </tr>\n",
              "    <tr>\n",
              "      <th>3</th>\n",
              "      <td>0</td>\n",
              "      <td>213</td>\n",
              "      <td>213</td>\n",
              "      <td>212</td>\n",
              "      <td>212</td>\n",
              "      <td>212</td>\n",
              "      <td>213</td>\n",
              "      <td>213</td>\n",
              "      <td>213</td>\n",
              "      <td>214</td>\n",
              "      <td>...</td>\n",
              "      <td>87</td>\n",
              "      <td>82</td>\n",
              "      <td>97</td>\n",
              "      <td>144</td>\n",
              "      <td>181</td>\n",
              "      <td>190</td>\n",
              "      <td>187</td>\n",
              "      <td>186</td>\n",
              "      <td>185</td>\n",
              "      <td>185</td>\n",
              "    </tr>\n",
              "    <tr>\n",
              "      <th>4</th>\n",
              "      <td>24</td>\n",
              "      <td>202</td>\n",
              "      <td>203</td>\n",
              "      <td>204</td>\n",
              "      <td>204</td>\n",
              "      <td>205</td>\n",
              "      <td>205</td>\n",
              "      <td>205</td>\n",
              "      <td>205</td>\n",
              "      <td>205</td>\n",
              "      <td>...</td>\n",
              "      <td>96</td>\n",
              "      <td>93</td>\n",
              "      <td>86</td>\n",
              "      <td>71</td>\n",
              "      <td>122</td>\n",
              "      <td>173</td>\n",
              "      <td>172</td>\n",
              "      <td>172</td>\n",
              "      <td>171</td>\n",
              "      <td>167</td>\n",
              "    </tr>\n",
              "  </tbody>\n",
              "</table>\n",
              "<p>5 rows × 785 columns</p>\n",
              "</div>\n",
              "      <button class=\"colab-df-convert\" onclick=\"convertToInteractive('df-412c9c18-dcdc-4ff6-a6ac-0c89d7151c5a')\"\n",
              "              title=\"Convert this dataframe to an interactive table.\"\n",
              "              style=\"display:none;\">\n",
              "        \n",
              "  <svg xmlns=\"http://www.w3.org/2000/svg\" height=\"24px\"viewBox=\"0 0 24 24\"\n",
              "       width=\"24px\">\n",
              "    <path d=\"M0 0h24v24H0V0z\" fill=\"none\"/>\n",
              "    <path d=\"M18.56 5.44l.94 2.06.94-2.06 2.06-.94-2.06-.94-.94-2.06-.94 2.06-2.06.94zm-11 1L8.5 8.5l.94-2.06 2.06-.94-2.06-.94L8.5 2.5l-.94 2.06-2.06.94zm10 10l.94 2.06.94-2.06 2.06-.94-2.06-.94-.94-2.06-.94 2.06-2.06.94z\"/><path d=\"M17.41 7.96l-1.37-1.37c-.4-.4-.92-.59-1.43-.59-.52 0-1.04.2-1.43.59L10.3 9.45l-7.72 7.72c-.78.78-.78 2.05 0 2.83L4 21.41c.39.39.9.59 1.41.59.51 0 1.02-.2 1.41-.59l7.78-7.78 2.81-2.81c.8-.78.8-2.07 0-2.86zM5.41 20L4 18.59l7.72-7.72 1.47 1.35L5.41 20z\"/>\n",
              "  </svg>\n",
              "      </button>\n",
              "      \n",
              "  <style>\n",
              "    .colab-df-container {\n",
              "      display:flex;\n",
              "      flex-wrap:wrap;\n",
              "      gap: 12px;\n",
              "    }\n",
              "\n",
              "    .colab-df-convert {\n",
              "      background-color: #E8F0FE;\n",
              "      border: none;\n",
              "      border-radius: 50%;\n",
              "      cursor: pointer;\n",
              "      display: none;\n",
              "      fill: #1967D2;\n",
              "      height: 32px;\n",
              "      padding: 0 0 0 0;\n",
              "      width: 32px;\n",
              "    }\n",
              "\n",
              "    .colab-df-convert:hover {\n",
              "      background-color: #E2EBFA;\n",
              "      box-shadow: 0px 1px 2px rgba(60, 64, 67, 0.3), 0px 1px 3px 1px rgba(60, 64, 67, 0.15);\n",
              "      fill: #174EA6;\n",
              "    }\n",
              "\n",
              "    [theme=dark] .colab-df-convert {\n",
              "      background-color: #3B4455;\n",
              "      fill: #D2E3FC;\n",
              "    }\n",
              "\n",
              "    [theme=dark] .colab-df-convert:hover {\n",
              "      background-color: #434B5C;\n",
              "      box-shadow: 0px 1px 3px 1px rgba(0, 0, 0, 0.15);\n",
              "      filter: drop-shadow(0px 1px 2px rgba(0, 0, 0, 0.3));\n",
              "      fill: #FFFFFF;\n",
              "    }\n",
              "  </style>\n",
              "\n",
              "      <script>\n",
              "        const buttonEl =\n",
              "          document.querySelector('#df-412c9c18-dcdc-4ff6-a6ac-0c89d7151c5a button.colab-df-convert');\n",
              "        buttonEl.style.display =\n",
              "          google.colab.kernel.accessAllowed ? 'block' : 'none';\n",
              "\n",
              "        async function convertToInteractive(key) {\n",
              "          const element = document.querySelector('#df-412c9c18-dcdc-4ff6-a6ac-0c89d7151c5a');\n",
              "          const dataTable =\n",
              "            await google.colab.kernel.invokeFunction('convertToInteractive',\n",
              "                                                     [key], {});\n",
              "          if (!dataTable) return;\n",
              "\n",
              "          const docLinkHtml = 'Like what you see? Visit the ' +\n",
              "            '<a target=\"_blank\" href=https://colab.research.google.com/notebooks/data_table.ipynb>data table notebook</a>'\n",
              "            + ' to learn more about interactive tables.';\n",
              "          element.innerHTML = '';\n",
              "          dataTable['output_type'] = 'display_data';\n",
              "          await google.colab.output.renderOutput(dataTable, element);\n",
              "          const docLink = document.createElement('div');\n",
              "          docLink.innerHTML = docLinkHtml;\n",
              "          element.appendChild(docLink);\n",
              "        }\n",
              "      </script>\n",
              "    </div>\n",
              "  </div>\n",
              "  "
            ]
          },
          "metadata": {},
          "execution_count": 7
        }
      ]
    },
    {
      "cell_type": "code",
      "source": [
        "# plot one iPhone image to see the full image processesing step\n",
        "# this plot use the folder path as the source of the images\n",
        "plot_one_iPhone_img(indicator='F', img_source=iPhone_imgs_folder_path)"
      ],
      "metadata": {
        "colab": {
          "base_uri": "https://localhost:8080/",
          "height": 400
        },
        "id": "Dfp7uC1DZL4O",
        "outputId": "c0e4de42-39d8-4b6f-8acd-be9714d8172f"
      },
      "execution_count": 10,
      "outputs": [
        {
          "output_type": "stream",
          "name": "stdout",
          "text": [
            "Image Name: ASL_iPhone_Image_F\n",
            "\n",
            "Size of the original image: (2048, 2048, 3)\n",
            "Size of the gray image: (2048, 2048)\n",
            "Size of the gray resized image: (28, 28)\n"
          ]
        },
        {
          "output_type": "display_data",
          "data": {
            "text/plain": [
              "<Figure size 1080x360 with 3 Axes>"
            ],
            "image/png": "[encoded data removed]"
          },
          "metadata": {
            "needs_background": "light"
          }
        }
      ]
    },
    {
      "cell_type": "code",
      "source": [
        "# plot few iPhone images as an example\n",
        "# this plot use the iPhone images dataframe as the source of the images\n",
        "m_rows = 3\n",
        "n_cols = 2\n",
        "start_ind = 5\n",
        "iPhone_imgs_df_to_plot = iPhone_imgs_df.iloc[start_ind:start_ind+m_rows*n_cols,:]\n",
        "\n",
        "plot_images(iPhone_imgs_df_to_plot, int_to_letter_dict,m=m_rows,n=n_cols)"
      ],
      "metadata": {
        "colab": {
          "base_uri": "https://localhost:8080/",
          "height": 657
        },
        "id": "Vn3bGWJPVpg5",
        "outputId": "4373f7df-1c77-47d4-d0fb-75439714bec5"
      },
      "execution_count": 41,
      "outputs": [
        {
          "output_type": "display_data",
          "data": {
            "text/plain": [
              "<Figure size 648x648 with 6 Axes>"
            ],
            "image/png": "[encoded data removed]"
          },
          "metadata": {
            "needs_background": "light"
          }
        }
      ]
    },
    {
      "cell_type": "markdown",
      "source": [
        "#**Section 3- Importing the MNIST Data and Learning its Properties**\n",
        "\n",
        "In order to start our training part properly, we would like to learn the data in the best way we can and to work with it in a right way according to its properties. That includes the following:\n",
        "\n",
        "**1) High-level understanding of the data-** Checking the number of samples, classes, and the distribution of the data, such as the range of pixels values, mean and variance. In addition, we will also check wether there are missing values in the data cells.\n",
        "\n",
        "\n",
        "**2) Splitting the data-** The ASL MNIST data already splitted into \"train\" and \"test\" sets, thus we will focus on splitting the \"train\" data into \"train\" and \"validation\" sets while trying not to change its distribution properties.\n"
      ],
      "metadata": {
        "id": "okEatZrBdUsO"
      }
    },
    {
      "cell_type": "code",
      "source": [
        "# Define the data paths\n",
        "\n",
        "# Ron's paths\n",
        "csv_train_val_path = \"/content/gdrive/MyDrive/Colab Notebooks/Deep Learning Final Project- ASL/sign_mnist_train.zip\"\n",
        "csv_test_path = \"/content/gdrive/MyDrive/Colab Notebooks/Deep Learning Final Project- ASL/sign_mnist_test.zip\"\n",
        "\n",
        "# Aviv's paths\n",
        "# csv_train_val_path = \"/content/gdrive/MyDrive/DP_course/final/data/sign_mnist_train.csv\"\n",
        "# csv_test_path = \"/content/gdrive/MyDrive/DP_course/final/data/sign_mnist_test.csv\"\n"
      ],
      "metadata": {
        "id": "vMBLUgKeHD9T"
      },
      "execution_count": 12,
      "outputs": []
    },
    {
      "cell_type": "code",
      "source": [
        "df_train_val = pd.read_csv(csv_train_val_path)\n",
        "df_test = pd.read_csv(csv_test_path)"
      ],
      "metadata": {
        "id": "eU7yBu90K9kb"
      },
      "execution_count": 13,
      "outputs": []
    },
    {
      "cell_type": "code",
      "source": [
        "# presenting few rows from the train dataframe \n",
        "df_train_val.head()"
      ],
      "metadata": {
        "id": "xOYgfzUtdi20",
        "outputId": "476c4a8e-cc0b-4b4b-9168-8c28bfcb41b1",
        "colab": {
          "base_uri": "https://localhost:8080/",
          "height": 299
        }
      },
      "execution_count": 14,
      "outputs": [
        {
          "output_type": "execute_result",
          "data": {
            "text/plain": [
              "   label  pixel1  pixel2  pixel3  pixel4  pixel5  pixel6  pixel7  pixel8  \\\n",
              "0      3     107     118     127     134     139     143     146     150   \n",
              "1      6     155     157     156     156     156     157     156     158   \n",
              "2      2     187     188     188     187     187     186     187     188   \n",
              "3      2     211     211     212     212     211     210     211     210   \n",
              "4     13     164     167     170     172     176     179     180     184   \n",
              "\n",
              "   pixel9  ...  pixel775  pixel776  pixel777  pixel778  pixel779  pixel780  \\\n",
              "0     153  ...       207       207       207       207       206       206   \n",
              "1     158  ...        69       149       128        87        94       163   \n",
              "2     187  ...       202       201       200       199       198       199   \n",
              "3     210  ...       235       234       233       231       230       226   \n",
              "4     185  ...        92       105       105       108       133       163   \n",
              "\n",
              "   pixel781  pixel782  pixel783  pixel784  \n",
              "0       206       204       203       202  \n",
              "1       175       103       135       149  \n",
              "2       198       195       194       195  \n",
              "3       225       222       229       163  \n",
              "4       157       163       164       179  \n",
              "\n",
              "[5 rows x 785 columns]"
            ],
            "text/html": [
              "\n",
              "  <div id=\"df-8f2f1294-6ca3-4f16-9676-1aadd109f35d\">\n",
              "    <div class=\"colab-df-container\">\n",
              "      <div>\n",
              "<style scoped>\n",
              "    .dataframe tbody tr th:only-of-type {\n",
              "        vertical-align: middle;\n",
              "    }\n",
              "\n",
              "    .dataframe tbody tr th {\n",
              "        vertical-align: top;\n",
              "    }\n",
              "\n",
              "    .dataframe thead th {\n",
              "        text-align: right;\n",
              "    }\n",
              "</style>\n",
              "<table border=\"1\" class=\"dataframe\">\n",
              "  <thead>\n",
              "    <tr style=\"text-align: right;\">\n",
              "      <th></th>\n",
              "      <th>label</th>\n",
              "      <th>pixel1</th>\n",
              "      <th>pixel2</th>\n",
              "      <th>pixel3</th>\n",
              "      <th>pixel4</th>\n",
              "      <th>pixel5</th>\n",
              "      <th>pixel6</th>\n",
              "      <th>pixel7</th>\n",
              "      <th>pixel8</th>\n",
              "      <th>pixel9</th>\n",
              "      <th>...</th>\n",
              "      <th>pixel775</th>\n",
              "      <th>pixel776</th>\n",
              "      <th>pixel777</th>\n",
              "      <th>pixel778</th>\n",
              "      <th>pixel779</th>\n",
              "      <th>pixel780</th>\n",
              "      <th>pixel781</th>\n",
              "      <th>pixel782</th>\n",
              "      <th>pixel783</th>\n",
              "      <th>pixel784</th>\n",
              "    </tr>\n",
              "  </thead>\n",
              "  <tbody>\n",
              "    <tr>\n",
              "      <th>0</th>\n",
              "      <td>3</td>\n",
              "      <td>107</td>\n",
              "      <td>118</td>\n",
              "      <td>127</td>\n",
              "      <td>134</td>\n",
              "      <td>139</td>\n",
              "      <td>143</td>\n",
              "      <td>146</td>\n",
              "      <td>150</td>\n",
              "      <td>153</td>\n",
              "      <td>...</td>\n",
              "      <td>207</td>\n",
              "      <td>207</td>\n",
              "      <td>207</td>\n",
              "      <td>207</td>\n",
              "      <td>206</td>\n",
              "      <td>206</td>\n",
              "      <td>206</td>\n",
              "      <td>204</td>\n",
              "      <td>203</td>\n",
              "      <td>202</td>\n",
              "    </tr>\n",
              "    <tr>\n",
              "      <th>1</th>\n",
              "      <td>6</td>\n",
              "      <td>155</td>\n",
              "      <td>157</td>\n",
              "      <td>156</td>\n",
              "      <td>156</td>\n",
              "      <td>156</td>\n",
              "      <td>157</td>\n",
              "      <td>156</td>\n",
              "      <td>158</td>\n",
              "      <td>158</td>\n",
              "      <td>...</td>\n",
              "      <td>69</td>\n",
              "      <td>149</td>\n",
              "      <td>128</td>\n",
              "      <td>87</td>\n",
              "      <td>94</td>\n",
              "      <td>163</td>\n",
              "      <td>175</td>\n",
              "      <td>103</td>\n",
              "      <td>135</td>\n",
              "      <td>149</td>\n",
              "    </tr>\n",
              "    <tr>\n",
              "      <th>2</th>\n",
              "      <td>2</td>\n",
              "      <td>187</td>\n",
              "      <td>188</td>\n",
              "      <td>188</td>\n",
              "      <td>187</td>\n",
              "      <td>187</td>\n",
              "      <td>186</td>\n",
              "      <td>187</td>\n",
              "      <td>188</td>\n",
              "      <td>187</td>\n",
              "      <td>...</td>\n",
              "      <td>202</td>\n",
              "      <td>201</td>\n",
              "      <td>200</td>\n",
              "      <td>199</td>\n",
              "      <td>198</td>\n",
              "      <td>199</td>\n",
              "      <td>198</td>\n",
              "      <td>195</td>\n",
              "      <td>194</td>\n",
              "      <td>195</td>\n",
              "    </tr>\n",
              "    <tr>\n",
              "      <th>3</th>\n",
              "      <td>2</td>\n",
              "      <td>211</td>\n",
              "      <td>211</td>\n",
              "      <td>212</td>\n",
              "      <td>212</td>\n",
              "      <td>211</td>\n",
              "      <td>210</td>\n",
              "      <td>211</td>\n",
              "      <td>210</td>\n",
              "      <td>210</td>\n",
              "      <td>...</td>\n",
              "      <td>235</td>\n",
              "      <td>234</td>\n",
              "      <td>233</td>\n",
              "      <td>231</td>\n",
              "      <td>230</td>\n",
              "      <td>226</td>\n",
              "      <td>225</td>\n",
              "      <td>222</td>\n",
              "      <td>229</td>\n",
              "      <td>163</td>\n",
              "    </tr>\n",
              "    <tr>\n",
              "      <th>4</th>\n",
              "      <td>13</td>\n",
              "      <td>164</td>\n",
              "      <td>167</td>\n",
              "      <td>170</td>\n",
              "      <td>172</td>\n",
              "      <td>176</td>\n",
              "      <td>179</td>\n",
              "      <td>180</td>\n",
              "      <td>184</td>\n",
              "      <td>185</td>\n",
              "      <td>...</td>\n",
              "      <td>92</td>\n",
              "      <td>105</td>\n",
              "      <td>105</td>\n",
              "      <td>108</td>\n",
              "      <td>133</td>\n",
              "      <td>163</td>\n",
              "      <td>157</td>\n",
              "      <td>163</td>\n",
              "      <td>164</td>\n",
              "      <td>179</td>\n",
              "    </tr>\n",
              "  </tbody>\n",
              "</table>\n",
              "<p>5 rows × 785 columns</p>\n",
              "</div>\n",
              "      <button class=\"colab-df-convert\" onclick=\"convertToInteractive('df-8f2f1294-6ca3-4f16-9676-1aadd109f35d')\"\n",
              "              title=\"Convert this dataframe to an interactive table.\"\n",
              "              style=\"display:none;\">\n",
              "        \n",
              "  <svg xmlns=\"http://www.w3.org/2000/svg\" height=\"24px\"viewBox=\"0 0 24 24\"\n",
              "       width=\"24px\">\n",
              "    <path d=\"M0 0h24v24H0V0z\" fill=\"none\"/>\n",
              "    <path d=\"M18.56 5.44l.94 2.06.94-2.06 2.06-.94-2.06-.94-.94-2.06-.94 2.06-2.06.94zm-11 1L8.5 8.5l.94-2.06 2.06-.94-2.06-.94L8.5 2.5l-.94 2.06-2.06.94zm10 10l.94 2.06.94-2.06 2.06-.94-2.06-.94-.94-2.06-.94 2.06-2.06.94z\"/><path d=\"M17.41 7.96l-1.37-1.37c-.4-.4-.92-.59-1.43-.59-.52 0-1.04.2-1.43.59L10.3 9.45l-7.72 7.72c-.78.78-.78 2.05 0 2.83L4 21.41c.39.39.9.59 1.41.59.51 0 1.02-.2 1.41-.59l7.78-7.78 2.81-2.81c.8-.78.8-2.07 0-2.86zM5.41 20L4 18.59l7.72-7.72 1.47 1.35L5.41 20z\"/>\n",
              "  </svg>\n",
              "      </button>\n",
              "      \n",
              "  <style>\n",
              "    .colab-df-container {\n",
              "      display:flex;\n",
              "      flex-wrap:wrap;\n",
              "      gap: 12px;\n",
              "    }\n",
              "\n",
              "    .colab-df-convert {\n",
              "      background-color: #E8F0FE;\n",
              "      border: none;\n",
              "      border-radius: 50%;\n",
              "      cursor: pointer;\n",
              "      display: none;\n",
              "      fill: #1967D2;\n",
              "      height: 32px;\n",
              "      padding: 0 0 0 0;\n",
              "      width: 32px;\n",
              "    }\n",
              "\n",
              "    .colab-df-convert:hover {\n",
              "      background-color: #E2EBFA;\n",
              "      box-shadow: 0px 1px 2px rgba(60, 64, 67, 0.3), 0px 1px 3px 1px rgba(60, 64, 67, 0.15);\n",
              "      fill: #174EA6;\n",
              "    }\n",
              "\n",
              "    [theme=dark] .colab-df-convert {\n",
              "      background-color: #3B4455;\n",
              "      fill: #D2E3FC;\n",
              "    }\n",
              "\n",
              "    [theme=dark] .colab-df-convert:hover {\n",
              "      background-color: #434B5C;\n",
              "      box-shadow: 0px 1px 3px 1px rgba(0, 0, 0, 0.15);\n",
              "      filter: drop-shadow(0px 1px 2px rgba(0, 0, 0, 0.3));\n",
              "      fill: #FFFFFF;\n",
              "    }\n",
              "  </style>\n",
              "\n",
              "      <script>\n",
              "        const buttonEl =\n",
              "          document.querySelector('#df-8f2f1294-6ca3-4f16-9676-1aadd109f35d button.colab-df-convert');\n",
              "        buttonEl.style.display =\n",
              "          google.colab.kernel.accessAllowed ? 'block' : 'none';\n",
              "\n",
              "        async function convertToInteractive(key) {\n",
              "          const element = document.querySelector('#df-8f2f1294-6ca3-4f16-9676-1aadd109f35d');\n",
              "          const dataTable =\n",
              "            await google.colab.kernel.invokeFunction('convertToInteractive',\n",
              "                                                     [key], {});\n",
              "          if (!dataTable) return;\n",
              "\n",
              "          const docLinkHtml = 'Like what you see? Visit the ' +\n",
              "            '<a target=\"_blank\" href=https://colab.research.google.com/notebooks/data_table.ipynb>data table notebook</a>'\n",
              "            + ' to learn more about interactive tables.';\n",
              "          element.innerHTML = '';\n",
              "          dataTable['output_type'] = 'display_data';\n",
              "          await google.colab.output.renderOutput(dataTable, element);\n",
              "          const docLink = document.createElement('div');\n",
              "          docLink.innerHTML = docLinkHtml;\n",
              "          element.appendChild(docLink);\n",
              "        }\n",
              "      </script>\n",
              "    </div>\n",
              "  </div>\n",
              "  "
            ]
          },
          "metadata": {},
          "execution_count": 14
        }
      ]
    },
    {
      "cell_type": "code",
      "source": [
        "# plot one row from the unified train and validation data\n",
        "m_rows = 1\n",
        "n_cols = 1\n",
        "start_ind = 6\n",
        "df_train_val_to_plot = df_train_val.iloc[start_ind:start_ind+m_rows*n_cols,:]\n",
        "\n",
        "plot_images(df_train_val_to_plot, int_to_letter_dict,m=m_rows,n=n_cols)"
      ],
      "metadata": {
        "colab": {
          "base_uri": "https://localhost:8080/",
          "height": 225
        },
        "id": "TTgMqzRtdED6",
        "outputId": "3c813149-dfd9-4da4-e12f-0a1fe81c1dfc"
      },
      "execution_count": 45,
      "outputs": [
        {
          "output_type": "display_data",
          "data": {
            "text/plain": [
              "<Figure size 216x216 with 1 Axes>"
            ],
            "image/png": "[encoded data removed]"
          },
          "metadata": {
            "needs_background": "light"
          }
        }
      ]
    },
    {
      "cell_type": "markdown",
      "source": [
        "### **Note #1**\n",
        "\n",
        "As we see above, each row in the data represents an image. The first column is the label value and the rest are the pixels values. Because the images are of size 28x28, then we have 784 pixels values in total."
      ],
      "metadata": {
        "id": "tky7zwHBt6Z7"
      }
    },
    {
      "cell_type": "markdown",
      "source": [
        "## **1) High-level understanding of the data before splitting**"
      ],
      "metadata": {
        "id": "XeDZx2K40l9i"
      }
    },
    {
      "cell_type": "code",
      "source": [
        "# data shape\n",
        "print('Shape the unified training and validation set: ', df_train_val.shape)\n",
        "print('Shape of samples in the test set: ', df_test.shape)"
      ],
      "metadata": {
        "id": "np42BodGsiT7",
        "outputId": "be3774f3-654f-47be-b427-e4f6fd2345b3",
        "colab": {
          "base_uri": "https://localhost:8080/"
        }
      },
      "execution_count": 46,
      "outputs": [
        {
          "output_type": "stream",
          "name": "stdout",
          "text": [
            "Shape the unified training and validation set:  (27455, 785)\n",
            "Shape of samples in the test set:  (7172, 785)\n"
          ]
        }
      ]
    },
    {
      "cell_type": "code",
      "source": [
        "# check for maximum and minimum pixels values and verify there is no missing values in the data \n",
        "print(\"Missing values in the unified training and validation set: \", df_train_val.isnull().sum().sum())\n",
        "print(\"Missing values in the test set: \", df_test.isnull().sum().sum(), \"\\n\")\n",
        "print(\"Maximum pixel value in unified training and validation set: \", df_train_val.iloc[:,1:].max().max())\n",
        "print(\"Minimum pixel value in unified training and validation set: \", df_train_val.iloc[:,1:].min().min())"
      ],
      "metadata": {
        "id": "RYfjQZ7SymiN",
        "outputId": "72daa2fc-dbaa-4237-c083-175cd63e1730",
        "colab": {
          "base_uri": "https://localhost:8080/"
        }
      },
      "execution_count": 47,
      "outputs": [
        {
          "output_type": "stream",
          "name": "stdout",
          "text": [
            "Missing values in the unified training and validation set:  0\n",
            "Missing values in the test set:  0 \n",
            "\n",
            "Maximum pixel value in unified training and validation set:  255\n",
            "Minimum pixel value in unified training and validation set:  0\n"
          ]
        }
      ]
    },
    {
      "cell_type": "code",
      "source": [
        "# calculate the number of sample for each label in the unified training and validation set\n",
        "count_label = df_train_val.groupby('label').size()\n",
        "count_label\n",
        "# count_label_percentage = count_label/len(df_train_val.axes[0])\n",
        "# count_label_percentage"
      ],
      "metadata": {
        "id": "3qb4X28Qzkmh",
        "outputId": "f00d326c-60c3-4578-8e68-9a95e4f4d0a3",
        "colab": {
          "base_uri": "https://localhost:8080/"
        }
      },
      "execution_count": 48,
      "outputs": [
        {
          "output_type": "execute_result",
          "data": {
            "text/plain": [
              "label\n",
              "0     1126\n",
              "1     1010\n",
              "2     1144\n",
              "3     1196\n",
              "4      957\n",
              "5     1204\n",
              "6     1090\n",
              "7     1013\n",
              "8     1162\n",
              "10    1114\n",
              "11    1241\n",
              "12    1055\n",
              "13    1151\n",
              "14    1196\n",
              "15    1088\n",
              "16    1279\n",
              "17    1294\n",
              "18    1199\n",
              "19    1186\n",
              "20    1161\n",
              "21    1082\n",
              "22    1225\n",
              "23    1164\n",
              "24    1118\n",
              "dtype: int64"
            ]
          },
          "metadata": {},
          "execution_count": 48
        }
      ]
    },
    {
      "cell_type": "code",
      "source": [
        "# presenting appearence percentage for each label in a bar plot\n",
        "bar_graph_plot(count_label, x_label='Label',y_label='Label Count',Title='Number of Samples for Each Label- Train & Val')"
      ],
      "metadata": {
        "id": "DGlYsh726bFo",
        "outputId": "c4d06d58-54c1-4fca-f218-e2f53c657ec5",
        "colab": {
          "base_uri": "https://localhost:8080/",
          "height": 295
        }
      },
      "execution_count": 49,
      "outputs": [
        {
          "output_type": "display_data",
          "data": {
            "text/plain": [
              "<Figure size 432x288 with 1 Axes>"
            ],
            "image/png": "[encoded data removed]"
          },
          "metadata": {
            "needs_background": "light"
          }
        }
      ]
    },
    {
      "cell_type": "code",
      "source": [
        "# calculate the distance from the average number of images per label (in terms of percentage)\n",
        "label_avg_count = count_label.sum()//24\n",
        "print(\"Average number of samples per label is: \", label_avg_count)\n",
        "label_diffrence_from_avg = abs(count_label - label_avg_count)/label_avg_count\n",
        "label_diffrence_from_avg"
      ],
      "metadata": {
        "id": "X2JXRkxw0A1Q",
        "outputId": "1823445a-8346-4085-9a4d-d65062d8b113",
        "colab": {
          "base_uri": "https://localhost:8080/"
        }
      },
      "execution_count": 50,
      "outputs": [
        {
          "output_type": "stream",
          "name": "stdout",
          "text": [
            "Average number of samples per label is:  1143\n"
          ]
        },
        {
          "output_type": "execute_result",
          "data": {
            "text/plain": [
              "label\n",
              "0     0.014873\n",
              "1     0.116360\n",
              "2     0.000875\n",
              "3     0.046369\n",
              "4     0.162730\n",
              "5     0.053368\n",
              "6     0.046369\n",
              "7     0.113736\n",
              "8     0.016623\n",
              "10    0.025372\n",
              "11    0.085739\n",
              "12    0.076990\n",
              "13    0.006999\n",
              "14    0.046369\n",
              "15    0.048119\n",
              "16    0.118985\n",
              "17    0.132108\n",
              "18    0.048994\n",
              "19    0.037620\n",
              "20    0.015748\n",
              "21    0.053368\n",
              "22    0.071741\n",
              "23    0.018373\n",
              "24    0.021872\n",
              "dtype: float64"
            ]
          },
          "metadata": {},
          "execution_count": 50
        }
      ]
    },
    {
      "cell_type": "code",
      "source": [
        "# presenting distance from the average number of images per label in a bar plot\n",
        "bar_graph_plot(label_diffrence_from_avg, x_label='Label',y_label='Distance Percentage',Title='Distance From Average Value of Images Per Label- Train & Val (%)')"
      ],
      "metadata": {
        "id": "NifpJVuo7KEV",
        "outputId": "40df9c0c-c321-49e1-930a-867e58eb0878",
        "colab": {
          "base_uri": "https://localhost:8080/",
          "height": 295
        }
      },
      "execution_count": 51,
      "outputs": [
        {
          "output_type": "display_data",
          "data": {
            "text/plain": [
              "<Figure size 432x288 with 1 Axes>"
            ],
            "image/png": "[encoded data removed]"
          },
          "metadata": {
            "needs_background": "light"
          }
        }
      ]
    },
    {
      "cell_type": "code",
      "source": [
        "# calculate expectation probability distribution properties\n",
        "mean_train_and_val = df_train_val.iloc[:,1:].mean(axis=0) # size (784,)\n",
        "var_train_and_val = df_train_val.iloc[:,1:].var(axis=0) # size (784,)\n",
        "print(\"For each pixel in df_train_val, the mean is around: \", mean_train_and_val.mean())\n",
        "print(\"For each pixel in df_train_val, the variance is around: \", var_train_and_val.mean())"
      ],
      "metadata": {
        "id": "JPOt371oK4_c",
        "outputId": "701762a1-e1e1-49d1-a0f6-595454d104cb",
        "colab": {
          "base_uri": "https://localhost:8080/"
        }
      },
      "execution_count": 52,
      "outputs": [
        {
          "output_type": "stream",
          "name": "stdout",
          "text": [
            "For each pixel in df_train_val, the mean is around:  159.2910081989452\n",
            "For each pixel in df_train_val, the variance is around:  2181.1783633275427\n"
          ]
        }
      ]
    },
    {
      "cell_type": "markdown",
      "source": [
        "### **Note #2**\n",
        "\n",
        "We can see that the difference between each label's number of samples to the average number of samples is around 5% which is pretty small in respect to 1143, thus we are considering our data to be balanced in terms of training samples per label.\n",
        "\n",
        "In addition, just to be accurate, note that the standard deviation is the square root of the variance and it represents the amount of variability in the pixel intensities across the images. In our case we have ${σ≃46}$, which make scence in respect to our pixels range of values. "
      ],
      "metadata": {
        "id": "MVUXy8vTJDmc"
      }
    },
    {
      "cell_type": "markdown",
      "source": [
        "## **2) Splitting the data into test and validation sets and recheck the new training distribution**"
      ],
      "metadata": {
        "id": "MGbeKnayRXPk"
      }
    },
    {
      "cell_type": "code",
      "source": [
        "# Split the training data into train and validation sets\n",
        "val_train_factor = 0.2 # df_val_size = val_train_factor*df_train_size\n",
        "df_train, df_val = train_test_split(df_train_val, test_size=val_train_factor, random_state=42)\n",
        "\n",
        "# reset indexes\n",
        "df_train.reset_index(drop=True, inplace=True)\n",
        "df_val.reset_index(drop=True, inplace=True)\n",
        "\n",
        "print('Shape of the unified training and validation set: ', df_train_val.shape)\n",
        "print('Shape of the training set: ', df_train.shape)\n",
        "print('Shape of the validation set: ', df_val.shape)\n",
        "\n",
        "df_train.head()"
      ],
      "metadata": {
        "id": "Hs5QDpRmSkyd",
        "outputId": "89820386-26fb-4862-ccb4-de513bad3a4e",
        "colab": {
          "base_uri": "https://localhost:8080/",
          "height": 353
        }
      },
      "execution_count": 53,
      "outputs": [
        {
          "output_type": "stream",
          "name": "stdout",
          "text": [
            "Shape of the unified training and validation set:  (27455, 785)\n",
            "Shape of the training set:  (21964, 785)\n",
            "Shape of the validation set:  (5491, 785)\n"
          ]
        },
        {
          "output_type": "execute_result",
          "data": {
            "text/plain": [
              "   label  pixel1  pixel2  pixel3  pixel4  pixel5  pixel6  pixel7  pixel8  \\\n",
              "0     10      97      65     128      44      17      67      64      66   \n",
              "1     15     215     216     217     223     206     176     176     191   \n",
              "2      0     144     145     146     147     150     150     151     151   \n",
              "3     10      64      73      83      96     101     108     111     115   \n",
              "4     22      83      88      57      75     101      37      17      63   \n",
              "\n",
              "   pixel9  ...  pixel775  pixel776  pixel777  pixel778  pixel779  pixel780  \\\n",
              "0      69  ...       189       180       134        97        76        86   \n",
              "1     106  ...       133       133       132       132       134       124   \n",
              "2     151  ...        78       107       183       187       171       160   \n",
              "3     118  ...       163       167       169       169       170       173   \n",
              "4      69  ...        87        71        52        95       183       176   \n",
              "\n",
              "   pixel781  pixel782  pixel783  pixel784  \n",
              "0        94        90        91        91  \n",
              "1       167       124        23       140  \n",
              "2       131       134       101        72  \n",
              "3       173       175       175       176  \n",
              "4       180       182       184       186  \n",
              "\n",
              "[5 rows x 785 columns]"
            ],
            "text/html": [
              "\n",
              "  <div id=\"df-f611662b-d92d-488b-a5d7-c662eb6ad787\">\n",
              "    <div class=\"colab-df-container\">\n",
              "      <div>\n",
              "<style scoped>\n",
              "    .dataframe tbody tr th:only-of-type {\n",
              "        vertical-align: middle;\n",
              "    }\n",
              "\n",
              "    .dataframe tbody tr th {\n",
              "        vertical-align: top;\n",
              "    }\n",
              "\n",
              "    .dataframe thead th {\n",
              "        text-align: right;\n",
              "    }\n",
              "</style>\n",
              "<table border=\"1\" class=\"dataframe\">\n",
              "  <thead>\n",
              "    <tr style=\"text-align: right;\">\n",
              "      <th></th>\n",
              "      <th>label</th>\n",
              "      <th>pixel1</th>\n",
              "      <th>pixel2</th>\n",
              "      <th>pixel3</th>\n",
              "      <th>pixel4</th>\n",
              "      <th>pixel5</th>\n",
              "      <th>pixel6</th>\n",
              "      <th>pixel7</th>\n",
              "      <th>pixel8</th>\n",
              "      <th>pixel9</th>\n",
              "      <th>...</th>\n",
              "      <th>pixel775</th>\n",
              "      <th>pixel776</th>\n",
              "      <th>pixel777</th>\n",
              "      <th>pixel778</th>\n",
              "      <th>pixel779</th>\n",
              "      <th>pixel780</th>\n",
              "      <th>pixel781</th>\n",
              "      <th>pixel782</th>\n",
              "      <th>pixel783</th>\n",
              "      <th>pixel784</th>\n",
              "    </tr>\n",
              "  </thead>\n",
              "  <tbody>\n",
              "    <tr>\n",
              "      <th>0</th>\n",
              "      <td>10</td>\n",
              "      <td>97</td>\n",
              "      <td>65</td>\n",
              "      <td>128</td>\n",
              "      <td>44</td>\n",
              "      <td>17</td>\n",
              "      <td>67</td>\n",
              "      <td>64</td>\n",
              "      <td>66</td>\n",
              "      <td>69</td>\n",
              "      <td>...</td>\n",
              "      <td>189</td>\n",
              "      <td>180</td>\n",
              "      <td>134</td>\n",
              "      <td>97</td>\n",
              "      <td>76</td>\n",
              "      <td>86</td>\n",
              "      <td>94</td>\n",
              "      <td>90</td>\n",
              "      <td>91</td>\n",
              "      <td>91</td>\n",
              "    </tr>\n",
              "    <tr>\n",
              "      <th>1</th>\n",
              "      <td>15</td>\n",
              "      <td>215</td>\n",
              "      <td>216</td>\n",
              "      <td>217</td>\n",
              "      <td>223</td>\n",
              "      <td>206</td>\n",
              "      <td>176</td>\n",
              "      <td>176</td>\n",
              "      <td>191</td>\n",
              "      <td>106</td>\n",
              "      <td>...</td>\n",
              "      <td>133</td>\n",
              "      <td>133</td>\n",
              "      <td>132</td>\n",
              "      <td>132</td>\n",
              "      <td>134</td>\n",
              "      <td>124</td>\n",
              "      <td>167</td>\n",
              "      <td>124</td>\n",
              "      <td>23</td>\n",
              "      <td>140</td>\n",
              "    </tr>\n",
              "    <tr>\n",
              "      <th>2</th>\n",
              "      <td>0</td>\n",
              "      <td>144</td>\n",
              "      <td>145</td>\n",
              "      <td>146</td>\n",
              "      <td>147</td>\n",
              "      <td>150</td>\n",
              "      <td>150</td>\n",
              "      <td>151</td>\n",
              "      <td>151</td>\n",
              "      <td>151</td>\n",
              "      <td>...</td>\n",
              "      <td>78</td>\n",
              "      <td>107</td>\n",
              "      <td>183</td>\n",
              "      <td>187</td>\n",
              "      <td>171</td>\n",
              "      <td>160</td>\n",
              "      <td>131</td>\n",
              "      <td>134</td>\n",
              "      <td>101</td>\n",
              "      <td>72</td>\n",
              "    </tr>\n",
              "    <tr>\n",
              "      <th>3</th>\n",
              "      <td>10</td>\n",
              "      <td>64</td>\n",
              "      <td>73</td>\n",
              "      <td>83</td>\n",
              "      <td>96</td>\n",
              "      <td>101</td>\n",
              "      <td>108</td>\n",
              "      <td>111</td>\n",
              "      <td>115</td>\n",
              "      <td>118</td>\n",
              "      <td>...</td>\n",
              "      <td>163</td>\n",
              "      <td>167</td>\n",
              "      <td>169</td>\n",
              "      <td>169</td>\n",
              "      <td>170</td>\n",
              "      <td>173</td>\n",
              "      <td>173</td>\n",
              "      <td>175</td>\n",
              "      <td>175</td>\n",
              "      <td>176</td>\n",
              "    </tr>\n",
              "    <tr>\n",
              "      <th>4</th>\n",
              "      <td>22</td>\n",
              "      <td>83</td>\n",
              "      <td>88</td>\n",
              "      <td>57</td>\n",
              "      <td>75</td>\n",
              "      <td>101</td>\n",
              "      <td>37</td>\n",
              "      <td>17</td>\n",
              "      <td>63</td>\n",
              "      <td>69</td>\n",
              "      <td>...</td>\n",
              "      <td>87</td>\n",
              "      <td>71</td>\n",
              "      <td>52</td>\n",
              "      <td>95</td>\n",
              "      <td>183</td>\n",
              "      <td>176</td>\n",
              "      <td>180</td>\n",
              "      <td>182</td>\n",
              "      <td>184</td>\n",
              "      <td>186</td>\n",
              "    </tr>\n",
              "  </tbody>\n",
              "</table>\n",
              "<p>5 rows × 785 columns</p>\n",
              "</div>\n",
              "      <button class=\"colab-df-convert\" onclick=\"convertToInteractive('df-f611662b-d92d-488b-a5d7-c662eb6ad787')\"\n",
              "              title=\"Convert this dataframe to an interactive table.\"\n",
              "              style=\"display:none;\">\n",
              "        \n",
              "  <svg xmlns=\"http://www.w3.org/2000/svg\" height=\"24px\"viewBox=\"0 0 24 24\"\n",
              "       width=\"24px\">\n",
              "    <path d=\"M0 0h24v24H0V0z\" fill=\"none\"/>\n",
              "    <path d=\"M18.56 5.44l.94 2.06.94-2.06 2.06-.94-2.06-.94-.94-2.06-.94 2.06-2.06.94zm-11 1L8.5 8.5l.94-2.06 2.06-.94-2.06-.94L8.5 2.5l-.94 2.06-2.06.94zm10 10l.94 2.06.94-2.06 2.06-.94-2.06-.94-.94-2.06-.94 2.06-2.06.94z\"/><path d=\"M17.41 7.96l-1.37-1.37c-.4-.4-.92-.59-1.43-.59-.52 0-1.04.2-1.43.59L10.3 9.45l-7.72 7.72c-.78.78-.78 2.05 0 2.83L4 21.41c.39.39.9.59 1.41.59.51 0 1.02-.2 1.41-.59l7.78-7.78 2.81-2.81c.8-.78.8-2.07 0-2.86zM5.41 20L4 18.59l7.72-7.72 1.47 1.35L5.41 20z\"/>\n",
              "  </svg>\n",
              "      </button>\n",
              "      \n",
              "  <style>\n",
              "    .colab-df-container {\n",
              "      display:flex;\n",
              "      flex-wrap:wrap;\n",
              "      gap: 12px;\n",
              "    }\n",
              "\n",
              "    .colab-df-convert {\n",
              "      background-color: #E8F0FE;\n",
              "      border: none;\n",
              "      border-radius: 50%;\n",
              "      cursor: pointer;\n",
              "      display: none;\n",
              "      fill: #1967D2;\n",
              "      height: 32px;\n",
              "      padding: 0 0 0 0;\n",
              "      width: 32px;\n",
              "    }\n",
              "\n",
              "    .colab-df-convert:hover {\n",
              "      background-color: #E2EBFA;\n",
              "      box-shadow: 0px 1px 2px rgba(60, 64, 67, 0.3), 0px 1px 3px 1px rgba(60, 64, 67, 0.15);\n",
              "      fill: #174EA6;\n",
              "    }\n",
              "\n",
              "    [theme=dark] .colab-df-convert {\n",
              "      background-color: #3B4455;\n",
              "      fill: #D2E3FC;\n",
              "    }\n",
              "\n",
              "    [theme=dark] .colab-df-convert:hover {\n",
              "      background-color: #434B5C;\n",
              "      box-shadow: 0px 1px 3px 1px rgba(0, 0, 0, 0.15);\n",
              "      filter: drop-shadow(0px 1px 2px rgba(0, 0, 0, 0.3));\n",
              "      fill: #FFFFFF;\n",
              "    }\n",
              "  </style>\n",
              "\n",
              "      <script>\n",
              "        const buttonEl =\n",
              "          document.querySelector('#df-f611662b-d92d-488b-a5d7-c662eb6ad787 button.colab-df-convert');\n",
              "        buttonEl.style.display =\n",
              "          google.colab.kernel.accessAllowed ? 'block' : 'none';\n",
              "\n",
              "        async function convertToInteractive(key) {\n",
              "          const element = document.querySelector('#df-f611662b-d92d-488b-a5d7-c662eb6ad787');\n",
              "          const dataTable =\n",
              "            await google.colab.kernel.invokeFunction('convertToInteractive',\n",
              "                                                     [key], {});\n",
              "          if (!dataTable) return;\n",
              "\n",
              "          const docLinkHtml = 'Like what you see? Visit the ' +\n",
              "            '<a target=\"_blank\" href=https://colab.research.google.com/notebooks/data_table.ipynb>data table notebook</a>'\n",
              "            + ' to learn more about interactive tables.';\n",
              "          element.innerHTML = '';\n",
              "          dataTable['output_type'] = 'display_data';\n",
              "          await google.colab.output.renderOutput(dataTable, element);\n",
              "          const docLink = document.createElement('div');\n",
              "          docLink.innerHTML = docLinkHtml;\n",
              "          element.appendChild(docLink);\n",
              "        }\n",
              "      </script>\n",
              "    </div>\n",
              "  </div>\n",
              "  "
            ]
          },
          "metadata": {},
          "execution_count": 53
        }
      ]
    },
    {
      "cell_type": "code",
      "source": [
        "# plot samples from training set\n",
        "m_rows = 4\n",
        "n_cols = 2\n",
        "start_ind = 5\n",
        "df_train_to_plot = df_train.iloc[start_ind:start_ind+m_rows*n_cols,:]\n",
        "\n",
        "plot_images(df_train_to_plot, int_to_letter_dict,m=m_rows,n=n_cols)"
      ],
      "metadata": {
        "id": "kcBtRDlIfqFU",
        "outputId": "e50d4756-1d65-4044-bc4f-0977b160204b",
        "colab": {
          "base_uri": "https://localhost:8080/",
          "height": 873
        }
      },
      "execution_count": 54,
      "outputs": [
        {
          "output_type": "display_data",
          "data": {
            "text/plain": [
              "<Figure size 864x864 with 8 Axes>"
            ],
            "image/png": "[encoded data removed]"
          },
          "metadata": {
            "needs_background": "light"
          }
        }
      ]
    },
    {
      "cell_type": "code",
      "source": [
        "# calculate the appearence percentage for each label in the training set\n",
        "count_label_train = df_train.groupby('label').size() \n",
        "# count_label_percentage_train = count_label_train/len(df_train.axes[0])\n",
        "# count_label_percentage_train\n",
        "\n",
        "bar_graph_plot(count_label_train, x_label='Label',y_label='Percentage',Title='Appearence Percentage for Each Label- Train (%)')"
      ],
      "metadata": {
        "id": "yNOCXVQ6W_GS",
        "outputId": "a152e2ca-471d-4036-c10f-5accd8bba36b",
        "colab": {
          "base_uri": "https://localhost:8080/",
          "height": 295
        }
      },
      "execution_count": 55,
      "outputs": [
        {
          "output_type": "display_data",
          "data": {
            "text/plain": [
              "<Figure size 432x288 with 1 Axes>"
            ],
            "image/png": "[encoded data removed]"
          },
          "metadata": {
            "needs_background": "light"
          }
        }
      ]
    },
    {
      "cell_type": "code",
      "source": [
        "# calculate the distance from the average number of images per label (in terms of percentage)\n",
        "label_avg_count_train = count_label_train.sum()//24\n",
        "label_diffrence_from_avg_train = abs(count_label_train - label_avg_count_train)/label_avg_count_train\n",
        "label_diffrence_from_avg_train\n",
        "\n",
        "print(\"Average number of samples per label is: \", label_avg_count_train)\n",
        "bar_graph_plot(label_diffrence_from_avg_train, x_label='Label',y_label='Percentage',Title='Distance From Average Value of Images Per Label- Train (%)')"
      ],
      "metadata": {
        "id": "6avOISnqXbwX",
        "outputId": "dded9c27-39ed-423a-c442-f487c82d304c",
        "colab": {
          "base_uri": "https://localhost:8080/",
          "height": 313
        }
      },
      "execution_count": 56,
      "outputs": [
        {
          "output_type": "stream",
          "name": "stdout",
          "text": [
            "Average number of samples per label is:  915\n"
          ]
        },
        {
          "output_type": "display_data",
          "data": {
            "text/plain": [
              "<Figure size 432x288 with 1 Axes>"
            ],
            "image/png": "[encoded data removed]"
          },
          "metadata": {
            "needs_background": "light"
          }
        }
      ]
    },
    {
      "cell_type": "markdown",
      "source": [
        "###**Note #3**\n",
        "\n",
        "Here we used the 'train_test_split' function in order to split the data into train and validation sets while choosing 'random_seed' to be 42 and 'val_train_factor' to be 0.2 (which means the division will bve 80% and 20%). Those values give us the ability to stay with the same division everytime we run the code cell with the same parameters. \n",
        "\n",
        "The parameters values we just mentioned ('random_seed' and 'val_train_factor') were choosed in such a way that they maintain the training set balanced in terms of samples per label (~5% difference from average) "
      ],
      "metadata": {
        "id": "J1ZEW8n1LS8i"
      }
    },
    {
      "cell_type": "markdown",
      "source": [
        "# **Section 4- Describing the Process of Learning**\n",
        "\n",
        "Our learning process will consist the following steps: \n",
        "\n",
        "**1)** Creating functions that will help us to prepare our data to the training part and to evaluate the model's accuracy after finishing the training part\n",
        "\n",
        "**2)** Creating a training function that will be responsible for parameters adaptation for a given model and input training data\n",
        "\n",
        "**3)** Suggesting few models' architecture which will be used as the classification network\n",
        "\n",
        "**4)** Compare the results obtained from different models and different sets of hyper-parameters. This step will also include testing the network on the images obtained from our personal phones\n",
        "\n"
      ],
      "metadata": {
        "id": "EsiqLDW6ONh8"
      }
    },
    {
      "cell_type": "markdown",
      "source": [
        "## **1) Preperation and Evaluation Functions Creation**\n",
        "Below you can see the functions that will be part of the data processing and vizualitation during the training and analzing part.\n",
        "\n",
        "${\\circ}$ **data_loader-** Responsible on transforming the data from large and unified pixels-labels dataframe into a data loader object that contains batches (groups) of the data with separation between the pixels and the labels. In addition, due to the result we got in section 3.1, the function will normalize the pixels values by dividing in 255. The normalization will improve the performance and stability of the model and also make the model more robust to changes.\n",
        "\n",
        "${\\circ}$ **test-** Responsible for measuring the accuracy of a fixed model parameters\n",
        "\n",
        "${\\circ}$ **plot_learning_curve-** Responsible for visualizing the accuracy and loss results"
      ],
      "metadata": {
        "id": "2K557cB5UU6j"
      }
    },
    {
      "cell_type": "code",
      "source": [
        "def data_loader(dataframe ,batch_size ,shuffle= True ):\n",
        "  '''\n",
        "  Inputs:\n",
        "  dataframe: dataframe of size Nx785 that contains the training set. First column is the label\n",
        "  batch_size: The data will be devided into data_length/batch_size groups \n",
        "\n",
        "  Output:\n",
        "  DataLoader object that will contain the batches of our data as a set of 28x28 tensors images and their coresponding true labels\n",
        "  '''\n",
        "  \n",
        "  # Convert the dataframe into a PyTorch tensor\n",
        "  data = torch.tensor(dataframe.values, dtype=torch.float32)\n",
        "  \n",
        "  # Split the data into inputs (images) and targets (labels)\n",
        "  inputs = data[:, 1:]\n",
        "  targets = data[:, 0].long()\n",
        "  \n",
        "  # Normalize the inputs\n",
        "  inputs = inputs / 255.0\n",
        "  \n",
        "  # Convert inputs into a 4D tensor for processing by the model\n",
        "  inputs = inputs.view(-1, 1, 28, 28)\n",
        "  \n",
        "  # Create a TensorDataset from the inputs and targets\n",
        "  dataset = TensorDataset(inputs, targets)\n",
        "  \n",
        "  # Create a DataLoader from the dataset\n",
        "  return DataLoader(dataset, batch_size=batch_size, shuffle=shuffle)"
      ],
      "metadata": {
        "id": "xgY5puK_5ns9"
      },
      "execution_count": 57,
      "outputs": []
    },
    {
      "cell_type": "code",
      "source": [
        "# example \n",
        "example_data = df_train.iloc[0:6,:] # take first 6 rows from training set (3 row images)\n",
        "example_data.head(6)"
      ],
      "metadata": {
        "colab": {
          "base_uri": "https://localhost:8080/",
          "height": 330
        },
        "id": "nJeA7hOSWmfC",
        "outputId": "3cd027a0-9bba-4133-c8ce-78132150b0c4"
      },
      "execution_count": 58,
      "outputs": [
        {
          "output_type": "execute_result",
          "data": {
            "text/plain": [
              "   label  pixel1  pixel2  pixel3  pixel4  pixel5  pixel6  pixel7  pixel8  \\\n",
              "0     10      97      65     128      44      17      67      64      66   \n",
              "1     15     215     216     217     223     206     176     176     191   \n",
              "2      0     144     145     146     147     150     150     151     151   \n",
              "3     10      64      73      83      96     101     108     111     115   \n",
              "4     22      83      88      57      75     101      37      17      63   \n",
              "5      8     176     176     177     177     177     175     175     176   \n",
              "\n",
              "   pixel9  ...  pixel775  pixel776  pixel777  pixel778  pixel779  pixel780  \\\n",
              "0      69  ...       189       180       134        97        76        86   \n",
              "1     106  ...       133       133       132       132       134       124   \n",
              "2     151  ...        78       107       183       187       171       160   \n",
              "3     118  ...       163       167       169       169       170       173   \n",
              "4      69  ...        87        71        52        95       183       176   \n",
              "5     177  ...       169       146       181       198       151       112   \n",
              "\n",
              "   pixel781  pixel782  pixel783  pixel784  \n",
              "0        94        90        91        91  \n",
              "1       167       124        23       140  \n",
              "2       131       134       101        72  \n",
              "3       173       175       175       176  \n",
              "4       180       182       184       186  \n",
              "5       128       157       180       181  \n",
              "\n",
              "[6 rows x 785 columns]"
            ],
            "text/html": [
              "\n",
              "  <div id=\"df-107e2eac-5c50-4d9c-8ee9-ae0f51f8e708\">\n",
              "    <div class=\"colab-df-container\">\n",
              "      <div>\n",
              "<style scoped>\n",
              "    .dataframe tbody tr th:only-of-type {\n",
              "        vertical-align: middle;\n",
              "    }\n",
              "\n",
              "    .dataframe tbody tr th {\n",
              "        vertical-align: top;\n",
              "    }\n",
              "\n",
              "    .dataframe thead th {\n",
              "        text-align: right;\n",
              "    }\n",
              "</style>\n",
              "<table border=\"1\" class=\"dataframe\">\n",
              "  <thead>\n",
              "    <tr style=\"text-align: right;\">\n",
              "      <th></th>\n",
              "      <th>label</th>\n",
              "      <th>pixel1</th>\n",
              "      <th>pixel2</th>\n",
              "      <th>pixel3</th>\n",
              "      <th>pixel4</th>\n",
              "      <th>pixel5</th>\n",
              "      <th>pixel6</th>\n",
              "      <th>pixel7</th>\n",
              "      <th>pixel8</th>\n",
              "      <th>pixel9</th>\n",
              "      <th>...</th>\n",
              "      <th>pixel775</th>\n",
              "      <th>pixel776</th>\n",
              "      <th>pixel777</th>\n",
              "      <th>pixel778</th>\n",
              "      <th>pixel779</th>\n",
              "      <th>pixel780</th>\n",
              "      <th>pixel781</th>\n",
              "      <th>pixel782</th>\n",
              "      <th>pixel783</th>\n",
              "      <th>pixel784</th>\n",
              "    </tr>\n",
              "  </thead>\n",
              "  <tbody>\n",
              "    <tr>\n",
              "      <th>0</th>\n",
              "      <td>10</td>\n",
              "      <td>97</td>\n",
              "      <td>65</td>\n",
              "      <td>128</td>\n",
              "      <td>44</td>\n",
              "      <td>17</td>\n",
              "      <td>67</td>\n",
              "      <td>64</td>\n",
              "      <td>66</td>\n",
              "      <td>69</td>\n",
              "      <td>...</td>\n",
              "      <td>189</td>\n",
              "      <td>180</td>\n",
              "      <td>134</td>\n",
              "      <td>97</td>\n",
              "      <td>76</td>\n",
              "      <td>86</td>\n",
              "      <td>94</td>\n",
              "      <td>90</td>\n",
              "      <td>91</td>\n",
              "      <td>91</td>\n",
              "    </tr>\n",
              "    <tr>\n",
              "      <th>1</th>\n",
              "      <td>15</td>\n",
              "      <td>215</td>\n",
              "      <td>216</td>\n",
              "      <td>217</td>\n",
              "      <td>223</td>\n",
              "      <td>206</td>\n",
              "      <td>176</td>\n",
              "      <td>176</td>\n",
              "      <td>191</td>\n",
              "      <td>106</td>\n",
              "      <td>...</td>\n",
              "      <td>133</td>\n",
              "      <td>133</td>\n",
              "      <td>132</td>\n",
              "      <td>132</td>\n",
              "      <td>134</td>\n",
              "      <td>124</td>\n",
              "      <td>167</td>\n",
              "      <td>124</td>\n",
              "      <td>23</td>\n",
              "      <td>140</td>\n",
              "    </tr>\n",
              "    <tr>\n",
              "      <th>2</th>\n",
              "      <td>0</td>\n",
              "      <td>144</td>\n",
              "      <td>145</td>\n",
              "      <td>146</td>\n",
              "      <td>147</td>\n",
              "      <td>150</td>\n",
              "      <td>150</td>\n",
              "      <td>151</td>\n",
              "      <td>151</td>\n",
              "      <td>151</td>\n",
              "      <td>...</td>\n",
              "      <td>78</td>\n",
              "      <td>107</td>\n",
              "      <td>183</td>\n",
              "      <td>187</td>\n",
              "      <td>171</td>\n",
              "      <td>160</td>\n",
              "      <td>131</td>\n",
              "      <td>134</td>\n",
              "      <td>101</td>\n",
              "      <td>72</td>\n",
              "    </tr>\n",
              "    <tr>\n",
              "      <th>3</th>\n",
              "      <td>10</td>\n",
              "      <td>64</td>\n",
              "      <td>73</td>\n",
              "      <td>83</td>\n",
              "      <td>96</td>\n",
              "      <td>101</td>\n",
              "      <td>108</td>\n",
              "      <td>111</td>\n",
              "      <td>115</td>\n",
              "      <td>118</td>\n",
              "      <td>...</td>\n",
              "      <td>163</td>\n",
              "      <td>167</td>\n",
              "      <td>169</td>\n",
              "      <td>169</td>\n",
              "      <td>170</td>\n",
              "      <td>173</td>\n",
              "      <td>173</td>\n",
              "      <td>175</td>\n",
              "      <td>175</td>\n",
              "      <td>176</td>\n",
              "    </tr>\n",
              "    <tr>\n",
              "      <th>4</th>\n",
              "      <td>22</td>\n",
              "      <td>83</td>\n",
              "      <td>88</td>\n",
              "      <td>57</td>\n",
              "      <td>75</td>\n",
              "      <td>101</td>\n",
              "      <td>37</td>\n",
              "      <td>17</td>\n",
              "      <td>63</td>\n",
              "      <td>69</td>\n",
              "      <td>...</td>\n",
              "      <td>87</td>\n",
              "      <td>71</td>\n",
              "      <td>52</td>\n",
              "      <td>95</td>\n",
              "      <td>183</td>\n",
              "      <td>176</td>\n",
              "      <td>180</td>\n",
              "      <td>182</td>\n",
              "      <td>184</td>\n",
              "      <td>186</td>\n",
              "    </tr>\n",
              "    <tr>\n",
              "      <th>5</th>\n",
              "      <td>8</td>\n",
              "      <td>176</td>\n",
              "      <td>176</td>\n",
              "      <td>177</td>\n",
              "      <td>177</td>\n",
              "      <td>177</td>\n",
              "      <td>175</td>\n",
              "      <td>175</td>\n",
              "      <td>176</td>\n",
              "      <td>177</td>\n",
              "      <td>...</td>\n",
              "      <td>169</td>\n",
              "      <td>146</td>\n",
              "      <td>181</td>\n",
              "      <td>198</td>\n",
              "      <td>151</td>\n",
              "      <td>112</td>\n",
              "      <td>128</td>\n",
              "      <td>157</td>\n",
              "      <td>180</td>\n",
              "      <td>181</td>\n",
              "    </tr>\n",
              "  </tbody>\n",
              "</table>\n",
              "<p>6 rows × 785 columns</p>\n",
              "</div>\n",
              "      <button class=\"colab-df-convert\" onclick=\"convertToInteractive('df-107e2eac-5c50-4d9c-8ee9-ae0f51f8e708')\"\n",
              "              title=\"Convert this dataframe to an interactive table.\"\n",
              "              style=\"display:none;\">\n",
              "        \n",
              "  <svg xmlns=\"http://www.w3.org/2000/svg\" height=\"24px\"viewBox=\"0 0 24 24\"\n",
              "       width=\"24px\">\n",
              "    <path d=\"M0 0h24v24H0V0z\" fill=\"none\"/>\n",
              "    <path d=\"M18.56 5.44l.94 2.06.94-2.06 2.06-.94-2.06-.94-.94-2.06-.94 2.06-2.06.94zm-11 1L8.5 8.5l.94-2.06 2.06-.94-2.06-.94L8.5 2.5l-.94 2.06-2.06.94zm10 10l.94 2.06.94-2.06 2.06-.94-2.06-.94-.94-2.06-.94 2.06-2.06.94z\"/><path d=\"M17.41 7.96l-1.37-1.37c-.4-.4-.92-.59-1.43-.59-.52 0-1.04.2-1.43.59L10.3 9.45l-7.72 7.72c-.78.78-.78 2.05 0 2.83L4 21.41c.39.39.9.59 1.41.59.51 0 1.02-.2 1.41-.59l7.78-7.78 2.81-2.81c.8-.78.8-2.07 0-2.86zM5.41 20L4 18.59l7.72-7.72 1.47 1.35L5.41 20z\"/>\n",
              "  </svg>\n",
              "      </button>\n",
              "      \n",
              "  <style>\n",
              "    .colab-df-container {\n",
              "      display:flex;\n",
              "      flex-wrap:wrap;\n",
              "      gap: 12px;\n",
              "    }\n",
              "\n",
              "    .colab-df-convert {\n",
              "      background-color: #E8F0FE;\n",
              "      border: none;\n",
              "      border-radius: 50%;\n",
              "      cursor: pointer;\n",
              "      display: none;\n",
              "      fill: #1967D2;\n",
              "      height: 32px;\n",
              "      padding: 0 0 0 0;\n",
              "      width: 32px;\n",
              "    }\n",
              "\n",
              "    .colab-df-convert:hover {\n",
              "      background-color: #E2EBFA;\n",
              "      box-shadow: 0px 1px 2px rgba(60, 64, 67, 0.3), 0px 1px 3px 1px rgba(60, 64, 67, 0.15);\n",
              "      fill: #174EA6;\n",
              "    }\n",
              "\n",
              "    [theme=dark] .colab-df-convert {\n",
              "      background-color: #3B4455;\n",
              "      fill: #D2E3FC;\n",
              "    }\n",
              "\n",
              "    [theme=dark] .colab-df-convert:hover {\n",
              "      background-color: #434B5C;\n",
              "      box-shadow: 0px 1px 3px 1px rgba(0, 0, 0, 0.15);\n",
              "      filter: drop-shadow(0px 1px 2px rgba(0, 0, 0, 0.3));\n",
              "      fill: #FFFFFF;\n",
              "    }\n",
              "  </style>\n",
              "\n",
              "      <script>\n",
              "        const buttonEl =\n",
              "          document.querySelector('#df-107e2eac-5c50-4d9c-8ee9-ae0f51f8e708 button.colab-df-convert');\n",
              "        buttonEl.style.display =\n",
              "          google.colab.kernel.accessAllowed ? 'block' : 'none';\n",
              "\n",
              "        async function convertToInteractive(key) {\n",
              "          const element = document.querySelector('#df-107e2eac-5c50-4d9c-8ee9-ae0f51f8e708');\n",
              "          const dataTable =\n",
              "            await google.colab.kernel.invokeFunction('convertToInteractive',\n",
              "                                                     [key], {});\n",
              "          if (!dataTable) return;\n",
              "\n",
              "          const docLinkHtml = 'Like what you see? Visit the ' +\n",
              "            '<a target=\"_blank\" href=https://colab.research.google.com/notebooks/data_table.ipynb>data table notebook</a>'\n",
              "            + ' to learn more about interactive tables.';\n",
              "          element.innerHTML = '';\n",
              "          dataTable['output_type'] = 'display_data';\n",
              "          await google.colab.output.renderOutput(dataTable, element);\n",
              "          const docLink = document.createElement('div');\n",
              "          docLink.innerHTML = docLinkHtml;\n",
              "          element.appendChild(docLink);\n",
              "        }\n",
              "      </script>\n",
              "    </div>\n",
              "  </div>\n",
              "  "
            ]
          },
          "metadata": {},
          "execution_count": 58
        }
      ]
    },
    {
      "cell_type": "code",
      "source": [
        "example_data_loader = data_loader(example_data,2)\n",
        "\n",
        "# loop over the data loader in order to present it's data \n",
        "for i, data in enumerate(example_data_loader):\n",
        "  inputs, labels = data\n",
        "  print(\"Batch {}:\".format(i))\n",
        "  print(\"Inputs size:\", inputs.shape)\n",
        "  print(\"Labels:\", labels)\n",
        "  print(\"Labels size:\", labels.shape, '\\n')"
      ],
      "metadata": {
        "colab": {
          "base_uri": "https://localhost:8080/"
        },
        "id": "fcA40-W7XVhZ",
        "outputId": "b0194dbc-5df7-4743-ff89-897fa064159d"
      },
      "execution_count": 59,
      "outputs": [
        {
          "output_type": "stream",
          "name": "stdout",
          "text": [
            "Batch 0:\n",
            "Inputs size: torch.Size([2, 1, 28, 28])\n",
            "Labels: tensor([22, 15])\n",
            "Labels size: torch.Size([2]) \n",
            "\n",
            "Batch 1:\n",
            "Inputs size: torch.Size([2, 1, 28, 28])\n",
            "Labels: tensor([10,  8])\n",
            "Labels size: torch.Size([2]) \n",
            "\n",
            "Batch 2:\n",
            "Inputs size: torch.Size([2, 1, 28, 28])\n",
            "Labels: tensor([ 0, 10])\n",
            "Labels size: torch.Size([2]) \n",
            "\n"
          ]
        }
      ]
    },
    {
      "cell_type": "code",
      "source": [
        "def test(model, test_loader):\n",
        "  '''\n",
        "  Input:\n",
        "  model: the model to be tested\n",
        "  test_loader: DataLoader object of the test set that contains the batches of samples\n",
        "               (each sample of size 28x28) and their corresponding label\n",
        "              \n",
        "  Output:\n",
        "  accuracy of the models in terms of correct classifications percentage \n",
        "  '''\n",
        "\n",
        "  model.eval()\n",
        "  with torch.no_grad():\n",
        "    correct = 0\n",
        "    total = 0\n",
        "    for images, labels in test_loader:\n",
        "      images = images.to(device)\n",
        "      labels = labels.to(device)\n",
        "      outputs = model(images)\n",
        "      _, predicted = torch.max(outputs.data, 1) # predicted is the maximum index of outputs.data\n",
        "      total += labels.size(0)\n",
        "      correct += (predicted == labels).sum().item()\n",
        "    accuracy = correct / total\n",
        "    return accuracy"
      ],
      "metadata": {
        "id": "fHzDn12j7GKJ"
      },
      "execution_count": 60,
      "outputs": []
    },
    {
      "cell_type": "code",
      "source": [
        "def plot_learning_curve(iters, losses, iters_sub, train_accs, val_accs):\n",
        "  '''\n",
        "  Output:\n",
        "  Plot 1 with one curve: (iters,losses)\n",
        "  Plot 2 with two curves: (iters_sub,train_accs) and (iters_sub,val_accs)\n",
        "  '''\n",
        "  \n",
        "  plt.title(\"Learning Curve: Loss per Iteration\")\n",
        "  plt.plot(iters, losses, label=\"Train\")\n",
        "  plt.xlabel(\"Iterations\")\n",
        "  plt.ylabel(\"Loss\")\n",
        "  plt.show()\n",
        "\n",
        "  plt.title(\"Learning Curve: Accuracy per Iteration\")\n",
        "  plt.plot(iters_sub, train_accs*100, label=\"Train\")\n",
        "  plt.plot(iters_sub, val_accs*100, label=\"Validation\")\n",
        "  plt.xlabel(\"Iterations\")\n",
        "  plt.ylabel(\"Accuracy\")\n",
        "  plt.legend(loc='best')\n",
        "  plt.show()"
      ],
      "metadata": {
        "id": "27be0qwUdfIl"
      },
      "execution_count": 61,
      "outputs": []
    },
    {
      "cell_type": "markdown",
      "source": [
        "## **2) Creating the Training Function**\n",
        "\n",
        "Our training function arguments are described below, but in general we used the following architecture: \n",
        "\n",
        "(Enter model to training mode) ${→}$ (split data into batches) ${→}$ (enter ephocs loop) ${→}$ (enter batches loop) ${→}$ (calculate the model output) ${→}$ (calculate the model loss) ${→}$ (update model's parameters) ${→}$ (repeat until finishing ephocs loop) \n",
        "\n",
        "${\\star}$ An additional calculation for the validation set were computed every 50 iterations\n",
        " "
      ],
      "metadata": {
        "id": "PV23zV_9iLHA"
      }
    },
    {
      "cell_type": "code",
      "source": [
        "def train_model(train_data,val_data, model, criterion, optimizer, num_epochs = 500, batch_size= 500):\n",
        "  '''\n",
        "  Inputs:\n",
        "  train_data: train dataframe of size Nx785\n",
        "  val_data: validation dataframe of size Mx785\n",
        "  model: neural network class object\n",
        "  criterion: loss function \n",
        "  optimizer\n",
        "  num_epochs: number of training loops over all batches\n",
        "  batch_size: the training data will be devided into data_length/batch_size groups\n",
        "\n",
        "  Outputs:\n",
        "  iters: [1:num_ephocs] iteration vector\n",
        "  losses: vector of size 1xnum_ephocs contain the loss of the training set every iteration\n",
        "  iters_sub: [1:(num_ephocs//50)]  iteration vector\n",
        "  train_accs: vector of size 1x(num_ephocs//50) contain the accuracy of the training set every 50 iteration\n",
        "  val_accs: vector of size 1x(num_ephocs//50) contain the accuracy of the validation set every 50 iteration\n",
        "  '''\n",
        "\n",
        "  # enter model into train mode\n",
        "  model.train()\n",
        "\n",
        "  # create a DataLoader from the dataset\n",
        "  data_train = data_loader(train_data , batch_size)\n",
        "  data_val = data_loader(val_data , batch_size)\n",
        "\n",
        "  # initialization\n",
        "  n = 0\n",
        "  iters, losses = [], []\n",
        "  iters_sub, train_accs, val_accs  = [], [] ,[]\n",
        "\n",
        "  # loop over all epochs \n",
        "  for epoch in range(num_epochs):\n",
        "    for i, (images, labels) in enumerate(data_train):\n",
        "      images, labels = images.to(device), labels.to(device)\n",
        "\n",
        "      # forward pass\n",
        "      outputs = model(images)\n",
        "      \n",
        "      loss = criterion(outputs.cpu(), labels.cpu())\n",
        "      #loss = F.nll_loss(outputs.cpu(), labels.cpu())\n",
        "\n",
        "      # backpropagation and optimization\n",
        "      optimizer.zero_grad()\n",
        "      loss.backward()\n",
        "      optimizer.step()\n",
        "\n",
        "      iters.append(n) # iteration equivalent to batch\n",
        "      losses.append(float(loss)/batch_size) \n",
        "      n+=1\n",
        "\n",
        "      if n % 50 == 0:\n",
        "        iters_sub.append(n)\n",
        "        train_cost = float(loss.detach().numpy())\n",
        "        data_train_2 = data_loader(train_data[1:2000] , batch_size)\n",
        "        train_acc = test(model, data_train_2)\n",
        "\n",
        "        train_accs.append(train_acc)\n",
        "        val_acc = test(model, data_val)\n",
        "        val_accs.append(val_acc)\n",
        "        print(f'Epoch [{epoch+1}/{num_epochs}] '+\"Iter %d. [Val Acc %.0f%%] [Train Acc %.0f%%, Loss %f]\" % (\n",
        "        n, val_acc * 100, train_acc * 100, train_cost))\n",
        "        #print(f'Epoch [{epoch+1}/{num_epochs}] , Iteration[{n}], Loss: {loss.item()}')\n",
        "          \n",
        "  print('Finished Training')\n",
        "  val_accs = np.array(val_accs)\n",
        "  train_accs = np.array(train_accs)\n",
        "  plot_learning_curve(iters, losses, iters_sub, train_accs, val_accs)"
      ],
      "metadata": {
        "id": "9iFvixTGNG-y"
      },
      "execution_count": 62,
      "outputs": []
    },
    {
      "cell_type": "markdown",
      "source": [
        "## **3) Models Architectures**\n",
        "\n",
        "In this task we are dealing with images clasification while the input is a set of 28x28 images and the output is one of 24 possible labels. \n",
        "\n",
        "As we saw on lecture 5, natural images signals typically exhibit the following properties:\n",
        "\n",
        "${\\circ}$ **Stationarity-** We can expect similar visual patterns to repeat across the image\n",
        "\n",
        "${\\circ}$ **Locality-** Nearby pixels are more correlated than points far away\n",
        "\n",
        "<br>\n",
        "\n",
        "In this case, we can process our data with networks that use sparsity and weight sharing:\n",
        "\n",
        "${\\circ}$ **Sparsity-** Each neuron will be connected to only a few local neurons of the previous layer\n",
        "\n",
        "${\\circ}$ **Weight Sharing-** We will use a small set of parameters multiple times across the network architecture\n",
        "\n",
        "<br>\n",
        "\n",
        "Neural interconnections with sparsified and shared weights basically have a property called equivariance (time-invariance in the spatial domain).\n",
        "\n",
        "According to what we just explained, the type of neural network  that will have the most benefits for our task will be a Convolutional Neural Network, that its trainable parameters are essentially a set of two-dimensional filters. \n",
        "\n",
        "Here, we will present and implement 3 different model's architecture, based on images convolutions, that we found usefull for the image classification task. \n"
      ],
      "metadata": {
        "id": "QCJE9ZbN-uEV"
      }
    },
    {
      "cell_type": "markdown",
      "source": [
        "### **Model 1- Convolutional Neural Network** \n",
        "It is a classic architecture for image classification tasks, and it consists of multiple consecutive layers:\n",
        "\n",
        "${\\circ}$ **Convolutional Layers-** Extract local features or patterns from the input data\n",
        "\n",
        "${\\circ}$ **Activation Functions-** Introduce non-linear transformations that can model complex relationships in the data.\n",
        "\n",
        "For the hidden layers we chose ReLU because it is less susceptible to vanishing gradients in respect to Sigmoid and Tanh. For the output layer we chose the softmax function because it is the most common for multi-class classification problems.\n",
        "\n",
        "${\\circ}$ **Max Pooling Layers-** Reduce the spatial dimensions of the feature maps produced by the convolutional layers\n",
        "\n",
        "${\\circ}$ **Dropout Layers-** Regularization technique used to prevent overfitting by randomly dropping out or setting to zero some of the activations in the network\n",
        "\n",
        "${\\circ}$ **Batch Normalization Layers-** Normalize the activations of each layer, making it easier for the network to learn and also improve the stability of the network\n",
        "\n"
      ],
      "metadata": {
        "id": "T8rmg__h0gSM"
      }
    },
    {
      "cell_type": "code",
      "source": [
        "class ConvNet(nn.Module):\n",
        "  def __init__(self):\n",
        "    super().__init__()\n",
        "    \n",
        "    self.conv1 = nn.Conv2d(in_channels=1, out_channels=75, kernel_size=(3, 3), stride=1, padding=1)\n",
        "    self.batchnorm1 = nn.BatchNorm2d(75)\n",
        "    self.pool1 = nn.MaxPool2d(kernel_size=(2, 2), stride=2, padding=0)\n",
        "    \n",
        "    self.conv2 = nn.Conv2d(in_channels=75, out_channels=50, kernel_size=(3, 3), stride=1, padding=1)\n",
        "    self.dropout = nn.Dropout(0.2)\n",
        "    self.batchnorm2 = nn.BatchNorm2d(50)\n",
        "    self.pool2 = nn.MaxPool2d(kernel_size=(2, 2), stride=2, padding=0)\n",
        "    \n",
        "    self.conv3 = nn.Conv2d(in_channels=50, out_channels=25, kernel_size=(3, 3), stride=1, padding=1)\n",
        "    self.batchnorm3 = nn.BatchNorm2d(25)\n",
        "    self.pool3 = nn.MaxPool2d(kernel_size=(2, 2), stride=2, padding=1)\n",
        "    \n",
        "    self.fc1 = nn.Linear(25 * 4 * 4, 512)\n",
        "    self.dropout2 = nn.Dropout(0.3)\n",
        "    self.fc2 = nn.Linear(512, 25) # all our labels are in the range 0-25\n",
        "    self.softmax = nn.Softmax(dim=1)\n",
        "    \n",
        "  def forward(self, x):\n",
        "    x = self.conv1(x)\n",
        "    x = F.relu(x)\n",
        "    x = self.batchnorm1(x)\n",
        "    x = self.pool1(x)\n",
        "\n",
        "    x = self.conv2(x)\n",
        "    x = F.relu(x)\n",
        "    x = self.dropout(x)\n",
        "    x = self.batchnorm2(x)\n",
        "    x = self.pool2(x)\n",
        "\n",
        "    x = self.conv3(x)\n",
        "    x = F.relu(x)\n",
        "    x = self.batchnorm3(x)\n",
        "    x = self.pool3(x)\n",
        "\n",
        "    x = x.view(-1, 25 * 4 * 4)\n",
        "    x = self.fc1(x)\n",
        "    x = F.relu(x)\n",
        "    x = self.dropout2(x)\n",
        "    x = self.fc2(x)\n",
        "    x = F.log_softmax(x, dim=1)\n",
        "    \n",
        "    return x"
      ],
      "metadata": {
        "id": "-4K99SW2BWCV"
      },
      "execution_count": 63,
      "outputs": []
    },
    {
      "cell_type": "markdown",
      "source": [
        "### **Model 2- Residual Network (ResNet)** \n",
        "It is a type of neural network architecture that introduce skeep connections to help alleviate the vanishing gradient and to help the network learn residual functions, which means to capture the details of the image that were not captured by the previous layers. \n",
        "\n",
        "This type of network was first introduced by Microsoft Research in 2015.\n",
        "\n",
        "We implemented the network in two steps:\n",
        "\n",
        "<br>\n",
        "\n",
        "**Step 1- Defining a Residual Block class**\n",
        "\n",
        "${\\circ}$ The residual block is a sequence consists of two convolutional layers, each followed by batch normalization and ReLU activation function. After passing through those layers, the input features are added to the output. \n",
        "\n",
        "${\\circ}$ The 'downsample' is an optional argument that is used to downsample the block's input data if the number of input channels is not equal to the number of output channels of the second convolutional layer in the block. in other words, it matches the dimensions of the input feature maps with the output feature maps in order to be able to do the summation. Practically, the downsampling is implemented by using  a convolutional layer and batch normalization. \n",
        "\n",
        "<br>\n",
        "\n",
        "**Step 2- Defining the Residual Network class** \n",
        "\n",
        "${\\circ}$ The '_make_layer' function is used in the ResNet class to create a sequence of residual blocks that make up a single layer in the network. The **number** of residual blocks in such a sequence can be changed dynamically according to the input we will give to this function (it is important because we can consider it as a hyper parameter).\n",
        "\n",
        "${\\circ}$ The ResNet class is consists of three parts:\n",
        "\n",
        "1) One initial convolutional block followed by batch normalization and Relu activation\n",
        "\n",
        "2) Four layers, each of which is a sequence of residual blocks with increasing numbers of channels. \n",
        "\n",
        "3) A fully connected layer, which is the last output block that will produce the final classification output. \n",
        "\n",
        "${\\star}$ The **core** of the ResNet is the residual blocks so that is the main part we are going to consider when comparing different models parameters"
      ],
      "metadata": {
        "id": "DypffEDQdsXH"
      }
    },
    {
      "cell_type": "code",
      "source": [
        "class ResidualBlock(nn.Module):\n",
        "    def __init__(self, in_channels, out_channels, stride = 1, downsample = None):\n",
        "        super(ResidualBlock, self).__init__()\n",
        "        self.conv1 = nn.Sequential(\n",
        "                        nn.Conv2d(in_channels, out_channels, kernel_size = 3, stride = stride, padding = 1),\n",
        "                        nn.BatchNorm2d(out_channels),\n",
        "                        nn.ReLU())\n",
        "        self.conv2 = nn.Sequential(\n",
        "                        nn.Conv2d(out_channels, out_channels, kernel_size = 3, stride = 1, padding = 1),\n",
        "                        nn.BatchNorm2d(out_channels))\n",
        "        self.downsample = downsample\n",
        "        self.relu = nn.ReLU()\n",
        "        self.out_channels = out_channels\n",
        "        \n",
        "    def forward(self, x):\n",
        "        residual = x\n",
        "        out = self.conv1(x)\n",
        "        out = self.conv2(out)\n",
        "        if self.downsample:\n",
        "            residual = self.downsample(x)\n",
        "        out += residual\n",
        "        out = self.relu(out)\n",
        "        return out\n",
        "\n",
        "\n",
        "class ResNet(nn.Module):\n",
        "    def __init__(self, block, layers, num_classes = 25):\n",
        "        super(ResNet, self).__init__()\n",
        "        self.inplanes = 64\n",
        "        self.conv1 = nn.Sequential(\n",
        "                        nn.Conv2d(1, 64, kernel_size = 7, stride = 2, padding = 3),\n",
        "                        nn.BatchNorm2d(64),\n",
        "                        nn.ReLU())\n",
        "        self.maxpool = nn.MaxPool2d(kernel_size = 3, stride = 2, padding = 1)\n",
        "        self.layer0 = self._make_layer(block, 64, layers[0], stride = 1)\n",
        "        self.layer1 = self._make_layer(block, 128, layers[1], stride = 2)\n",
        "        self.layer2 = self._make_layer(block, 256, layers[2], stride = 2)\n",
        "        self.layer3 = self._make_layer(block, 512, layers[3], stride = 2)\n",
        "        #self.avgpool = nn.AvgPool2d(7, stride=1)\n",
        "        self.fc = nn.Linear(512, num_classes)\n",
        "        \n",
        "    def _make_layer(self, block, planes, blocks, stride=1):\n",
        "        downsample = None\n",
        "        if stride != 1 or self.inplanes != planes:\n",
        "            \n",
        "            downsample = nn.Sequential(\n",
        "                nn.Conv2d(self.inplanes, planes, kernel_size=1, stride=stride),\n",
        "                nn.BatchNorm2d(planes),\n",
        "            )\n",
        "        layers = []\n",
        "        layers.append(block(self.inplanes, planes, stride, downsample))\n",
        "        self.inplanes = planes\n",
        "        for i in range(1, blocks):\n",
        "            layers.append(block(self.inplanes, planes))\n",
        "\n",
        "        return nn.Sequential(*layers)\n",
        "    \n",
        "    \n",
        "    def forward(self, x):\n",
        "        x = self.conv1(x)\n",
        "        x = self.maxpool(x)\n",
        "        x = self.layer0(x)\n",
        "        x = self.layer1(x)\n",
        "        x = self.layer2(x)\n",
        "        x = self.layer3(x)\n",
        "\n",
        "        #x = self.avgpool(x)\n",
        "        x = x.view(x.size(0), -1)\n",
        "        x = self.fc(x)\n",
        "        x = F.log_softmax(x, dim=1)\n",
        "  \n",
        "        return x"
      ],
      "metadata": {
        "id": "AI5SM-Su5oGG"
      },
      "execution_count": 64,
      "outputs": []
    },
    {
      "cell_type": "markdown",
      "source": [
        "### **Model 3- Visual Geometry Group (VGG)** \n",
        "This type of network was first introduced by the Visual Geometry Group at the University of Oxford in 2014, and the original VGG network had 16 layers and hence is also known as VGG16.\n",
        "\n",
        "It's architecture consists of the following:\n",
        "\n",
        "${\\circ}$ 13 convolutional layers with a filter size of 3x3 and a stride of 1 pixel, which means it ment to learn local properties of images\n",
        "\n",
        "${\\circ}$ 5 max-pooling layers with a filter size of 2x2 and a stride of 2 pixels\n",
        "\n",
        "${\\circ}$ 3 fully connected layers in order to produce the final classification output"
      ],
      "metadata": {
        "id": "TbxKvK1CMmhQ"
      }
    },
    {
      "cell_type": "code",
      "source": [
        "class VGG16(nn.Module):\n",
        "    def __init__(self, num_classes=10):\n",
        "        super(VGG16, self).__init__()\n",
        "        self.layer1 = nn.Sequential(\n",
        "            nn.Conv2d(1, 64, kernel_size=3, stride=1, padding=1),\n",
        "            nn.BatchNorm2d(64),\n",
        "            nn.ReLU())\n",
        "        self.layer2 = nn.Sequential(\n",
        "            nn.Conv2d(64, 64, kernel_size=3, stride=1, padding=1),\n",
        "            nn.BatchNorm2d(64),\n",
        "            nn.ReLU(), \n",
        "            nn.MaxPool2d(kernel_size = 2, stride = 2))\n",
        "        self.layer3 = nn.Sequential(\n",
        "            nn.Conv2d(64, 128, kernel_size=3, stride=1, padding=1),\n",
        "            nn.BatchNorm2d(128),\n",
        "            nn.ReLU())\n",
        "        self.layer4 = nn.Sequential(\n",
        "            nn.Conv2d(128, 128, kernel_size=3, stride=1, padding=1),\n",
        "            nn.BatchNorm2d(128),\n",
        "            nn.ReLU(),\n",
        "            nn.MaxPool2d(kernel_size = 2, stride = 2))\n",
        "        self.layer5 = nn.Sequential(\n",
        "            nn.Conv2d(128, 256, kernel_size=3, stride=1, padding=1),\n",
        "            nn.BatchNorm2d(256),\n",
        "            nn.ReLU())\n",
        "        self.layer6 = nn.Sequential(\n",
        "            nn.Conv2d(256, 256, kernel_size=3, stride=1, padding=1),\n",
        "            nn.BatchNorm2d(256),\n",
        "            nn.ReLU())\n",
        "        self.layer7 = nn.Sequential(\n",
        "            nn.Conv2d(256, 256, kernel_size=3, stride=1, padding=1),\n",
        "            nn.BatchNorm2d(256),\n",
        "            nn.ReLU(),\n",
        "            nn.MaxPool2d(kernel_size = 2, stride = 2))\n",
        "        self.layer8 = nn.Sequential(\n",
        "            nn.Conv2d(256, 512, kernel_size=3, stride=1, padding=1),\n",
        "            nn.BatchNorm2d(512),\n",
        "            nn.ReLU())\n",
        "        self.layer9 = nn.Sequential(\n",
        "            nn.Conv2d(512, 512, kernel_size=3, stride=1, padding=1),\n",
        "            nn.BatchNorm2d(512),\n",
        "            nn.ReLU())\n",
        "        self.layer10 = nn.Sequential(\n",
        "            nn.Conv2d(512, 512, kernel_size=3, stride=1, padding=1),\n",
        "            nn.BatchNorm2d(512),\n",
        "            nn.ReLU(),\n",
        "            nn.MaxPool2d(kernel_size = 2, stride = 2))\n",
        "        self.layer11 = nn.Sequential(\n",
        "            nn.Conv2d(512, 512, kernel_size=3, stride=1, padding=1),\n",
        "            nn.BatchNorm2d(512),\n",
        "            nn.ReLU())\n",
        "        self.layer12 = nn.Sequential(\n",
        "            nn.Conv2d(512, 512, kernel_size=3, stride=1, padding=1),\n",
        "            nn.BatchNorm2d(512),\n",
        "            nn.ReLU())\n",
        "        self.layer13 = nn.Sequential(\n",
        "            nn.Conv2d(512, 512, kernel_size=3, stride=1, padding=1),\n",
        "            nn.BatchNorm2d(512),\n",
        "            nn.ReLU(),\n",
        "            nn.MaxPool2d(kernel_size = 2, stride = 2))\n",
        "        self.fc = nn.Sequential(\n",
        "            nn.Dropout(0.5),\n",
        "            nn.Linear(1*1*512, 4096),\n",
        "            nn.ReLU())\n",
        "        self.fc1 = nn.Sequential(\n",
        "            nn.Dropout(0.5),\n",
        "            nn.Linear(4096, 4096),\n",
        "            nn.ReLU())\n",
        "        self.fc2= nn.Sequential(\n",
        "            nn.Linear(4096, num_classes))\n",
        "        \n",
        "    def forward(self, x):\n",
        "        out = self.layer1(x)\n",
        "        #print('shape after layer 1: ', out.shape)\n",
        "        out = self.layer2(out)\n",
        "        #print('shape after layer 2: ', out.shape)\n",
        "        out = self.layer3(out)\n",
        "        #print('shape after layer 3: ', out.shape)\n",
        "        out = self.layer4(out)\n",
        "        #print('shape after layer 4: ', out.shape)\n",
        "        out = self.layer5(out)\n",
        "        #print('shape after layer 5: ', out.shape)\n",
        "        out = self.layer6(out)\n",
        "        #print('shape after layer 6: ', out.shape)\n",
        "        out = self.layer7(out)\n",
        "        #print('shape after layer 7: ', out.shape)\n",
        "        out = self.layer8(out)\n",
        "        #print('shape after layer 8: ', out.shape)\n",
        "        out = self.layer9(out)\n",
        "        #print('shape after layer 9: ', out.shape)\n",
        "        out = self.layer10(out)\n",
        "        #print('shape after layer 10: ', out.shape)\n",
        "        out = self.layer11(out)\n",
        "        #print('shape after layer 11: ', out.shape)\n",
        "        out = self.layer12(out)\n",
        "        #print('shape after layer 12: ', out.shape)\n",
        "        #out = self.layer13(out)\n",
        "        #print('shape after layer 13: ', out.shape)\n",
        "        #out = out.reshape(out.size(0), -1)\n",
        "        out = out.view(out.size(0), -1)\n",
        "        #print('shape after layer 14: ', out.shape)\n",
        "        out = self.fc(out)\n",
        "        #print('shape after layer 15: ', out.shape)\n",
        "        out = self.fc1(out)\n",
        "        #print('shape after layer 16: ', out.shape)\n",
        "        out = self.fc2(out)\n",
        "        #print('shape after layer 17: ', out.shape)\n",
        "        return out"
      ],
      "metadata": {
        "id": "C5PATFjOLNy2"
      },
      "execution_count": 132,
      "outputs": []
    },
    {
      "cell_type": "markdown",
      "source": [
        "## **4) Compare the Results of the Models**"
      ],
      "metadata": {
        "id": "N_YJvV6Y1U32"
      }
    },
    {
      "cell_type": "markdown",
      "source": [
        "### **Training and Testing Model 1 (Convolutional Neural Network)** "
      ],
      "metadata": {
        "id": "x5qWmFnCZBbO"
      }
    },
    {
      "cell_type": "code",
      "source": [
        "# create the model's object\n",
        "model_conv = ConvNet()"
      ],
      "metadata": {
        "id": "8hR7IBGkZECe"
      },
      "execution_count": 65,
      "outputs": []
    },
    {
      "cell_type": "code",
      "source": [
        "# move model to GPU if available \n",
        "model_conv.to(device) ;"
      ],
      "metadata": {
        "id": "TlzM1T5T4gWF"
      },
      "execution_count": 66,
      "outputs": []
    },
    {
      "cell_type": "code",
      "source": [
        "# define optimizer and loss criterion\n",
        "criterion_conv = F.nll_loss\n",
        "optimizer_conv = torch.optim.Adam(model_conv.parameters(), lr=0.001, betas=(0.9, 0.999), eps=1e-08)"
      ],
      "metadata": {
        "id": "WqMc5KhJ4rHg"
      },
      "execution_count": 68,
      "outputs": []
    },
    {
      "cell_type": "code",
      "source": [
        "# train the model\n",
        "train_model(df_train,df_val, model_conv, criterion_conv, optimizer_conv, num_epochs = 3, batch_size= 128)"
      ],
      "metadata": {
        "id": "noAtX5eC40We",
        "outputId": "8c47c5ae-0306-45f7-88e4-9884a9ae1f28",
        "colab": {
          "base_uri": "https://localhost:8080/",
          "height": 770
        }
      },
      "execution_count": 69,
      "outputs": [
        {
          "output_type": "stream",
          "name": "stdout",
          "text": [
            "Epoch [1/3] Iter 50. [Val Acc 77%] [Train Acc 77%, Loss 0.446844]\n",
            "Epoch [1/3] Iter 100. [Val Acc 96%] [Train Acc 97%, Loss 0.154513]\n",
            "Epoch [1/3] Iter 150. [Val Acc 100%] [Train Acc 100%, Loss 0.008543]\n",
            "Epoch [2/3] Iter 200. [Val Acc 100%] [Train Acc 100%, Loss 0.004405]\n",
            "Epoch [2/3] Iter 250. [Val Acc 100%] [Train Acc 100%, Loss 0.001074]\n",
            "Epoch [2/3] Iter 300. [Val Acc 100%] [Train Acc 100%, Loss 0.001252]\n",
            "Epoch [3/3] Iter 350. [Val Acc 100%] [Train Acc 100%, Loss 0.000783]\n",
            "Epoch [3/3] Iter 400. [Val Acc 100%] [Train Acc 100%, Loss 0.000543]\n",
            "Epoch [3/3] Iter 450. [Val Acc 100%] [Train Acc 100%, Loss 0.000255]\n",
            "Epoch [3/3] Iter 500. [Val Acc 100%] [Train Acc 100%, Loss 0.000512]\n",
            "Finished Training\n"
          ]
        },
        {
          "output_type": "display_data",
          "data": {
            "text/plain": [
              "<Figure size 432x288 with 1 Axes>"
            ],
            "image/png": "[encoded data removed]"
          },
          "metadata": {
            "needs_background": "light"
          }
        },
        {
          "output_type": "display_data",
          "data": {
            "text/plain": [
              "<Figure size 432x288 with 1 Axes>"
            ],
            "image/png": "[encoded data removed]"
          },
          "metadata": {
            "needs_background": "light"
          }
        }
      ]
    },
    {
      "cell_type": "code",
      "source": [
        "# clear GPU from unneccessary data\n",
        "torch.cuda.empty_cache()"
      ],
      "metadata": {
        "id": "EnYk2yB95Isk"
      },
      "execution_count": 70,
      "outputs": []
    },
    {
      "cell_type": "code",
      "source": [
        "# testing the model on the test data set\n",
        "test_loader_conv = data_loader(df_test , 200 , shuffle = False)\n",
        "test_accuracy_conv = test(model_conv, test_loader_conv)\n",
        "test_accuracy_conv"
      ],
      "metadata": {
        "id": "_xx606c85KVQ",
        "outputId": "6eb6085c-5795-46c0-eee1-1188c8bb279f",
        "colab": {
          "base_uri": "https://localhost:8080/"
        }
      },
      "execution_count": 71,
      "outputs": [
        {
          "output_type": "execute_result",
          "data": {
            "text/plain": [
              "0.9499442275515895"
            ]
          },
          "metadata": {},
          "execution_count": 71
        }
      ]
    },
    {
      "cell_type": "markdown",
      "source": [
        "### **Training and Testing Model 2 (ResNet)- Option 1** \n",
        "\n"
      ],
      "metadata": {
        "id": "9b8T09cW53F1"
      }
    },
    {
      "cell_type": "code",
      "source": [
        "# create the model's object\n",
        "model_res1 = ResNet(ResidualBlock, [3, 4, 6, 3])"
      ],
      "metadata": {
        "id": "KgPj98c19-Dp"
      },
      "execution_count": null,
      "outputs": []
    },
    {
      "cell_type": "code",
      "source": [
        "# move model to GPU if available \n",
        "model_res1.to(device) ;"
      ],
      "metadata": {
        "id": "vpMOLiY49-GI"
      },
      "execution_count": null,
      "outputs": []
    },
    {
      "cell_type": "code",
      "source": [
        "# define optimizer and loss criterion\n",
        "criterion_res1 = F.nll_loss\n",
        "optimizer_res1 = torch.optim.Adam(model_res1.parameters())"
      ],
      "metadata": {
        "id": "oHml-mKr9-KT"
      },
      "execution_count": null,
      "outputs": []
    },
    {
      "cell_type": "code",
      "source": [
        "# train model_res1\n",
        "train_model(df_train,df_val, model_res1, criterion_res1, optimizer_res1, num_epochs = 4, batch_size= 64)"
      ],
      "metadata": {
        "id": "L8ecXIgf9-N3",
        "outputId": "955d1df8-9578-4c53-c5d3-585aaf09b503",
        "colab": {
          "base_uri": "https://localhost:8080/",
          "height": 1000
        }
      },
      "execution_count": null,
      "outputs": [
        {
          "output_type": "stream",
          "name": "stdout",
          "text": [
            "Epoch [1/4] Iter 50. [Val Acc 22%] [Train Acc 21%, Loss 0.844065]\n",
            "Epoch [1/4] Iter 100. [Val Acc 4%] [Train Acc 4%, Loss 3.276639]\n",
            "Epoch [1/4] Iter 150. [Val Acc 4%] [Train Acc 5%, Loss 3.223940]\n",
            "Epoch [1/4] Iter 200. [Val Acc 10%] [Train Acc 11%, Loss 2.957092]\n",
            "Epoch [1/4] Iter 250. [Val Acc 9%] [Train Acc 10%, Loss 2.850183]\n",
            "Epoch [1/4] Iter 300. [Val Acc 18%] [Train Acc 19%, Loss 2.266788]\n",
            "Epoch [2/4] Iter 350. [Val Acc 28%] [Train Acc 27%, Loss 1.896108]\n",
            "Epoch [2/4] Iter 400. [Val Acc 36%] [Train Acc 39%, Loss 1.629194]\n",
            "Epoch [2/4] Iter 450. [Val Acc 60%] [Train Acc 61%, Loss 0.795968]\n",
            "Epoch [2/4] Iter 500. [Val Acc 62%] [Train Acc 65%, Loss 0.871416]\n",
            "Epoch [2/4] Iter 550. [Val Acc 73%] [Train Acc 72%, Loss 0.913133]\n",
            "Epoch [2/4] Iter 600. [Val Acc 86%] [Train Acc 86%, Loss 0.955024]\n",
            "Epoch [2/4] Iter 650. [Val Acc 86%] [Train Acc 88%, Loss 0.381322]\n",
            "Epoch [3/4] Iter 700. [Val Acc 78%] [Train Acc 81%, Loss 0.576284]\n",
            "Epoch [3/4] Iter 750. [Val Acc 90%] [Train Acc 90%, Loss 0.336801]\n",
            "Epoch [3/4] Iter 800. [Val Acc 88%] [Train Acc 88%, Loss 0.282464]\n",
            "Epoch [3/4] Iter 850. [Val Acc 94%] [Train Acc 95%, Loss 0.166286]\n",
            "Epoch [3/4] Iter 900. [Val Acc 96%] [Train Acc 97%, Loss 0.313828]\n",
            "Epoch [3/4] Iter 950. [Val Acc 97%] [Train Acc 96%, Loss 0.100663]\n",
            "Epoch [3/4] Iter 1000. [Val Acc 95%] [Train Acc 96%, Loss 0.203826]\n",
            "Epoch [4/4] Iter 1050. [Val Acc 98%] [Train Acc 97%, Loss 0.179684]\n",
            "Epoch [4/4] Iter 1100. [Val Acc 99%] [Train Acc 99%, Loss 0.028850]\n",
            "Epoch [4/4] Iter 1150. [Val Acc 98%] [Train Acc 98%, Loss 0.060436]\n",
            "Epoch [4/4] Iter 1200. [Val Acc 94%] [Train Acc 94%, Loss 0.102175]\n",
            "Epoch [4/4] Iter 1250. [Val Acc 99%] [Train Acc 99%, Loss 0.102912]\n",
            "Epoch [4/4] Iter 1300. [Val Acc 98%] [Train Acc 98%, Loss 0.019424]\n",
            "Epoch [4/4] Iter 1350. [Val Acc 99%] [Train Acc 98%, Loss 0.073804]\n",
            "Finished Training\n"
          ]
        },
        {
          "output_type": "display_data",
          "data": {
            "text/plain": [
              "<Figure size 432x288 with 1 Axes>"
            ],
            "image/png": "[encoded data removed]"
          },
          "metadata": {
            "needs_background": "light"
          }
        },
        {
          "output_type": "display_data",
          "data": {
            "text/plain": [
              "<Figure size 432x288 with 1 Axes>"
            ],
            "image/png": "[encoded data removed]"
          },
          "metadata": {
            "needs_background": "light"
          }
        }
      ]
    },
    {
      "cell_type": "code",
      "source": [
        "# clear GPU from unneccessary data\n",
        "torch.cuda.empty_cache()"
      ],
      "metadata": {
        "id": "zM8sUgwk9-RL"
      },
      "execution_count": null,
      "outputs": []
    },
    {
      "cell_type": "code",
      "source": [
        "# testing the model on the test data set\n",
        "test_loader_res1 = data_loader(df_test , 200 , shuffle = False)\n",
        "test_accuracy_res1 = test(model_res1, test_loader_res1)\n",
        "test_accuracy_res1"
      ],
      "metadata": {
        "id": "RRcD3GHm9-US",
        "outputId": "59f82878-3643-49df-da7c-8823f604b341",
        "colab": {
          "base_uri": "https://localhost:8080/"
        }
      },
      "execution_count": null,
      "outputs": [
        {
          "output_type": "execute_result",
          "data": {
            "text/plain": [
              "0.8798103736754044"
            ]
          },
          "metadata": {},
          "execution_count": 66
        }
      ]
    },
    {
      "cell_type": "markdown",
      "source": [
        "### **Training and Testing Model 2 (ResNet)- Option 2** "
      ],
      "metadata": {
        "id": "bh_u6G2e_iRa"
      }
    },
    {
      "cell_type": "code",
      "source": [
        "# create the model's object\n",
        "model_res2 = ResNet(ResidualBlock, [3, 4, 8, 3])"
      ],
      "metadata": {
        "id": "t9lZJ0iU6FEB"
      },
      "execution_count": null,
      "outputs": []
    },
    {
      "cell_type": "code",
      "source": [
        "# move model to GPU if available \n",
        "model_res2.to(device) ;"
      ],
      "metadata": {
        "id": "Jph7vzi06FLv"
      },
      "execution_count": null,
      "outputs": []
    },
    {
      "cell_type": "code",
      "source": [
        "# define optimizer and loss criterion\n",
        "criterion_res2 = F.nll_loss\n",
        "optimizer_res2 = torch.optim.Adam(model_res2.parameters())"
      ],
      "metadata": {
        "id": "3_ZCh5pq6FSN"
      },
      "execution_count": null,
      "outputs": []
    },
    {
      "cell_type": "code",
      "source": [
        "# train model_res2\n",
        "train_model(df_train,df_val, model_res2, criterion_res2, optimizer_res2, num_epochs = 4, batch_size= 64)"
      ],
      "metadata": {
        "id": "YgWAlpIx6FYD",
        "outputId": "a6b5cc1c-7ef9-4d94-ff59-be9fbd7bfd09",
        "colab": {
          "base_uri": "https://localhost:8080/",
          "height": 1000
        }
      },
      "execution_count": null,
      "outputs": [
        {
          "output_type": "stream",
          "name": "stdout",
          "text": [
            "Epoch [1/4] Iter 50. [Val Acc 8%] [Train Acc 8%, Loss 1.076257]\n",
            "Epoch [1/4] Iter 100. [Val Acc 4%] [Train Acc 4%, Loss 3.257313]\n",
            "Epoch [1/4] Iter 150. [Val Acc 7%] [Train Acc 6%, Loss 3.218900]\n",
            "Epoch [1/4] Iter 200. [Val Acc 7%] [Train Acc 8%, Loss 3.088938]\n",
            "Epoch [1/4] Iter 250. [Val Acc 11%] [Train Acc 12%, Loss 2.889719]\n",
            "Epoch [1/4] Iter 300. [Val Acc 10%] [Train Acc 11%, Loss 2.726349]\n",
            "Epoch [2/4] Iter 350. [Val Acc 10%] [Train Acc 10%, Loss 2.808794]\n",
            "Epoch [2/4] Iter 400. [Val Acc 17%] [Train Acc 17%, Loss 2.189982]\n",
            "Epoch [2/4] Iter 450. [Val Acc 20%] [Train Acc 21%, Loss 2.015946]\n",
            "Epoch [2/4] Iter 500. [Val Acc 29%] [Train Acc 30%, Loss 1.892751]\n",
            "Epoch [2/4] Iter 550. [Val Acc 31%] [Train Acc 30%, Loss 1.412518]\n",
            "Epoch [2/4] Iter 600. [Val Acc 24%] [Train Acc 23%, Loss 1.571970]\n",
            "Epoch [2/4] Iter 650. [Val Acc 44%] [Train Acc 47%, Loss 1.636934]\n",
            "Epoch [3/4] Iter 700. [Val Acc 49%] [Train Acc 49%, Loss 1.256284]\n",
            "Epoch [3/4] Iter 750. [Val Acc 55%] [Train Acc 57%, Loss 1.061946]\n",
            "Epoch [3/4] Iter 800. [Val Acc 60%] [Train Acc 60%, Loss 1.132194]\n",
            "Epoch [3/4] Iter 850. [Val Acc 68%] [Train Acc 68%, Loss 1.195009]\n",
            "Epoch [3/4] Iter 900. [Val Acc 75%] [Train Acc 75%, Loss 0.656565]\n",
            "Epoch [3/4] Iter 950. [Val Acc 80%] [Train Acc 82%, Loss 0.502996]\n",
            "Epoch [3/4] Iter 1000. [Val Acc 79%] [Train Acc 80%, Loss 0.431697]\n",
            "Epoch [4/4] Iter 1050. [Val Acc 80%] [Train Acc 82%, Loss 1.289692]\n",
            "Epoch [4/4] Iter 1100. [Val Acc 87%] [Train Acc 87%, Loss 0.274058]\n",
            "Epoch [4/4] Iter 1150. [Val Acc 86%] [Train Acc 87%, Loss 0.393420]\n",
            "Epoch [4/4] Iter 1200. [Val Acc 89%] [Train Acc 88%, Loss 0.264779]\n",
            "Epoch [4/4] Iter 1250. [Val Acc 95%] [Train Acc 95%, Loss 0.326934]\n",
            "Epoch [4/4] Iter 1300. [Val Acc 91%] [Train Acc 92%, Loss 0.139182]\n",
            "Epoch [4/4] Iter 1350. [Val Acc 94%] [Train Acc 94%, Loss 0.150412]\n",
            "Finished Training\n"
          ]
        },
        {
          "output_type": "display_data",
          "data": {
            "text/plain": [
              "<Figure size 432x288 with 1 Axes>"
            ],
            "image/png": "[encoded data removed]"
          },
          "metadata": {
            "needs_background": "light"
          }
        },
        {
          "output_type": "display_data",
          "data": {
            "text/plain": [
              "<Figure size 432x288 with 1 Axes>"
            ],
            "image/png": "[encoded data removed]"
          },
          "metadata": {
            "needs_background": "light"
          }
        }
      ]
    },
    {
      "cell_type": "code",
      "source": [
        "# clear GPU from unneccessary data\n",
        "torch.cuda.empty_cache()"
      ],
      "metadata": {
        "id": "Ee70MC3y6FdA"
      },
      "execution_count": null,
      "outputs": []
    },
    {
      "cell_type": "code",
      "source": [
        "# testing the model on the test data set\n",
        "test_loader_res2 = data_loader(df_test , 200 , shuffle = False)\n",
        "test_accuracy_res2 = test(model_res2, test_loader_res2)\n",
        "test_accuracy_res2"
      ],
      "metadata": {
        "id": "Q2pFxgib6Fgr",
        "outputId": "2a7e5c80-9582-468f-a929-08fac4c0cfd4",
        "colab": {
          "base_uri": "https://localhost:8080/"
        }
      },
      "execution_count": null,
      "outputs": [
        {
          "output_type": "execute_result",
          "data": {
            "text/plain": [
              "0.8289180145008366"
            ]
          },
          "metadata": {},
          "execution_count": 72
        }
      ]
    },
    {
      "cell_type": "markdown",
      "source": [
        "### **Training and Testing Model 3 (Visual Geometry Group)** "
      ],
      "metadata": {
        "id": "lsdJIxbyOiCv"
      }
    },
    {
      "cell_type": "code",
      "source": [
        "# create the model's object\n",
        "num_classes = 25\n",
        "model_vgg = VGG16(num_classes)"
      ],
      "metadata": {
        "id": "Awn6ClckOm_X"
      },
      "execution_count": 133,
      "outputs": []
    },
    {
      "cell_type": "code",
      "source": [
        "# move model to GPU if available \n",
        "model_vgg.to(device) ;"
      ],
      "metadata": {
        "id": "ubx2QnImOqxE"
      },
      "execution_count": 134,
      "outputs": []
    },
    {
      "cell_type": "code",
      "source": [
        "# define optimizer and loss criterion\n",
        "criterion_vgg = F.nll_loss\n",
        "optimizer_vgg = torch.optim.Adam(model_vgg.parameters()) "
      ],
      "metadata": {
        "id": "pA9LKVYOOt5C"
      },
      "execution_count": 122,
      "outputs": []
    },
    {
      "cell_type": "code",
      "source": [
        "# criterion = nn.CrossEntropyLoss()\n",
        "# optimizer = torch.optim.SGD(model.parameters(), lr=learning_rate, weight_decay = 0.005, momentum = 0.9) "
      ],
      "metadata": {
        "id": "wbfjAQaPPV_F"
      },
      "execution_count": 102,
      "outputs": []
    },
    {
      "cell_type": "code",
      "source": [
        "# train model_vgg\n",
        "train_model(df_train,df_val, model_vgg, criterion_vgg, optimizer_vgg, num_epochs = 4, batch_size= 16)"
      ],
      "metadata": {
        "id": "ticwnLL6O0tc"
      },
      "execution_count": 137,
      "outputs": []
    },
    {
      "cell_type": "markdown",
      "source": [
        "### **Compare the results**\n",
        "\n",
        "Here, in order to see some real visualization of the results, we defined two new functions:\n",
        "\n",
        "**1) predict-** Will return the predicted labels from a test dataset\n",
        "\n",
        "**2) find_wrong_precictions-** Will compare the predicted values to the real labels \n"
      ],
      "metadata": {
        "id": "CY1rvhqcrGEF"
      }
    },
    {
      "cell_type": "code",
      "source": [
        "def predict(model , data_loader):\n",
        "  '''\n",
        "  Inputs:\n",
        "  model: trained model object\n",
        "  data_loader: data loader object contaions the batches of our data as a set of 28x28 tensors images and their coresponding true labels\n",
        "  \n",
        "  Output:\n",
        "  predictions_numbers: list of predicted labels integers corresponding to the data loader\n",
        "  predictions_letters: list of predicted labels chars corresponding to the data loader\n",
        "  '''\n",
        "\n",
        "  model.eval()\n",
        "  predictions_numbers = []\n",
        "  predictions_letters = []\n",
        "  with torch.no_grad():\n",
        "    for images, labels in data_loader:\n",
        "      images = images.to(device)\n",
        "      labels = labels.to(device)\n",
        "      outputs = model(images)\n",
        "      _, predicted = torch.max(outputs.data, 1) # predicted is the maximum index of outputs.data\n",
        "      predictions_numbers= predictions_numbers+ predicted.cpu().tolist()\n",
        "      temp_letters = [int_to_letter_dict[predicted.cpu().tolist()[x]] for x in range(len(predicted.cpu().tolist()))]\n",
        "      predictions_letters = predictions_letters+ temp_letters\n",
        "    return predictions_numbers , predictions_letters"
      ],
      "metadata": {
        "id": "Ue0n01ijvr3F"
      },
      "execution_count": 81,
      "outputs": []
    },
    {
      "cell_type": "code",
      "source": [
        "def find_wrong_precictions(predictions , true_labels):\n",
        "  '''\n",
        "  Inputs: \n",
        "  predictions: list of predicted labels integers of some data set \n",
        "  true_labels: list of the the true labels integers obtained obtained from the same data set\n",
        "\n",
        "  Output:\n",
        "  wrong_predictions: list contains the labels integers that were not predicted successfully\n",
        "  wrong_predictions_index: list contains the corresponding index of the labels integers that were not predicted successfully\n",
        "  '''\n",
        "\n",
        "  wrong_predictions = []\n",
        "  wrong_predictions_index = []\n",
        "  for index in range(len(predictions)):\n",
        "    if int(predictions[index]) != int(true_labels[index]):\n",
        "        wrong_predictions.append(predictions[index])\n",
        "        wrong_predictions_index.append(index)\n",
        "  return wrong_predictions , wrong_predictions_index"
      ],
      "metadata": {
        "id": "Mwyyz3w65nDO"
      },
      "execution_count": 82,
      "outputs": []
    },
    {
      "cell_type": "code",
      "source": [
        "def plot_predictions_results(wrong_predictions,wrong_predictions_indexes,predicted_numbers,true_labels,int_to_letter_dict,k):\n",
        "  '''\n",
        "  '''\n",
        "  # calculate predictions \n",
        "  predicted_numbers , predicted_letters_conv = predict(model_conv ,test_loader_conv)\n",
        "\n",
        "  # define true labels of test set\n",
        "  true_labels = df_test['label'].tolist()\n",
        "\n",
        "  # calculate wrong predictions\n",
        "  wrong_predictions_sub = wrong_predictions[:min(len(wrong_predictions),k)] # define a subset of wrong_predictions_conv\n",
        "  wrong_predictions_indexes_sub = wrong_predictions_indexes[:min(len(wrong_predictions_indexes),k)]\n",
        "\n",
        "  # print results\n",
        "  print('Predicted:',[int_to_letter_dict[item] for item in wrong_predictions_sub])\n",
        "  print('True Label:',[int_to_letter_dict[true_labels[x]] for x in wrong_predictions_indexes_sub])\n",
        "\n",
        "  # plot results\n",
        "  plot_images(df_test.iloc[wrong_predictions_indexes_sub,:] , int_to_letter_dict , 1 , min(len(wrong_predictions),k)) \n",
        "\n",
        "  return None"
      ],
      "metadata": {
        "id": "l4NdgpLa7SAS"
      },
      "execution_count": 98,
      "outputs": []
    },
    {
      "cell_type": "markdown",
      "source": [
        "#### **Present results for model 1 (ConvNet)**"
      ],
      "metadata": {
        "id": "gRPyPvsU0zL8"
      }
    },
    {
      "cell_type": "code",
      "source": [
        "# calculate predictions \n",
        "predicted_numbers_conv , predicted_letters_conv = predict(model_conv ,test_loader_conv)\n",
        "\n",
        "# define true labels of test set\n",
        "true_labels = df_test['label'].tolist()\n",
        "\n",
        "# calculate wrong predictions\n",
        "wrong_predictions_conv , wrong_predictions_conv_indexes = find_wrong_precictions(predicted_numbers_conv , true_labels)\n"
      ],
      "metadata": {
        "id": "SEmm0ndm68yu"
      },
      "execution_count": 93,
      "outputs": []
    },
    {
      "cell_type": "code",
      "source": [
        "# plot prediction results\n",
        "k_conv = 3 # max wrong images to present\n",
        "plot_predictions_results(wrong_predictions_conv,wrong_predictions_conv_indexes,predicted_numbers_conv,true_labels,int_to_letter_dict,k_conv)"
      ],
      "metadata": {
        "colab": {
          "base_uri": "https://localhost:8080/",
          "height": 275
        },
        "id": "9KHLEJLO9Yya",
        "outputId": "5011b538-c311-446e-ce81-4048fbf353f0"
      },
      "execution_count": 97,
      "outputs": [
        {
          "output_type": "stream",
          "name": "stdout",
          "text": [
            "Predicted: ['A', 'G', 'V']\n",
            "True Label: ['N', 'H', 'R']\n"
          ]
        },
        {
          "output_type": "display_data",
          "data": {
            "text/plain": [
              "<Figure size 648x648 with 3 Axes>"
            ],
            "image/png": "[encoded data removed]"
          },
          "metadata": {
            "needs_background": "light"
          }
        }
      ]
    },
    {
      "cell_type": "markdown",
      "source": [
        "#### **Present results for model 2 option 1 (ResNet)**\n",
        "\n"
      ],
      "metadata": {
        "id": "viBS2H_7-d0v"
      }
    },
    {
      "cell_type": "code",
      "source": [
        "# calculate predictions \n",
        "predicted_numbers_res1 , predicted_letters_res1 = predict(model_res1 ,test_loader_res1)\n",
        "\n",
        "# true labels already defined\n",
        "\n",
        "# calculate wrong predictions\n",
        "wrong_predictions_res1 , wrong_predictions_res1_indexes = find_wrong_precictions(predicted_numbers_res1 , true_labels)"
      ],
      "metadata": {
        "id": "gR4GHAWn-odd"
      },
      "execution_count": null,
      "outputs": []
    },
    {
      "cell_type": "code",
      "source": [
        "# plot prediction results\n",
        "k_res1 = 3 # max wrong images to present\n",
        "plot_predictions_results(wrong_predictions_res1,wrong_predictions_res1_indexes,predicted_numbers_res1,true_labels,int_to_letter_dict,k_res1)"
      ],
      "metadata": {
        "id": "pxX8nUWQ-5-o"
      },
      "execution_count": null,
      "outputs": []
    },
    {
      "cell_type": "markdown",
      "source": [
        "#### **Present results for model 2 option 2 (ResNet)**"
      ],
      "metadata": {
        "id": "u8e2Z-d1-eAZ"
      }
    },
    {
      "cell_type": "code",
      "source": [
        "# calculate predictions \n",
        "predicted_numbers_res2 , predicted_letters_res2 = predict(model_res2 ,test_loader_res2)\n",
        "\n",
        "# true labels already defined\n",
        "\n",
        "# calculate wrong predictions\n",
        "wrong_predictions_res2 , wrong_predictions_res2_indexes = find_wrong_precictions(predicted_numbers_res2 , true_labels)"
      ],
      "metadata": {
        "id": "Yw-3zYA2_C7R"
      },
      "execution_count": null,
      "outputs": []
    },
    {
      "cell_type": "code",
      "source": [
        "# plot prediction results\n",
        "k_res1 = 3 # max wrong images to present\n",
        "plot_predictions_results(wrong_predictions_res2,wrong_predictions_res2_indexes,predicted_numbers_res2,true_labels,int_to_letter_dict,k_res2)"
      ],
      "metadata": {
        "id": "B0WPXPzQ_DiU"
      },
      "execution_count": null,
      "outputs": []
    },
    {
      "cell_type": "markdown",
      "source": [
        "# **Section 5- Test the models on iPhone Images**"
      ],
      "metadata": {
        "id": "LeJ5U4tSsC77"
      }
    },
    {
      "cell_type": "code",
      "source": [
        "# test model 1\n",
        "test_loader_iPhone = data_loader(iPhone_imgs_df , 7)\n",
        "test_accuracy_iPhone = test(model_conv, test_loader_iPhone)\n",
        "test_accuracy_iPhone\n"
      ],
      "metadata": {
        "id": "xzxAIW_R3rY6",
        "colab": {
          "base_uri": "https://localhost:8080/"
        },
        "outputId": "bb574ebc-f99a-4345-b0cd-fafe996f63ed"
      },
      "execution_count": 99,
      "outputs": [
        {
          "output_type": "execute_result",
          "data": {
            "text/plain": [
              "0.6666666666666666"
            ]
          },
          "metadata": {},
          "execution_count": 99
        }
      ]
    },
    {
      "cell_type": "markdown",
      "source": [
        "# **Section 6- Summary and Conclusions**"
      ],
      "metadata": {
        "id": "QEBh-pQ4rOwF"
      }
    },
    {
      "cell_type": "code",
      "source": [],
      "metadata": {
        "id": "3ivXdgdL-L0C"
      },
      "execution_count": null,
      "outputs": []
    },
    {
      "cell_type": "markdown",
      "source": [
        "# **Section 7- Diagrams ?**\n"
      ],
      "metadata": {
        "id": "teCmjS-u-Mg7"
      }
    },
    {
      "cell_type": "code",
      "source": [
        "-# from torchvision import models\n",
        "# from torchsummary import summary\n",
        "# summary(model.cuda(), (1,28,28))"
      ],
      "metadata": {
        "id": "eu82qaJacRAO"
      },
      "execution_count": null,
      "outputs": []
    },
    {
      "cell_type": "code",
      "source": [
        "#torch.save(model, \"/content/gdrive/MyDrive/DP_course/final/data/model1.pk.\")"
      ],
      "metadata": {
        "id": "jGF6lrF7w1lH"
      },
      "execution_count": null,
      "outputs": []
    }
  ]
}