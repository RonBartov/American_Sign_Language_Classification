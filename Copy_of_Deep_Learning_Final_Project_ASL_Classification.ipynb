{
  "nbformat": 4,
  "nbformat_minor": 0,
  "metadata": {
    "colab": {
      "provenance": [],
      "include_colab_link": true
    },
    "kernelspec": {
      "name": "python3",
      "display_name": "Python 3"
    },
    "language_info": {
      "name": "python"
    },
    "accelerator": "GPU",
    "gpuClass": "standard"
  },
  "cells": [
    {
      "cell_type": "markdown",
      "metadata": {
        "id": "view-in-github",
        "colab_type": "text"
      },
      "source": [
        "<a href=\"https://colab.research.google.com/github/RonBartov/American_Sign_Language_Classification/blob/main/Copy_of_Deep_Learning_Final_Project_ASL_Classification.ipynb\" target=\"_parent\"><img src=\"https://colab.research.google.com/assets/colab-badge.svg\" alt=\"Open In Colab\"/></a>"
      ]
    },
    {
      "cell_type": "markdown",
      "source": [
        "# **Deep Learning Final Project- American Sign Language Images Classification**"
      ],
      "metadata": {
        "id": "n8US6O-11ZYG"
      }
    },
    {
      "cell_type": "code",
      "execution_count": 9,
      "metadata": {
        "id": "aMh1xZpHfGw3",
        "colab": {
          "base_uri": "https://localhost:8080/"
        },
        "outputId": "e336cc99-2015-430c-b47f-fb97243b2806"
      },
      "outputs": [
        {
          "output_type": "stream",
          "name": "stdout",
          "text": [
            "Drive already mounted at /content/gdrive; to attempt to forcibly remount, call drive.mount(\"/content/gdrive\", force_remount=True).\n"
          ]
        }
      ],
      "source": [
        "import cv2\n",
        "import pandas as pd\n",
        "from PIL import Image as Im \n",
        "from PIL import ImageOps\n",
        "from google.colab import drive\n",
        "import seaborn as sns\n",
        "from torch.utils.data import DataLoader, TensorDataset\n",
        "from torchvision import transforms\n",
        "from torch.autograd import Variable\n",
        "import torch\n",
        "import torch.nn as nn\n",
        "import torch.nn.functional as F\n",
        "from torchvision.utils import make_grid\n",
        "from IPython.display import Image\n",
        "import matplotlib.pyplot as plt\n",
        "import numpy as np\n",
        "import random\n",
        "from torchvision.utils import make_grid\n",
        "import torch.optim as optim\n",
        "\n",
        "device = torch.device('cuda' if torch.cuda.is_available() else 'cpu')\n",
        "drive.mount('/content/gdrive')"
      ]
    },
    {
      "cell_type": "markdown",
      "source": [
        "# **General Background and Goals**\n",
        "\n",
        "Sign languages are visual languages that use hand gestures, facial expressions, and body language to convey some meaning. They are used as a means of communication by deaf and hard-of-hearing individuals in many countries around the world. Unlike spoken languages, sign languages are not based on a particular spoken language and are unique to the deaf communities in which they are used.\n",
        "\n",
        "Despite the widespread use of sign languages, there is still much work to be done in improving communication between deaf and hearing individuals and the development of technologies that can recognize and understand sign languages is an important step towards this goal. \n",
        "\n",
        "**In our project**, we are exploring the use of deep learning for American Sign Language (ASL) recognition by teaching our neural network to classify between different ASL letters. The dataset we are using is the ASL MNIST dataset, which is a dataset that has been adapted to specifically focus on the recognition of American Sign Language.\n",
        "\n",
        "Our data composed from 28x28 grayscale images (one channel images), each one represents one of the 24 american letters that **not requires any motion**, i.e all the american letters except J and Z.\n",
        "\n",
        "\n",
        "\n",
        "The data contains 34,627 images in total ans it devided into the following types:\n",
        "\n",
        "1) Test and Validation data- 27,455 images\n",
        "\n",
        "2) Test Data- 7,172 images\n",
        "\n",
        "\n",
        "In addition, the first column of the data frame represents the labels of the images. We have in total 26 american letters that their labels are the numbers 0-25 correspondingly to the order of the letters, and because we are not using the letters J and Z we have the left only with the labels 0-8 and 10-24.\n",
        "\n",
        "\n",
        "###**Additional Goal**\n",
        "\n",
        "In addition to the classification of the MNIST data itself, our goal in this project is to be able to classify letter from an image that was taken from our personal phones. This image will have a different properties, due to the type of the camera, initial resolution and also the enviroment were the image were taken."
      ],
      "metadata": {
        "id": "jEuOp2Jj1Psp"
      }
    },
    {
      "cell_type": "markdown",
      "source": [
        "## **Importing The Data**\n",
        "\n",
        "Our data composed from 28x28 grayscale images (one channel images) that are the american sign language representation of one of the 24 american letters that not requires any motion, i.e all the american letters except J and Z.\n",
        "\n",
        "The data is devided into the following types:\n",
        "\n",
        "Test and Validation data- 27,455 images\n",
        " \n",
        "Test Data- 7,172 images \n",
        "\n",
        "The first column of the data frame represents the labels of the images. Thus, we have in total 26 american letters which their labels are the numbers 0-25 correspondingly to the order of the letters, and because we are not using the letters J and Z we have the left only with the labels 0-8 and 10-24."
      ],
      "metadata": {
        "id": "cGvBEDNOqBoJ"
      }
    },
    {
      "cell_type": "code",
      "source": [
        "# Ron's paths\n",
        "csv_train_path = \"/content/gdrive/MyDrive/Colab Notebooks/Deep Learning Final Project- ASL/sign_mnist_train.zip\"\n",
        "csv_test_path = \"/content/gdrive/MyDrive/Colab Notebooks/Deep Learning Final Project- ASL/sign_mnist_test.zip\"\n",
        "\n",
        "# Aviv's paths\n",
        "# csv_train_path = \"/content/gdrive/MyDrive/DP_course/final/data/sign_mnist_train.csv\"\n",
        "# csv_test_path = \"/content/gdrive/MyDrive/DP_course/final/data/sign_mnist_test.csv\"\n"
      ],
      "metadata": {
        "id": "vMBLUgKeHD9T"
      },
      "execution_count": 3,
      "outputs": []
    },
    {
      "cell_type": "code",
      "source": [
        "df_train = pd.read_csv(csv_train_path)\n",
        "df_test = pd.read_csv(csv_test_path)"
      ],
      "metadata": {
        "id": "eU7yBu90K9kb"
      },
      "execution_count": 4,
      "outputs": []
    },
    {
      "cell_type": "markdown",
      "source": [
        "## **Learning the Data**\n",
        "\n",
        "In order "
      ],
      "metadata": {
        "id": "XeDZx2K40l9i"
      }
    },
    {
      "cell_type": "code",
      "source": [
        "lenn = len(df_train)\n",
        "train_size = int(0.8 * len(df_train))\n",
        "val_size = len(df_train) - train_size\n",
        "\n",
        "df_val = df_train[train_size:]\n",
        "df_train = df_train[:train_size-1]\n",
        "print(len(df_train))"
      ],
      "metadata": {
        "id": "vUZgREy8E-Uq",
        "outputId": "2921f460-37c3-406a-d49e-62bd3ecf2c06",
        "colab": {
          "base_uri": "https://localhost:8080/"
        }
      },
      "execution_count": 5,
      "outputs": [
        {
          "output_type": "stream",
          "name": "stdout",
          "text": [
            "21963\n"
          ]
        }
      ]
    },
    {
      "cell_type": "markdown",
      "source": [
        "## **Presenting an image from the data as an example**"
      ],
      "metadata": {
        "id": "sz2uqVDn74pY"
      }
    },
    {
      "cell_type": "code",
      "source": [
        "pic_df = df_train.iloc[0:1,1:]\n",
        "pic = pic_df.to_numpy()\n",
        "plt.imshow(pic.reshape(28,28), cmap=\"gray\")"
      ],
      "metadata": {
        "colab": {
          "base_uri": "https://localhost:8080/",
          "height": 282
        },
        "id": "EetAKTUS7_o_",
        "outputId": "a999f8a1-5e9a-476a-9c05-62415ec2514e"
      },
      "execution_count": 7,
      "outputs": [
        {
          "output_type": "execute_result",
          "data": {
            "text/plain": [
              "<matplotlib.image.AxesImage at 0x7f5a4d0be1c0>"
            ]
          },
          "metadata": {},
          "execution_count": 7
        },
        {
          "output_type": "display_data",
          "data": {
            "text/plain": [
              "<Figure size 432x288 with 1 Axes>"
            ],
            "image/png": "[encoded data removed]"
          },
          "metadata": {
            "needs_background": "light"
          }
        }
      ]
    },
    {
      "cell_type": "markdown",
      "source": [
        "## **The Main Goal**\n",
        "\n",
        "Our goal will be to be able to classify the letter from an image that we took with our personal phones.\n",
        "This is one example for such an image "
      ],
      "metadata": {
        "id": "YSwgWUGE8Q7K"
      }
    },
    {
      "cell_type": "code",
      "source": [
        "ext_img_rgb = Im.open(\"/content/gdrive/MyDrive/Colab Notebooks/Deep Learning Final Project- ASL/ASL-test-img2.jpg\")\n",
        "ext_img_gray = ImageOps.grayscale(ext_img_rgb)\n",
        "plt.imshow(ext_img_gray, cmap='gray')"
      ],
      "metadata": {
        "colab": {
          "base_uri": "https://localhost:8080/",
          "height": 286
        },
        "id": "UpEc1VuA8piS",
        "outputId": "b6d58f7f-e937-4809-aca5-4c761182014a"
      },
      "execution_count": 10,
      "outputs": [
        {
          "output_type": "execute_result",
          "data": {
            "text/plain": [
              "<matplotlib.image.AxesImage at 0x7f5a4cb0f250>"
            ]
          },
          "metadata": {},
          "execution_count": 10
        },
        {
          "output_type": "display_data",
          "data": {
            "text/plain": [
              "<Figure size 432x288 with 1 Axes>"
            ],
            "image/png": "[encoded data removed]"
          },
          "metadata": {
            "needs_background": "light"
          }
        }
      ]
    },
    {
      "cell_type": "code",
      "source": [
        "# resize the image\n",
        "ext_img_gray_res = ext_img_gray.resize((28, 28))\n",
        "np_ext_img_gray = np.array(ext_img_gray_res)\n",
        "np.shape(np_ext_img_gray)\n",
        "plt.imshow(ext_img_gray_res, cmap='gray')"
      ],
      "metadata": {
        "colab": {
          "base_uri": "https://localhost:8080/",
          "height": 282
        },
        "id": "dPCLc8-L9ds7",
        "outputId": "3225b2e6-11b8-4ed2-e14b-4614d5c0ed18"
      },
      "execution_count": 12,
      "outputs": [
        {
          "output_type": "execute_result",
          "data": {
            "text/plain": [
              "<matplotlib.image.AxesImage at 0x7f5a4caeab80>"
            ]
          },
          "metadata": {},
          "execution_count": 12
        },
        {
          "output_type": "display_data",
          "data": {
            "text/plain": [
              "<Figure size 432x288 with 1 Axes>"
            ],
            "image/png": "[encoded data removed]"
          },
          "metadata": {
            "needs_background": "light"
          }
        }
      ]
    },
    {
      "cell_type": "markdown",
      "source": [
        "## **Check if the data is balanced**\n",
        "\n",
        "In order to know how to train our network weights properly, we would like to know if we have almost the same amount of images from each label, which can be treated as balanced training data. "
      ],
      "metadata": {
        "id": "-hXCN0rc4V6T"
      }
    },
    {
      "cell_type": "code",
      "source": [
        "# calculate the appearence percentage for each label\n",
        "count_label = df_train.groupby('label').size() \n",
        "count_label_percentage = count_label/len(df_train.axes[0])\n",
        "count_label_percentage"
      ],
      "metadata": {
        "colab": {
          "base_uri": "https://localhost:8080/"
        },
        "id": "mbYQf-3K5T68",
        "outputId": "04e97fff-79c1-4590-ebf9-02dc975a225b"
      },
      "execution_count": 13,
      "outputs": [
        {
          "output_type": "execute_result",
          "data": {
            "text/plain": [
              "label\n",
              "0     0.040614\n",
              "1     0.037108\n",
              "2     0.041160\n",
              "3     0.044211\n",
              "4     0.035332\n",
              "5     0.043437\n",
              "6     0.039840\n",
              "7     0.036106\n",
              "8     0.043346\n",
              "10    0.040204\n",
              "11    0.045486\n",
              "12    0.037609\n",
              "13    0.042253\n",
              "14    0.043846\n",
              "15    0.039612\n",
              "16    0.044985\n",
              "17    0.046943\n",
              "18    0.044438\n",
              "19    0.043528\n",
              "20    0.042526\n",
              "21    0.039339\n",
              "22    0.044712\n",
              "23    0.042071\n",
              "24    0.041297\n",
              "dtype: float64"
            ]
          },
          "metadata": {},
          "execution_count": 13
        }
      ]
    },
    {
      "cell_type": "code",
      "source": [
        "# calculate the distance to the average number of images per label (in terms of number of images)\n",
        "label_avg_count = count_label.sum()//24\n",
        "print(\"The average number of samples per label is: \", label_avg_count)\n",
        "label_diffrence_from_avg = abs(count_label - label_avg_count)\n",
        "label_diffrence_from_avg"
      ],
      "metadata": {
        "colab": {
          "base_uri": "https://localhost:8080/"
        },
        "id": "j8-MLG8f6dWb",
        "outputId": "58631711-8651-4a81-caa8-f180b12a6187"
      },
      "execution_count": 14,
      "outputs": [
        {
          "output_type": "stream",
          "name": "stdout",
          "text": [
            "The average number of samples per label is:  915\n"
          ]
        },
        {
          "output_type": "execute_result",
          "data": {
            "text/plain": [
              "label\n",
              "0      23\n",
              "1     100\n",
              "2      11\n",
              "3      56\n",
              "4     139\n",
              "5      39\n",
              "6      40\n",
              "7     122\n",
              "8      37\n",
              "10     32\n",
              "11     84\n",
              "12     89\n",
              "13     13\n",
              "14     48\n",
              "15     45\n",
              "16     73\n",
              "17    116\n",
              "18     61\n",
              "19     41\n",
              "20     19\n",
              "21     51\n",
              "22     67\n",
              "23      9\n",
              "24      8\n",
              "dtype: int64"
            ]
          },
          "metadata": {},
          "execution_count": 14
        }
      ]
    },
    {
      "cell_type": "code",
      "source": [
        "# visualize the label distribution\n",
        "y_train = df_train['label']\n",
        "plt.figure(figsize=(15,6))\n",
        "sns.set_style(\"darkgrid\")\n",
        "sns.countplot(y_train)"
      ],
      "metadata": {
        "id": "m0Y3gl0YKnMg",
        "colab": {
          "base_uri": "https://localhost:8080/",
          "height": 460
        },
        "outputId": "4ecb8180-32dc-48f6-d6e5-771d2f01a08c"
      },
      "execution_count": 16,
      "outputs": [
        {
          "output_type": "stream",
          "name": "stderr",
          "text": [
            "/usr/local/lib/python3.8/dist-packages/seaborn/_decorators.py:36: FutureWarning: Pass the following variable as a keyword arg: x. From version 0.12, the only valid positional argument will be `data`, and passing other arguments without an explicit keyword will result in an error or misinterpretation.\n",
            "  warnings.warn(\n"
          ]
        },
        {
          "output_type": "execute_result",
          "data": {
            "text/plain": [
              "<matplotlib.axes._subplots.AxesSubplot at 0x7f5b20791910>"
            ]
          },
          "metadata": {},
          "execution_count": 16
        },
        {
          "output_type": "display_data",
          "data": {
            "text/plain": [
              "<Figure size 1080x432 with 1 Axes>"
            ],
            "image/png": "[encoded data removed]"
          },
          "metadata": {
            "needs_background": "light"
          }
        }
      ]
    },
    {
      "cell_type": "markdown",
      "source": [
        "## **Split the data into train and validation**"
      ],
      "metadata": {
        "id": "SyXyoJyD-ej-"
      }
    },
    {
      "cell_type": "code",
      "source": [
        "# y_train = df_train['label']\n",
        "# y_test = df_test['label']\n",
        "# del df_train['label']\n",
        "# del df_test['label']\n",
        "# x_train = df_train.values\n",
        "# x_test = df_test.values\n",
        "# x_train = x_train / 255\n",
        "# x_test = x_test / 255\n",
        "# x_train = x_train.reshape(-1,28,28,1)\n",
        "# x_test = x_test.reshape(-1,28,28,1)\n",
        "# x_test_tensor = torch.Tensor(x_test).swapaxes(1, 3).swapaxes(2 , 3)\n",
        "# x_train_tensor = torch.Tensor(x_train).swapaxes(1, 3).swapaxes(2 , 3)"
      ],
      "metadata": {
        "id": "WeH4H6Sw-dhL"
      },
      "execution_count": null,
      "outputs": []
    },
    {
      "cell_type": "code",
      "source": [
        "# print(x_test.shape)\n",
        "# print(x_test_tensor.shape)"
      ],
      "metadata": {
        "colab": {
          "base_uri": "https://localhost:8080/"
        },
        "id": "05omY_oWO-zu",
        "outputId": "85bd9975-2f8c-40e5-9f0f-9ebb2fdbd1ba"
      },
      "execution_count": null,
      "outputs": [
        {
          "output_type": "stream",
          "name": "stdout",
          "text": [
            "(7172, 28, 28, 1)\n",
            "torch.Size([7172, 1, 28, 28])\n"
          ]
        }
      ]
    },
    {
      "cell_type": "code",
      "source": [],
      "metadata": {
        "id": "sI7GlX3KT9rg"
      },
      "execution_count": null,
      "outputs": []
    },
    {
      "cell_type": "code",
      "source": [
        "# norm_mean = 0.5 \n",
        "# norm_std = 0.5 \n",
        "# output_size = 24      # there are 10 classes\n",
        "# train_loader = torch.utils.data.DataLoader(df_train, batch_size=500, shuffle=True , transform=transforms.Compose([\n",
        "#                        transforms.ToTensor(),\n",
        "#                        transforms.Normalize((norm_mean,), (norm_std,))\n",
        "#                    ]))\n",
        "# test_loader = torch.utils.data.DataLoader(df_test, batch_size=500, shuffle=True)\n",
        "# print(train_loader.dataset.__len__())\n",
        "# print(test_loader.dataset.__len__())"
      ],
      "metadata": {
        "id": "0nZmWO6_Ht8G"
      },
      "execution_count": null,
      "outputs": []
    },
    {
      "cell_type": "markdown",
      "source": [
        "## **Creating the neural network for the classification**\n",
        "\n",
        "Consider ResNet and VGG"
      ],
      "metadata": {
        "id": "QCJE9ZbN-uEV"
      }
    },
    {
      "cell_type": "code",
      "source": [
        "class ConvNet(nn.Module):\n",
        "    def __init__(self):\n",
        "        super().__init__()\n",
        "        \n",
        "        self.conv1 = nn.Conv2d(in_channels=1, out_channels=75, kernel_size=(3, 3), stride=1, padding=1)\n",
        "        self.batchnorm1 = nn.BatchNorm2d(75)\n",
        "        self.pool1 = nn.MaxPool2d(kernel_size=(2, 2), stride=2, padding=0)\n",
        "        \n",
        "        self.conv2 = nn.Conv2d(in_channels=75, out_channels=50, kernel_size=(3, 3), stride=1, padding=1)\n",
        "        self.dropout = nn.Dropout(0.2)\n",
        "        self.batchnorm2 = nn.BatchNorm2d(50)\n",
        "        self.pool2 = nn.MaxPool2d(kernel_size=(2, 2), stride=2, padding=0)\n",
        "        \n",
        "        self.conv3 = nn.Conv2d(in_channels=50, out_channels=25, kernel_size=(3, 3), stride=1, padding=1)\n",
        "        self.batchnorm3 = nn.BatchNorm2d(25)\n",
        "        self.pool3 = nn.MaxPool2d(kernel_size=(2, 2), stride=2, padding=1)\n",
        "        \n",
        "        self.fc1 = nn.Linear(25 * 4 * 4, 512)\n",
        "        self.dropout2 = nn.Dropout(0.3)\n",
        "        self.fc2 = nn.Linear(512, 25)\n",
        "        self.softmax = nn.Softmax(dim=1)\n",
        "        \n",
        "    def forward(self, x):\n",
        "        x = F.relu(self.conv1(x))\n",
        "        x = self.batchnorm1(x)\n",
        "        x = self.pool1(x)\n",
        "\n",
        "        x = F.relu(self.conv2(x))\n",
        "        x = self.dropout(x)\n",
        "        x = self.batchnorm2(x)\n",
        "        x = self.pool2(x)\n",
        "\n",
        "        x = F.relu(self.conv3(x))\n",
        "        x = self.batchnorm3(x)\n",
        "        x = self.pool3(x)\n",
        "\n",
        "        x = x.view(-1, 25 * 4 * 4)\n",
        "        x = F.relu(self.fc1(x))\n",
        "        x = self.dropout2(x)\n",
        "        x = self.fc2(x)\n",
        "        x = F.log_softmax(x, dim=1)\n",
        "        \n",
        "        return x"
      ],
      "metadata": {
        "id": "-4K99SW2BWCV"
      },
      "execution_count": 17,
      "outputs": []
    },
    {
      "cell_type": "markdown",
      "source": [
        "## **Creating the training function**"
      ],
      "metadata": {
        "id": "krLCucnWHCbF"
      }
    },
    {
      "cell_type": "code",
      "source": [
        "def test(model, test_loader, criterion):\n",
        "    model.eval()\n",
        "    with torch.no_grad():\n",
        "        correct = 0\n",
        "        total = 0\n",
        "        for images, labels in test_loader:\n",
        "            images = images.to(device)\n",
        "            labels = labels.to(device)\n",
        "            outputs = model(images)\n",
        "            _, predicted = torch.max(outputs.data, 1)\n",
        "            total += labels.size(0)\n",
        "            correct += (predicted == labels).sum().item()\n",
        "        accuracy = correct / total\n",
        "        return accuracy"
      ],
      "metadata": {
        "id": "fHzDn12j7GKJ"
      },
      "execution_count": 18,
      "outputs": []
    },
    {
      "cell_type": "code",
      "source": [
        "def data_loader(csv_data ,batch_size):\n",
        "    # Convert the dataframe into a PyTorch tensor\n",
        "    data = torch.tensor(csv_data.values, dtype=torch.float32)\n",
        "    \n",
        "    # Split the data into inputs (images) and targets (labels)\n",
        "    inputs = data[:, 1:]\n",
        "    targets = data[:, 0].long()\n",
        "    \n",
        "    # Normalize the inputs\n",
        "    inputs = inputs / 255.0\n",
        "    \n",
        "    # Convert inputs into a 4D tensor for processing by the model\n",
        "    inputs = inputs.view(-1, 1, 28, 28)\n",
        "    \n",
        "    # Create a TensorDataset from the inputs and targets\n",
        "    dataset = TensorDataset(inputs, targets)\n",
        "    \n",
        "    # Create a DataLoader from the dataset\n",
        "    return DataLoader(dataset, batch_size=batch_size, shuffle=True)"
      ],
      "metadata": {
        "id": "xgY5puK_5ns9"
      },
      "execution_count": 19,
      "outputs": []
    },
    {
      "cell_type": "code",
      "source": [
        "def train_model(train_data,val_data, model, criterion, optimizer, num_epochs = 500, batch_size= 500):\n",
        "    model.train()\n",
        "\n",
        "    # # Create a DataLoader from the dataset\n",
        "    data_train = data_loader(train_data , batch_size)\n",
        "    data_val = data_loader(val_data , batch_size)\n",
        "    n = 0\n",
        "    iters, losses = [], []\n",
        "    iters_sub, train_accs, val_accs  = [], [] ,[]\n",
        "    for epoch in range(num_epochs):\n",
        "\n",
        "        for i, (images, labels) in enumerate(data_train):\n",
        "            images, labels = images.to(device), labels.to(device)\n",
        "            # Forward pass\n",
        "            outputs = model(images)\n",
        "            #loss = criterion(outputs.cpu(), labels.cpu())\n",
        "            loss = F.nll_loss(outputs.cpu(), labels.cpu())\n",
        "            # Backward pass and optimization\n",
        "            optimizer.zero_grad()\n",
        "            loss.backward()\n",
        "            optimizer.step()\n",
        "\n",
        "            iters.append(n)\n",
        "            losses.append(float(loss)/batch_size)  # compute *average* loss\n",
        "            n+=1\n",
        "            if n%50 ==0:\n",
        "              iters_sub.append(n)\n",
        "              train_cost = float(loss.detach().numpy())\n",
        "              data_train_2 = data_loader(train_data[1:2000] , batch_size)\n",
        "              train_acc = test(model, data_train_2 , criterion)\n",
        "\n",
        "              train_accs.append(train_acc)\n",
        "              val_acc = test(model, data_val , criterion)\n",
        "              val_accs.append(val_acc)\n",
        "              print(f'Epoch [{epoch+1}/{num_epochs}] '+\"Iter %d. [Val Acc %.0f%%] [Train Acc %.0f%%, Loss %f]\" % (\n",
        "              n, val_acc * 100, train_acc * 100, train_cost))\n",
        "              #print(f'Epoch [{epoch+1}/{num_epochs}] , Iteration[{n}], Loss: {loss.item()}')\n",
        "            \n",
        "    print('Finished Training')\n",
        "    return iters, losses, iters_sub, train_accs, val_accs"
      ],
      "metadata": {
        "id": "9iFvixTGNG-y"
      },
      "execution_count": 20,
      "outputs": []
    },
    {
      "cell_type": "markdown",
      "source": [
        "##Train the model"
      ],
      "metadata": {
        "id": "x5qWmFnCZBbO"
      }
    },
    {
      "cell_type": "code",
      "source": [
        "model = ConvNet()\n",
        "criterion = nn.CrossEntropyLoss()\n",
        "optimizer = torch.optim.Adam(model.parameters())"
      ],
      "metadata": {
        "id": "8hR7IBGkZECe"
      },
      "execution_count": 21,
      "outputs": []
    },
    {
      "cell_type": "code",
      "source": [
        "from torchvision import models\n",
        "from torchsummary import summary\n",
        "summary(model.cuda(), (1,28,28))"
      ],
      "metadata": {
        "colab": {
          "base_uri": "https://localhost:8080/"
        },
        "id": "eu82qaJacRAO",
        "outputId": "9269c264-018e-4568-bd74-2c765b207dc5"
      },
      "execution_count": null,
      "outputs": [
        {
          "output_type": "stream",
          "name": "stdout",
          "text": [
            "input shape: torch.Size([2, 1, 28, 28])\n",
            "second shape: torch.Size([2, 75, 14, 14])\n",
            "3 shape: torch.Size([2, 50, 7, 7])\n",
            "4 shape: torch.Size([2, 25, 4, 4])\n",
            "----------------------------------------------------------------\n",
            "        Layer (type)               Output Shape         Param #\n",
            "================================================================\n",
            "            Conv2d-1           [-1, 75, 28, 28]             750\n",
            "       BatchNorm2d-2           [-1, 75, 28, 28]             150\n",
            "         MaxPool2d-3           [-1, 75, 14, 14]               0\n",
            "            Conv2d-4           [-1, 50, 14, 14]          33,800\n",
            "           Dropout-5           [-1, 50, 14, 14]               0\n",
            "       BatchNorm2d-6           [-1, 50, 14, 14]             100\n",
            "         MaxPool2d-7             [-1, 50, 7, 7]               0\n",
            "            Conv2d-8             [-1, 25, 7, 7]          11,275\n",
            "       BatchNorm2d-9             [-1, 25, 7, 7]              50\n",
            "        MaxPool2d-10             [-1, 25, 4, 4]               0\n",
            "           Linear-11                  [-1, 512]         205,312\n",
            "          Dropout-12                  [-1, 512]               0\n",
            "           Linear-13                   [-1, 24]          12,312\n",
            "          Softmax-14                   [-1, 24]               0\n",
            "================================================================\n",
            "Total params: 263,749\n",
            "Trainable params: 263,749\n",
            "Non-trainable params: 0\n",
            "----------------------------------------------------------------\n",
            "Input size (MB): 0.00\n",
            "Forward/backward pass size (MB): 1.28\n",
            "Params size (MB): 1.01\n",
            "Estimated Total Size (MB): 2.29\n",
            "----------------------------------------------------------------\n"
          ]
        }
      ]
    },
    {
      "cell_type": "code",
      "source": [
        "model.to(device)\n",
        "iters, losses, iters_sub, train_accs, val_accs = train_model(df_train,df_val, model, criterion, optimizer, num_epochs = 3, batch_size= 128)\n"
      ],
      "metadata": {
        "colab": {
          "base_uri": "https://localhost:8080/"
        },
        "id": "9C6WXW7_ZFJl",
        "outputId": "c47a9566-786c-4be6-8806-ed980a78889a"
      },
      "execution_count": 22,
      "outputs": [
        {
          "output_type": "stream",
          "name": "stdout",
          "text": [
            "Epoch [1/3] Iter 50. [Val Acc 87%] [Train Acc 87%, Loss 0.377559]\n",
            "Epoch [1/3] Iter 100. [Val Acc 98%] [Train Acc 98%, Loss 0.055588]\n",
            "Epoch [1/3] Iter 150. [Val Acc 100%] [Train Acc 100%, Loss 0.009531]\n",
            "Epoch [2/3] Iter 200. [Val Acc 100%] [Train Acc 100%, Loss 0.001765]\n",
            "Epoch [2/3] Iter 250. [Val Acc 100%] [Train Acc 100%, Loss 0.001023]\n",
            "Epoch [2/3] Iter 300. [Val Acc 100%] [Train Acc 100%, Loss 0.000588]\n",
            "Epoch [3/3] Iter 350. [Val Acc 100%] [Train Acc 100%, Loss 0.000475]\n",
            "Epoch [3/3] Iter 400. [Val Acc 100%] [Train Acc 100%, Loss 0.000202]\n",
            "Epoch [3/3] Iter 450. [Val Acc 100%] [Train Acc 100%, Loss 0.000272]\n",
            "Epoch [3/3] Iter 500. [Val Acc 100%] [Train Acc 100%, Loss 0.000250]\n",
            "Finished Training\n"
          ]
        }
      ]
    },
    {
      "cell_type": "code",
      "source": [
        "def plot_learning_curve(iters, losses, iters_sub, train_accs, val_accs):\n",
        "    \"\"\"\n",
        "    Plot the learning curve.\n",
        "    \"\"\"\n",
        "    plt.title(\"Learning Curve: Loss per Iteration\")\n",
        "    plt.plot(iters, losses, label=\"Train\")\n",
        "    plt.xlabel(\"Iterations\")\n",
        "    plt.ylabel(\"Loss\")\n",
        "    plt.show()\n",
        "\n",
        "    plt.title(\"Learning Curve: Accuracy per Iteration\")\n",
        "    plt.plot(iters_sub, train_accs*100, label=\"Train\")\n",
        "    plt.plot(iters_sub, val_accs*100, label=\"Validation\")\n",
        "    plt.xlabel(\"Iterations\")\n",
        "    plt.ylabel(\"Accuracy\")\n",
        "    plt.legend(loc='best')\n",
        "    plt.show()"
      ],
      "metadata": {
        "id": "27be0qwUdfIl"
      },
      "execution_count": 23,
      "outputs": []
    },
    {
      "cell_type": "code",
      "source": [
        "val_accs = np.array(val_accs)\n",
        "train_accs = np.array(train_accs)\n",
        "plot_learning_curve(iters, losses, iters_sub, train_accs, val_accs)"
      ],
      "metadata": {
        "colab": {
          "base_uri": "https://localhost:8080/",
          "height": 573
        },
        "id": "85_RPGs545pv",
        "outputId": "feec604d-a24c-4431-ecf7-b1e45053d226"
      },
      "execution_count": 24,
      "outputs": [
        {
          "output_type": "display_data",
          "data": {
            "text/plain": [
              "<Figure size 432x288 with 1 Axes>"
            ],
            "image/png": "[encoded data removed]"
          },
          "metadata": {}
        },
        {
          "output_type": "display_data",
          "data": {
            "text/plain": [
              "<Figure size 432x288 with 1 Axes>"
            ],
            "image/png": "[encoded data removed]"
          },
          "metadata": {}
        }
      ]
    },
    {
      "cell_type": "code",
      "source": [
        "test_loader = data_loader(df_test , 120)"
      ],
      "metadata": {
        "id": "S5hxEdF7rXBG"
      },
      "execution_count": 25,
      "outputs": []
    },
    {
      "cell_type": "code",
      "source": [
        "##lets see some results"
      ],
      "metadata": {
        "id": "9hpQcZXEhqgw"
      },
      "execution_count": null,
      "outputs": []
    },
    {
      "cell_type": "code",
      "source": [
        "xxxxx = test(model, test_loader, criterion)\n",
        "print(xxxxx)"
      ],
      "metadata": {
        "colab": {
          "base_uri": "https://localhost:8080/"
        },
        "id": "u7fqSxonqaB8",
        "outputId": "654869ca-cc83-4524-e6d7-9cee1f6f0421"
      },
      "execution_count": 26,
      "outputs": [
        {
          "output_type": "stream",
          "name": "stdout",
          "text": [
            "0.9485499163413273\n"
          ]
        }
      ]
    },
    {
      "cell_type": "code",
      "source": [
        "#torch.save(model, \"/content/gdrive/MyDrive/DP_course/final/data/model1.pk.\")"
      ],
      "metadata": {
        "id": "jGF6lrF7w1lH"
      },
      "execution_count": null,
      "outputs": []
    }
  ]
}