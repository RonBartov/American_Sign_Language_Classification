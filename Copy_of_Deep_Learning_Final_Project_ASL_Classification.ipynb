{
  "nbformat": 4,
  "nbformat_minor": 0,
  "metadata": {
    "colab": {
      "provenance": [],
      "include_colab_link": true
    },
    "kernelspec": {
      "name": "python3",
      "display_name": "Python 3"
    },
    "language_info": {
      "name": "python"
    },
    "accelerator": "GPU",
    "gpuClass": "standard"
  },
  "cells": [
    {
      "cell_type": "markdown",
      "metadata": {
        "id": "view-in-github",
        "colab_type": "text"
      },
      "source": [
        "<a href=\"https://colab.research.google.com/github/RonBartov/American_Sign_Language_Classification/blob/main/Copy_of_Deep_Learning_Final_Project_ASL_Classification.ipynb\" target=\"_parent\"><img src=\"https://colab.research.google.com/assets/colab-badge.svg\" alt=\"Open In Colab\"/></a>"
      ]
    },
    {
      "cell_type": "code",
      "execution_count": 1,
      "metadata": {
        "id": "aMh1xZpHfGw3",
        "colab": {
          "base_uri": "https://localhost:8080/"
        },
        "outputId": "1351f3b0-547f-43a7-be4a-605411b5919b"
      },
      "outputs": [
        {
          "output_type": "stream",
          "name": "stdout",
          "text": [
            "Mounted at /content/gdrive\n"
          ]
        }
      ],
      "source": [
        "import cv2\n",
        "import numpy as np\n",
        "import matplotlib as plt\n",
        "import pandas as pd\n",
        "from PIL import Image,ImageOps\n",
        "from google.colab import drive\n",
        "import seaborn as sns\n",
        "drive.mount('/content/gdrive')"
      ]
    },
    {
      "cell_type": "code",
      "source": [
        "from torch.utils.data import DataLoader, TensorDataset\n",
        "from torchvision import transforms\n",
        "from torch.autograd import Variable\n",
        "import torch\n",
        "import torch.nn as nn\n",
        "import torch.nn.functional as F\n",
        "from torchvision.utils import make_grid\n",
        "from IPython.display import Image\n",
        "import matplotlib.pyplot as plt\n",
        "import numpy as np\n",
        "import random\n",
        "\n",
        "from torchvision.utils import make_grid\n",
        "import torch.optim as optim\n",
        "device = torch.device('cuda' if torch.cuda.is_available() else 'cpu')"
      ],
      "metadata": {
        "id": "25cpEMAeG2As"
      },
      "execution_count": 50,
      "outputs": []
    },
    {
      "cell_type": "markdown",
      "source": [
        "## **Import The Data**\n",
        "\n",
        "Our data composed from 28x28 grayscale images (one channel images) that are the american sign language representation of one of the 24 american letters that not requires any motion, i.e all the american letters except J and Z.\n",
        "\n",
        "The data is devided to:\n",
        "\n",
        "Test and Validation data- 27,455 images\n",
        " \n",
        "Test Data- 7,172 images \n",
        "\n",
        "The first column of the data frame represents the labels of the images. Because we have in total 26 american letters the labels are the numbers 0-25 correspondingly to the order of the letters, and because we are not using the letters J and Z we have the labels 0-8 and 10-24."
      ],
      "metadata": {
        "id": "cGvBEDNOqBoJ"
      }
    },
    {
      "cell_type": "code",
      "source": [
        "# Ron's paths\n",
        "# csv_train_path = \"/content/gdrive/MyDrive/Colab Notebooks/Deep Learning Final Project- ASL/sign_mnist_train.zip\"\n",
        "# csv_test_path = \"/content/gdrive/MyDrive/Colab Notebooks/Deep Learning Final Project- ASL/sign_mnist_test.zip\"\n",
        "\n",
        "# Aviv's paths\n",
        "csv_train_path = \"/content/gdrive/MyDrive/DP_course/final/data/sign_mnist_train.csv\"\n",
        "csv_test_path = \"/content/gdrive/MyDrive/DP_course/final/data/sign_mnist_test.csv\"\n"
      ],
      "metadata": {
        "id": "vMBLUgKeHD9T"
      },
      "execution_count": 3,
      "outputs": []
    },
    {
      "cell_type": "code",
      "source": [
        "df_train = pd.read_csv(csv_train_path)\n",
        "df_test = pd.read_csv(csv_test_path)"
      ],
      "metadata": {
        "id": "eU7yBu90K9kb"
      },
      "execution_count": 40,
      "outputs": []
    },
    {
      "cell_type": "code",
      "source": [
        "df_train"
      ],
      "metadata": {
        "id": "vUZgREy8E-Uq",
        "outputId": "7008878e-1d02-40f6-cce8-60582e069f15",
        "colab": {
          "base_uri": "https://localhost:8080/",
          "height": 488
        }
      },
      "execution_count": 5,
      "outputs": [
        {
          "output_type": "execute_result",
          "data": {
            "text/plain": [
              "       label  pixel1  pixel2  pixel3  pixel4  pixel5  pixel6  pixel7  pixel8  \\\n",
              "0          3     107     118     127     134     139     143     146     150   \n",
              "1          6     155     157     156     156     156     157     156     158   \n",
              "2          2     187     188     188     187     187     186     187     188   \n",
              "3          2     211     211     212     212     211     210     211     210   \n",
              "4         13     164     167     170     172     176     179     180     184   \n",
              "...      ...     ...     ...     ...     ...     ...     ...     ...     ...   \n",
              "27450     13     189     189     190     190     192     193     193     193   \n",
              "27451     23     151     154     157     158     160     161     163     164   \n",
              "27452     18     174     174     174     174     174     175     175     174   \n",
              "27453     17     177     181     184     185     187     189     190     191   \n",
              "27454     23     179     180     180     180     182     181     182     183   \n",
              "\n",
              "       pixel9  ...  pixel775  pixel776  pixel777  pixel778  pixel779  \\\n",
              "0         153  ...       207       207       207       207       206   \n",
              "1         158  ...        69       149       128        87        94   \n",
              "2         187  ...       202       201       200       199       198   \n",
              "3         210  ...       235       234       233       231       230   \n",
              "4         185  ...        92       105       105       108       133   \n",
              "...       ...  ...       ...       ...       ...       ...       ...   \n",
              "27450     193  ...       132       165        99        77        52   \n",
              "27451     166  ...       198       198       198       198       198   \n",
              "27452     173  ...       121       196       209       208       206   \n",
              "27453     191  ...       119        56        27        58       102   \n",
              "27454     182  ...       108       132       170       194       214   \n",
              "\n",
              "       pixel780  pixel781  pixel782  pixel783  pixel784  \n",
              "0           206       206       204       203       202  \n",
              "1           163       175       103       135       149  \n",
              "2           199       198       195       194       195  \n",
              "3           226       225       222       229       163  \n",
              "4           163       157       163       164       179  \n",
              "...         ...       ...       ...       ...       ...  \n",
              "27450       200       234       200       222       225  \n",
              "27451       196       195       195       195       194  \n",
              "27452       204       203       202       200       200  \n",
              "27453        79        47        64        87        93  \n",
              "27454       203       197       205       209       215  \n",
              "\n",
              "[27455 rows x 785 columns]"
            ],
            "text/html": [
              "\n",
              "  <div id=\"df-2a64d674-a495-4739-ba19-69e3554d7653\">\n",
              "    <div class=\"colab-df-container\">\n",
              "      <div>\n",
              "<style scoped>\n",
              "    .dataframe tbody tr th:only-of-type {\n",
              "        vertical-align: middle;\n",
              "    }\n",
              "\n",
              "    .dataframe tbody tr th {\n",
              "        vertical-align: top;\n",
              "    }\n",
              "\n",
              "    .dataframe thead th {\n",
              "        text-align: right;\n",
              "    }\n",
              "</style>\n",
              "<table border=\"1\" class=\"dataframe\">\n",
              "  <thead>\n",
              "    <tr style=\"text-align: right;\">\n",
              "      <th></th>\n",
              "      <th>label</th>\n",
              "      <th>pixel1</th>\n",
              "      <th>pixel2</th>\n",
              "      <th>pixel3</th>\n",
              "      <th>pixel4</th>\n",
              "      <th>pixel5</th>\n",
              "      <th>pixel6</th>\n",
              "      <th>pixel7</th>\n",
              "      <th>pixel8</th>\n",
              "      <th>pixel9</th>\n",
              "      <th>...</th>\n",
              "      <th>pixel775</th>\n",
              "      <th>pixel776</th>\n",
              "      <th>pixel777</th>\n",
              "      <th>pixel778</th>\n",
              "      <th>pixel779</th>\n",
              "      <th>pixel780</th>\n",
              "      <th>pixel781</th>\n",
              "      <th>pixel782</th>\n",
              "      <th>pixel783</th>\n",
              "      <th>pixel784</th>\n",
              "    </tr>\n",
              "  </thead>\n",
              "  <tbody>\n",
              "    <tr>\n",
              "      <th>0</th>\n",
              "      <td>3</td>\n",
              "      <td>107</td>\n",
              "      <td>118</td>\n",
              "      <td>127</td>\n",
              "      <td>134</td>\n",
              "      <td>139</td>\n",
              "      <td>143</td>\n",
              "      <td>146</td>\n",
              "      <td>150</td>\n",
              "      <td>153</td>\n",
              "      <td>...</td>\n",
              "      <td>207</td>\n",
              "      <td>207</td>\n",
              "      <td>207</td>\n",
              "      <td>207</td>\n",
              "      <td>206</td>\n",
              "      <td>206</td>\n",
              "      <td>206</td>\n",
              "      <td>204</td>\n",
              "      <td>203</td>\n",
              "      <td>202</td>\n",
              "    </tr>\n",
              "    <tr>\n",
              "      <th>1</th>\n",
              "      <td>6</td>\n",
              "      <td>155</td>\n",
              "      <td>157</td>\n",
              "      <td>156</td>\n",
              "      <td>156</td>\n",
              "      <td>156</td>\n",
              "      <td>157</td>\n",
              "      <td>156</td>\n",
              "      <td>158</td>\n",
              "      <td>158</td>\n",
              "      <td>...</td>\n",
              "      <td>69</td>\n",
              "      <td>149</td>\n",
              "      <td>128</td>\n",
              "      <td>87</td>\n",
              "      <td>94</td>\n",
              "      <td>163</td>\n",
              "      <td>175</td>\n",
              "      <td>103</td>\n",
              "      <td>135</td>\n",
              "      <td>149</td>\n",
              "    </tr>\n",
              "    <tr>\n",
              "      <th>2</th>\n",
              "      <td>2</td>\n",
              "      <td>187</td>\n",
              "      <td>188</td>\n",
              "      <td>188</td>\n",
              "      <td>187</td>\n",
              "      <td>187</td>\n",
              "      <td>186</td>\n",
              "      <td>187</td>\n",
              "      <td>188</td>\n",
              "      <td>187</td>\n",
              "      <td>...</td>\n",
              "      <td>202</td>\n",
              "      <td>201</td>\n",
              "      <td>200</td>\n",
              "      <td>199</td>\n",
              "      <td>198</td>\n",
              "      <td>199</td>\n",
              "      <td>198</td>\n",
              "      <td>195</td>\n",
              "      <td>194</td>\n",
              "      <td>195</td>\n",
              "    </tr>\n",
              "    <tr>\n",
              "      <th>3</th>\n",
              "      <td>2</td>\n",
              "      <td>211</td>\n",
              "      <td>211</td>\n",
              "      <td>212</td>\n",
              "      <td>212</td>\n",
              "      <td>211</td>\n",
              "      <td>210</td>\n",
              "      <td>211</td>\n",
              "      <td>210</td>\n",
              "      <td>210</td>\n",
              "      <td>...</td>\n",
              "      <td>235</td>\n",
              "      <td>234</td>\n",
              "      <td>233</td>\n",
              "      <td>231</td>\n",
              "      <td>230</td>\n",
              "      <td>226</td>\n",
              "      <td>225</td>\n",
              "      <td>222</td>\n",
              "      <td>229</td>\n",
              "      <td>163</td>\n",
              "    </tr>\n",
              "    <tr>\n",
              "      <th>4</th>\n",
              "      <td>13</td>\n",
              "      <td>164</td>\n",
              "      <td>167</td>\n",
              "      <td>170</td>\n",
              "      <td>172</td>\n",
              "      <td>176</td>\n",
              "      <td>179</td>\n",
              "      <td>180</td>\n",
              "      <td>184</td>\n",
              "      <td>185</td>\n",
              "      <td>...</td>\n",
              "      <td>92</td>\n",
              "      <td>105</td>\n",
              "      <td>105</td>\n",
              "      <td>108</td>\n",
              "      <td>133</td>\n",
              "      <td>163</td>\n",
              "      <td>157</td>\n",
              "      <td>163</td>\n",
              "      <td>164</td>\n",
              "      <td>179</td>\n",
              "    </tr>\n",
              "    <tr>\n",
              "      <th>...</th>\n",
              "      <td>...</td>\n",
              "      <td>...</td>\n",
              "      <td>...</td>\n",
              "      <td>...</td>\n",
              "      <td>...</td>\n",
              "      <td>...</td>\n",
              "      <td>...</td>\n",
              "      <td>...</td>\n",
              "      <td>...</td>\n",
              "      <td>...</td>\n",
              "      <td>...</td>\n",
              "      <td>...</td>\n",
              "      <td>...</td>\n",
              "      <td>...</td>\n",
              "      <td>...</td>\n",
              "      <td>...</td>\n",
              "      <td>...</td>\n",
              "      <td>...</td>\n",
              "      <td>...</td>\n",
              "      <td>...</td>\n",
              "      <td>...</td>\n",
              "    </tr>\n",
              "    <tr>\n",
              "      <th>27450</th>\n",
              "      <td>13</td>\n",
              "      <td>189</td>\n",
              "      <td>189</td>\n",
              "      <td>190</td>\n",
              "      <td>190</td>\n",
              "      <td>192</td>\n",
              "      <td>193</td>\n",
              "      <td>193</td>\n",
              "      <td>193</td>\n",
              "      <td>193</td>\n",
              "      <td>...</td>\n",
              "      <td>132</td>\n",
              "      <td>165</td>\n",
              "      <td>99</td>\n",
              "      <td>77</td>\n",
              "      <td>52</td>\n",
              "      <td>200</td>\n",
              "      <td>234</td>\n",
              "      <td>200</td>\n",
              "      <td>222</td>\n",
              "      <td>225</td>\n",
              "    </tr>\n",
              "    <tr>\n",
              "      <th>27451</th>\n",
              "      <td>23</td>\n",
              "      <td>151</td>\n",
              "      <td>154</td>\n",
              "      <td>157</td>\n",
              "      <td>158</td>\n",
              "      <td>160</td>\n",
              "      <td>161</td>\n",
              "      <td>163</td>\n",
              "      <td>164</td>\n",
              "      <td>166</td>\n",
              "      <td>...</td>\n",
              "      <td>198</td>\n",
              "      <td>198</td>\n",
              "      <td>198</td>\n",
              "      <td>198</td>\n",
              "      <td>198</td>\n",
              "      <td>196</td>\n",
              "      <td>195</td>\n",
              "      <td>195</td>\n",
              "      <td>195</td>\n",
              "      <td>194</td>\n",
              "    </tr>\n",
              "    <tr>\n",
              "      <th>27452</th>\n",
              "      <td>18</td>\n",
              "      <td>174</td>\n",
              "      <td>174</td>\n",
              "      <td>174</td>\n",
              "      <td>174</td>\n",
              "      <td>174</td>\n",
              "      <td>175</td>\n",
              "      <td>175</td>\n",
              "      <td>174</td>\n",
              "      <td>173</td>\n",
              "      <td>...</td>\n",
              "      <td>121</td>\n",
              "      <td>196</td>\n",
              "      <td>209</td>\n",
              "      <td>208</td>\n",
              "      <td>206</td>\n",
              "      <td>204</td>\n",
              "      <td>203</td>\n",
              "      <td>202</td>\n",
              "      <td>200</td>\n",
              "      <td>200</td>\n",
              "    </tr>\n",
              "    <tr>\n",
              "      <th>27453</th>\n",
              "      <td>17</td>\n",
              "      <td>177</td>\n",
              "      <td>181</td>\n",
              "      <td>184</td>\n",
              "      <td>185</td>\n",
              "      <td>187</td>\n",
              "      <td>189</td>\n",
              "      <td>190</td>\n",
              "      <td>191</td>\n",
              "      <td>191</td>\n",
              "      <td>...</td>\n",
              "      <td>119</td>\n",
              "      <td>56</td>\n",
              "      <td>27</td>\n",
              "      <td>58</td>\n",
              "      <td>102</td>\n",
              "      <td>79</td>\n",
              "      <td>47</td>\n",
              "      <td>64</td>\n",
              "      <td>87</td>\n",
              "      <td>93</td>\n",
              "    </tr>\n",
              "    <tr>\n",
              "      <th>27454</th>\n",
              "      <td>23</td>\n",
              "      <td>179</td>\n",
              "      <td>180</td>\n",
              "      <td>180</td>\n",
              "      <td>180</td>\n",
              "      <td>182</td>\n",
              "      <td>181</td>\n",
              "      <td>182</td>\n",
              "      <td>183</td>\n",
              "      <td>182</td>\n",
              "      <td>...</td>\n",
              "      <td>108</td>\n",
              "      <td>132</td>\n",
              "      <td>170</td>\n",
              "      <td>194</td>\n",
              "      <td>214</td>\n",
              "      <td>203</td>\n",
              "      <td>197</td>\n",
              "      <td>205</td>\n",
              "      <td>209</td>\n",
              "      <td>215</td>\n",
              "    </tr>\n",
              "  </tbody>\n",
              "</table>\n",
              "<p>27455 rows × 785 columns</p>\n",
              "</div>\n",
              "      <button class=\"colab-df-convert\" onclick=\"convertToInteractive('df-2a64d674-a495-4739-ba19-69e3554d7653')\"\n",
              "              title=\"Convert this dataframe to an interactive table.\"\n",
              "              style=\"display:none;\">\n",
              "        \n",
              "  <svg xmlns=\"http://www.w3.org/2000/svg\" height=\"24px\"viewBox=\"0 0 24 24\"\n",
              "       width=\"24px\">\n",
              "    <path d=\"M0 0h24v24H0V0z\" fill=\"none\"/>\n",
              "    <path d=\"M18.56 5.44l.94 2.06.94-2.06 2.06-.94-2.06-.94-.94-2.06-.94 2.06-2.06.94zm-11 1L8.5 8.5l.94-2.06 2.06-.94-2.06-.94L8.5 2.5l-.94 2.06-2.06.94zm10 10l.94 2.06.94-2.06 2.06-.94-2.06-.94-.94-2.06-.94 2.06-2.06.94z\"/><path d=\"M17.41 7.96l-1.37-1.37c-.4-.4-.92-.59-1.43-.59-.52 0-1.04.2-1.43.59L10.3 9.45l-7.72 7.72c-.78.78-.78 2.05 0 2.83L4 21.41c.39.39.9.59 1.41.59.51 0 1.02-.2 1.41-.59l7.78-7.78 2.81-2.81c.8-.78.8-2.07 0-2.86zM5.41 20L4 18.59l7.72-7.72 1.47 1.35L5.41 20z\"/>\n",
              "  </svg>\n",
              "      </button>\n",
              "      \n",
              "  <style>\n",
              "    .colab-df-container {\n",
              "      display:flex;\n",
              "      flex-wrap:wrap;\n",
              "      gap: 12px;\n",
              "    }\n",
              "\n",
              "    .colab-df-convert {\n",
              "      background-color: #E8F0FE;\n",
              "      border: none;\n",
              "      border-radius: 50%;\n",
              "      cursor: pointer;\n",
              "      display: none;\n",
              "      fill: #1967D2;\n",
              "      height: 32px;\n",
              "      padding: 0 0 0 0;\n",
              "      width: 32px;\n",
              "    }\n",
              "\n",
              "    .colab-df-convert:hover {\n",
              "      background-color: #E2EBFA;\n",
              "      box-shadow: 0px 1px 2px rgba(60, 64, 67, 0.3), 0px 1px 3px 1px rgba(60, 64, 67, 0.15);\n",
              "      fill: #174EA6;\n",
              "    }\n",
              "\n",
              "    [theme=dark] .colab-df-convert {\n",
              "      background-color: #3B4455;\n",
              "      fill: #D2E3FC;\n",
              "    }\n",
              "\n",
              "    [theme=dark] .colab-df-convert:hover {\n",
              "      background-color: #434B5C;\n",
              "      box-shadow: 0px 1px 3px 1px rgba(0, 0, 0, 0.15);\n",
              "      filter: drop-shadow(0px 1px 2px rgba(0, 0, 0, 0.3));\n",
              "      fill: #FFFFFF;\n",
              "    }\n",
              "  </style>\n",
              "\n",
              "      <script>\n",
              "        const buttonEl =\n",
              "          document.querySelector('#df-2a64d674-a495-4739-ba19-69e3554d7653 button.colab-df-convert');\n",
              "        buttonEl.style.display =\n",
              "          google.colab.kernel.accessAllowed ? 'block' : 'none';\n",
              "\n",
              "        async function convertToInteractive(key) {\n",
              "          const element = document.querySelector('#df-2a64d674-a495-4739-ba19-69e3554d7653');\n",
              "          const dataTable =\n",
              "            await google.colab.kernel.invokeFunction('convertToInteractive',\n",
              "                                                     [key], {});\n",
              "          if (!dataTable) return;\n",
              "\n",
              "          const docLinkHtml = 'Like what you see? Visit the ' +\n",
              "            '<a target=\"_blank\" href=https://colab.research.google.com/notebooks/data_table.ipynb>data table notebook</a>'\n",
              "            + ' to learn more about interactive tables.';\n",
              "          element.innerHTML = '';\n",
              "          dataTable['output_type'] = 'display_data';\n",
              "          await google.colab.output.renderOutput(dataTable, element);\n",
              "          const docLink = document.createElement('div');\n",
              "          docLink.innerHTML = docLinkHtml;\n",
              "          element.appendChild(docLink);\n",
              "        }\n",
              "      </script>\n",
              "    </div>\n",
              "  </div>\n",
              "  "
            ]
          },
          "metadata": {},
          "execution_count": 5
        }
      ]
    },
    {
      "cell_type": "markdown",
      "source": [
        "## **Presenting an image from the data as an example**"
      ],
      "metadata": {
        "id": "sz2uqVDn74pY"
      }
    },
    {
      "cell_type": "code",
      "source": [
        "pic_df = df_train.iloc[0:1,1:]\n",
        "pic = pic_df.to_numpy()\n",
        "plt.pyplot.imshow(pic.reshape(28,28), cmap=\"gray\")"
      ],
      "metadata": {
        "colab": {
          "base_uri": "https://localhost:8080/",
          "height": 282
        },
        "id": "EetAKTUS7_o_",
        "outputId": "b579f847-633f-4b76-fd97-846ef2a2b205"
      },
      "execution_count": null,
      "outputs": [
        {
          "output_type": "execute_result",
          "data": {
            "text/plain": [
              "<matplotlib.image.AxesImage at 0x7fc22342d6a0>"
            ]
          },
          "metadata": {},
          "execution_count": 4
        },
        {
          "output_type": "display_data",
          "data": {
            "text/plain": [
              "<Figure size 432x288 with 1 Axes>"
            ],
            "image/png": "[encoded data removed]"
          },
          "metadata": {
            "needs_background": "light"
          }
        }
      ]
    },
    {
      "cell_type": "markdown",
      "source": [
        "## **The Main Goal**\n",
        "\n",
        "Our goal will be to be able to classify the letter from an image that we took with our personal phones.\n",
        "This is one example for such an image "
      ],
      "metadata": {
        "id": "YSwgWUGE8Q7K"
      }
    },
    {
      "cell_type": "code",
      "source": [
        "ext_img_rgb = Image.open(\"/content/gdrive/MyDrive/Colab Notebooks/Deep Learning Final Project- ASL/ASL-test-img2.jpg\")\n",
        "ext_img_gray = ImageOps.grayscale(ext_img_rgb)\n",
        "plt.pyplot.imshow(ext_img_gray, cmap='gray')"
      ],
      "metadata": {
        "colab": {
          "base_uri": "https://localhost:8080/",
          "height": 287
        },
        "id": "UpEc1VuA8piS",
        "outputId": "78a93335-2803-45d2-c333-878f98f7026b"
      },
      "execution_count": null,
      "outputs": [
        {
          "output_type": "execute_result",
          "data": {
            "text/plain": [
              "<matplotlib.image.AxesImage at 0x7fa81d773490>"
            ]
          },
          "metadata": {},
          "execution_count": 39
        },
        {
          "output_type": "display_data",
          "data": {
            "text/plain": [
              "<Figure size 432x288 with 1 Axes>"
            ],
            "image/png": "[encoded data removed]"
          },
          "metadata": {}
        }
      ]
    },
    {
      "cell_type": "code",
      "source": [
        "# resize the image\n",
        "ext_img_gray_res = ext_img_gray.resize((28, 28))\n",
        "np_ext_img_gray = np.array(ext_img_gray_res)\n",
        "np.shape(np_ext_img_gray)\n",
        "plt.pyplot.imshow(ext_img_gray_res, cmap='gray')"
      ],
      "metadata": {
        "colab": {
          "base_uri": "https://localhost:8080/",
          "height": 283
        },
        "id": "dPCLc8-L9ds7",
        "outputId": "fa333b43-3ea5-48b9-9358-3c27298dce7c"
      },
      "execution_count": null,
      "outputs": [
        {
          "output_type": "execute_result",
          "data": {
            "text/plain": [
              "<matplotlib.image.AxesImage at 0x7fa81d7460d0>"
            ]
          },
          "metadata": {},
          "execution_count": 40
        },
        {
          "output_type": "display_data",
          "data": {
            "text/plain": [
              "<Figure size 432x288 with 1 Axes>"
            ],
            "image/png": "[encoded data removed]"
          },
          "metadata": {}
        }
      ]
    },
    {
      "cell_type": "markdown",
      "source": [
        "## **Check if the data is balanced**\n",
        "\n",
        "In order to know how to train our network weights properly, we would like to know if we have almost the same amount of images from each label, which can be treated as balanced training data. "
      ],
      "metadata": {
        "id": "-hXCN0rc4V6T"
      }
    },
    {
      "cell_type": "code",
      "source": [
        "# calculate the appearence percentage for each label\n",
        "count_label = df_train.groupby('label').size() \n",
        "count_label_percentage = count_label/len(df_train.axes[0])\n",
        "count_label_percentage"
      ],
      "metadata": {
        "colab": {
          "base_uri": "https://localhost:8080/"
        },
        "id": "mbYQf-3K5T68",
        "outputId": "28621005-4520-4962-9d94-eb818d522aba"
      },
      "execution_count": null,
      "outputs": [
        {
          "output_type": "execute_result",
          "data": {
            "text/plain": [
              "label\n",
              "0     0.041013\n",
              "1     0.036787\n",
              "2     0.041668\n",
              "3     0.043562\n",
              "4     0.034857\n",
              "5     0.043854\n",
              "6     0.039701\n",
              "7     0.036897\n",
              "8     0.042324\n",
              "10    0.040575\n",
              "11    0.045201\n",
              "12    0.038427\n",
              "13    0.041923\n",
              "14    0.043562\n",
              "15    0.039628\n",
              "16    0.046585\n",
              "17    0.047132\n",
              "18    0.043671\n",
              "19    0.043198\n",
              "20    0.042287\n",
              "21    0.039410\n",
              "22    0.044618\n",
              "23    0.042397\n",
              "24    0.040721\n",
              "dtype: float64"
            ]
          },
          "metadata": {},
          "execution_count": 5
        }
      ]
    },
    {
      "cell_type": "code",
      "source": [
        "# calculate the distance to the average number of images per label (in terms of number of images)\n",
        "label_avg_count = count_label.sum()//24\n",
        "print(\"The average number of samples per label is: \", label_avg_count)\n",
        "label_diffrence_from_avg = abs(count_label - label_avg_count)\n",
        "label_diffrence_from_avg"
      ],
      "metadata": {
        "colab": {
          "base_uri": "https://localhost:8080/"
        },
        "id": "j8-MLG8f6dWb",
        "outputId": "1e7c534b-a50f-444e-ae46-98a11c41b6b3"
      },
      "execution_count": null,
      "outputs": [
        {
          "output_type": "stream",
          "name": "stdout",
          "text": [
            "The average number of samples per label is:  1143\n"
          ]
        },
        {
          "output_type": "execute_result",
          "data": {
            "text/plain": [
              "label\n",
              "0      17\n",
              "1     133\n",
              "2       1\n",
              "3      53\n",
              "4     186\n",
              "5      61\n",
              "6      53\n",
              "7     130\n",
              "8      19\n",
              "10     29\n",
              "11     98\n",
              "12     88\n",
              "13      8\n",
              "14     53\n",
              "15     55\n",
              "16    136\n",
              "17    151\n",
              "18     56\n",
              "19     43\n",
              "20     18\n",
              "21     61\n",
              "22     82\n",
              "23     21\n",
              "24     25\n",
              "dtype: int64"
            ]
          },
          "metadata": {},
          "execution_count": 34
        }
      ]
    },
    {
      "cell_type": "code",
      "source": [
        "# visualize the label distribution\n",
        "y_train = df_train['label']\n",
        "plt.pyplot.figure(figsize=(15,6))\n",
        "sns.set_style(\"darkgrid\")\n",
        "sns.countplot(y_train)"
      ],
      "metadata": {
        "id": "m0Y3gl0YKnMg",
        "colab": {
          "base_uri": "https://localhost:8080/",
          "height": 460
        },
        "outputId": "1eef16c1-1098-4967-c6b0-a1bf1ae1eebf"
      },
      "execution_count": null,
      "outputs": [
        {
          "output_type": "stream",
          "name": "stderr",
          "text": [
            "/usr/local/lib/python3.8/dist-packages/seaborn/_decorators.py:36: FutureWarning: Pass the following variable as a keyword arg: x. From version 0.12, the only valid positional argument will be `data`, and passing other arguments without an explicit keyword will result in an error or misinterpretation.\n",
            "  warnings.warn(\n"
          ]
        },
        {
          "output_type": "execute_result",
          "data": {
            "text/plain": [
              "<matplotlib.axes._subplots.AxesSubplot at 0x7fc2233622b0>"
            ]
          },
          "metadata": {},
          "execution_count": 6
        },
        {
          "output_type": "display_data",
          "data": {
            "text/plain": [
              "<Figure size 1080x432 with 1 Axes>"
            ],
            "image/png": "[encoded data removed]"
          },
          "metadata": {
            "needs_background": "light"
          }
        }
      ]
    },
    {
      "cell_type": "markdown",
      "source": [
        "## **Split the data into train and validation**"
      ],
      "metadata": {
        "id": "SyXyoJyD-ej-"
      }
    },
    {
      "cell_type": "code",
      "source": [
        "# y_train = df_train['label']\n",
        "# y_test = df_test['label']\n",
        "# del df_train['label']\n",
        "# del df_test['label']\n",
        "# x_train = df_train.values\n",
        "# x_test = df_test.values\n",
        "# x_train = x_train / 255\n",
        "# x_test = x_test / 255\n",
        "# x_train = x_train.reshape(-1,28,28,1)\n",
        "# x_test = x_test.reshape(-1,28,28,1)\n",
        "# x_test_tensor = torch.Tensor(x_test).swapaxes(1, 3).swapaxes(2 , 3)\n",
        "# x_train_tensor = torch.Tensor(x_train).swapaxes(1, 3).swapaxes(2 , 3)"
      ],
      "metadata": {
        "id": "WeH4H6Sw-dhL"
      },
      "execution_count": 28,
      "outputs": []
    },
    {
      "cell_type": "code",
      "source": [
        "# print(x_test.shape)\n",
        "# print(x_test_tensor.shape)"
      ],
      "metadata": {
        "colab": {
          "base_uri": "https://localhost:8080/"
        },
        "id": "05omY_oWO-zu",
        "outputId": "85bd9975-2f8c-40e5-9f0f-9ebb2fdbd1ba"
      },
      "execution_count": 26,
      "outputs": [
        {
          "output_type": "stream",
          "name": "stdout",
          "text": [
            "(7172, 28, 28, 1)\n",
            "torch.Size([7172, 1, 28, 28])\n"
          ]
        }
      ]
    },
    {
      "cell_type": "code",
      "source": [],
      "metadata": {
        "id": "sI7GlX3KT9rg"
      },
      "execution_count": 31,
      "outputs": []
    },
    {
      "cell_type": "code",
      "source": [
        "# norm_mean = 0.5 \n",
        "# norm_std = 0.5 \n",
        "# output_size = 24      # there are 10 classes\n",
        "# train_loader = torch.utils.data.DataLoader(df_train, batch_size=500, shuffle=True , transform=transforms.Compose([\n",
        "#                        transforms.ToTensor(),\n",
        "#                        transforms.Normalize((norm_mean,), (norm_std,))\n",
        "#                    ]))\n",
        "# test_loader = torch.utils.data.DataLoader(df_test, batch_size=500, shuffle=True)\n",
        "# print(train_loader.dataset.__len__())\n",
        "# print(test_loader.dataset.__len__())"
      ],
      "metadata": {
        "id": "0nZmWO6_Ht8G",
        "outputId": "948ed78f-c721-4625-8b21-99d6287830d6",
        "colab": {
          "base_uri": "https://localhost:8080/",
          "height": 235
        }
      },
      "execution_count": null,
      "outputs": [
        {
          "output_type": "error",
          "ename": "TypeError",
          "evalue": "ignored",
          "traceback": [
            "\u001b[0;31m---------------------------------------------------------------------------\u001b[0m",
            "\u001b[0;31mTypeError\u001b[0m                                 Traceback (most recent call last)",
            "\u001b[0;32m<ipython-input-23-b7a8ae2aeefa>\u001b[0m in \u001b[0;36m<module>\u001b[0;34m\u001b[0m\n\u001b[1;32m      2\u001b[0m \u001b[0mnorm_std\u001b[0m \u001b[0;34m=\u001b[0m \u001b[0;36m0.5\u001b[0m\u001b[0;34m\u001b[0m\u001b[0;34m\u001b[0m\u001b[0m\n\u001b[1;32m      3\u001b[0m \u001b[0moutput_size\u001b[0m \u001b[0;34m=\u001b[0m \u001b[0;36m24\u001b[0m      \u001b[0;31m# there are 10 classes\u001b[0m\u001b[0;34m\u001b[0m\u001b[0;34m\u001b[0m\u001b[0m\n\u001b[0;32m----> 4\u001b[0;31m train_loader = torch.utils.data.DataLoader(df_train, batch_size=500, shuffle=True , transform=transforms.Compose([\n\u001b[0m\u001b[1;32m      5\u001b[0m                        \u001b[0mtransforms\u001b[0m\u001b[0;34m.\u001b[0m\u001b[0mToTensor\u001b[0m\u001b[0;34m(\u001b[0m\u001b[0;34m)\u001b[0m\u001b[0;34m,\u001b[0m\u001b[0;34m\u001b[0m\u001b[0;34m\u001b[0m\u001b[0m\n\u001b[1;32m      6\u001b[0m                        \u001b[0mtransforms\u001b[0m\u001b[0;34m.\u001b[0m\u001b[0mNormalize\u001b[0m\u001b[0;34m(\u001b[0m\u001b[0;34m(\u001b[0m\u001b[0mnorm_mean\u001b[0m\u001b[0;34m,\u001b[0m\u001b[0;34m)\u001b[0m\u001b[0;34m,\u001b[0m \u001b[0;34m(\u001b[0m\u001b[0mnorm_std\u001b[0m\u001b[0;34m,\u001b[0m\u001b[0;34m)\u001b[0m\u001b[0;34m)\u001b[0m\u001b[0;34m\u001b[0m\u001b[0;34m\u001b[0m\u001b[0m\n",
            "\u001b[0;31mTypeError\u001b[0m: __init__() got an unexpected keyword argument 'transform'"
          ]
        }
      ]
    },
    {
      "cell_type": "markdown",
      "source": [
        "## **Creating the neural network for the classification**\n",
        "\n",
        "Consider ResNet and VGG"
      ],
      "metadata": {
        "id": "QCJE9ZbN-uEV"
      }
    },
    {
      "cell_type": "code",
      "source": [
        "class ConvNet(nn.Module):\n",
        "    def __init__(self):\n",
        "        super().__init__()\n",
        "        \n",
        "        self.conv1 = nn.Conv2d(in_channels=1, out_channels=75, kernel_size=(3, 3), stride=1, padding=1)\n",
        "        self.batchnorm1 = nn.BatchNorm2d(75)\n",
        "        self.pool1 = nn.MaxPool2d(kernel_size=(2, 2), stride=2, padding=0)\n",
        "        \n",
        "        self.conv2 = nn.Conv2d(in_channels=75, out_channels=50, kernel_size=(3, 3), stride=1, padding=1)\n",
        "        self.dropout = nn.Dropout(0.2)\n",
        "        self.batchnorm2 = nn.BatchNorm2d(50)\n",
        "        self.pool2 = nn.MaxPool2d(kernel_size=(2, 2), stride=2, padding=0)\n",
        "        \n",
        "        self.conv3 = nn.Conv2d(in_channels=50, out_channels=25, kernel_size=(3, 3), stride=1, padding=1)\n",
        "        self.batchnorm3 = nn.BatchNorm2d(25)\n",
        "        self.pool3 = nn.MaxPool2d(kernel_size=(2, 2), stride=2, padding=1)\n",
        "        \n",
        "        self.fc1 = nn.Linear(25 * 4 * 4, 512)\n",
        "        self.dropout2 = nn.Dropout(0.3)\n",
        "        self.fc2 = nn.Linear(512, 25)\n",
        "        self.softmax = nn.Softmax(dim=1)\n",
        "        \n",
        "    def forward(self, x):\n",
        "        x = F.relu(self.conv1(x))\n",
        "        x = self.batchnorm1(x)\n",
        "        x = self.pool1(x)\n",
        "\n",
        "        x = F.relu(self.conv2(x))\n",
        "        x = self.dropout(x)\n",
        "        x = self.batchnorm2(x)\n",
        "        x = self.pool2(x)\n",
        "\n",
        "        x = F.relu(self.conv3(x))\n",
        "        x = self.batchnorm3(x)\n",
        "        x = self.pool3(x)\n",
        "\n",
        "        x = x.view(-1, 25 * 4 * 4)\n",
        "        x = F.relu(self.fc1(x))\n",
        "        x = self.dropout2(x)\n",
        "        x = self.fc2(x)\n",
        "        x = F.log_softmax(x, dim=1)\n",
        "        \n",
        "        return x"
      ],
      "metadata": {
        "id": "-4K99SW2BWCV"
      },
      "execution_count": 151,
      "outputs": []
    },
    {
      "cell_type": "markdown",
      "source": [
        "## **Creating the training function**"
      ],
      "metadata": {
        "id": "krLCucnWHCbF"
      }
    },
    {
      "cell_type": "code",
      "source": [
        "def train_model(train_data, model, criterion, optimizer, num_epochs = 500, batch_size= 500):\n",
        "    model.train()\n",
        "\n",
        "    # Convert the dataframe into a PyTorch tensor\n",
        "    data = torch.tensor(train_data.values, dtype=torch.float32)\n",
        "    \n",
        "    # Split the data into inputs (images) and targets (labels)\n",
        "    inputs = data[:, 1:]\n",
        "    targets = data[:, 0].long()\n",
        "    \n",
        "    # Normalize the inputs\n",
        "    inputs = inputs / 255.0\n",
        "    \n",
        "    # Convert inputs into a 4D tensor for processing by the model\n",
        "    inputs = inputs.view(-1, 1, 28, 28)\n",
        "    \n",
        "    # Create a TensorDataset from the inputs and targets\n",
        "    dataset = TensorDataset(inputs, targets)\n",
        "    \n",
        "    # Create a DataLoader from the dataset\n",
        "    data_loader = DataLoader(dataset, batch_size=batch_size, shuffle=True)\n",
        "    for epoch in range(num_epochs):\n",
        "        for i, (images, labels) in enumerate(data_loader):\n",
        "            images, labels = images.to(device), labels.to(device)\n",
        "            # Forward pass\n",
        "            outputs = model(images)\n",
        "            #loss = criterion(outputs.cpu(), labels.cpu())\n",
        "            loss = F.nll_loss(outputs.cpu(), labels.cpu())\n",
        "            # Backward pass and optimization\n",
        "            optimizer.zero_grad()\n",
        "            loss.backward()\n",
        "            optimizer.step()\n",
        "            \n",
        "        if (epoch+1) % 10 == 0:\n",
        "            print(f'Epoch [{epoch+1}/{num_epochs}], Loss: {loss.item()}')\n",
        "            \n",
        "    print('Finished Training')"
      ],
      "metadata": {
        "id": "9iFvixTGNG-y"
      },
      "execution_count": 147,
      "outputs": []
    },
    {
      "cell_type": "markdown",
      "source": [
        "##Train the model"
      ],
      "metadata": {
        "id": "x5qWmFnCZBbO"
      }
    },
    {
      "cell_type": "code",
      "source": [
        "model = ConvNet()\n",
        "criterion = nn.CrossEntropyLoss()\n",
        "optimizer = torch.optim.Adam(model.parameters())"
      ],
      "metadata": {
        "id": "8hR7IBGkZECe"
      },
      "execution_count": 152,
      "outputs": []
    },
    {
      "cell_type": "code",
      "source": [
        "from torchvision import models\n",
        "from torchsummary import summary\n",
        "summary(model.cuda(), (1,28,28))"
      ],
      "metadata": {
        "colab": {
          "base_uri": "https://localhost:8080/"
        },
        "id": "eu82qaJacRAO",
        "outputId": "9269c264-018e-4568-bd74-2c765b207dc5"
      },
      "execution_count": 102,
      "outputs": [
        {
          "output_type": "stream",
          "name": "stdout",
          "text": [
            "input shape: torch.Size([2, 1, 28, 28])\n",
            "second shape: torch.Size([2, 75, 14, 14])\n",
            "3 shape: torch.Size([2, 50, 7, 7])\n",
            "4 shape: torch.Size([2, 25, 4, 4])\n",
            "----------------------------------------------------------------\n",
            "        Layer (type)               Output Shape         Param #\n",
            "================================================================\n",
            "            Conv2d-1           [-1, 75, 28, 28]             750\n",
            "       BatchNorm2d-2           [-1, 75, 28, 28]             150\n",
            "         MaxPool2d-3           [-1, 75, 14, 14]               0\n",
            "            Conv2d-4           [-1, 50, 14, 14]          33,800\n",
            "           Dropout-5           [-1, 50, 14, 14]               0\n",
            "       BatchNorm2d-6           [-1, 50, 14, 14]             100\n",
            "         MaxPool2d-7             [-1, 50, 7, 7]               0\n",
            "            Conv2d-8             [-1, 25, 7, 7]          11,275\n",
            "       BatchNorm2d-9             [-1, 25, 7, 7]              50\n",
            "        MaxPool2d-10             [-1, 25, 4, 4]               0\n",
            "           Linear-11                  [-1, 512]         205,312\n",
            "          Dropout-12                  [-1, 512]               0\n",
            "           Linear-13                   [-1, 24]          12,312\n",
            "          Softmax-14                   [-1, 24]               0\n",
            "================================================================\n",
            "Total params: 263,749\n",
            "Trainable params: 263,749\n",
            "Non-trainable params: 0\n",
            "----------------------------------------------------------------\n",
            "Input size (MB): 0.00\n",
            "Forward/backward pass size (MB): 1.28\n",
            "Params size (MB): 1.01\n",
            "Estimated Total Size (MB): 2.29\n",
            "----------------------------------------------------------------\n"
          ]
        }
      ]
    },
    {
      "cell_type": "code",
      "source": [
        "model.to(device)\n",
        "train_model(df_train, model, criterion, optimizer, num_epochs = 200, batch_size= 128)"
      ],
      "metadata": {
        "colab": {
          "base_uri": "https://localhost:8080/"
        },
        "id": "9C6WXW7_ZFJl",
        "outputId": "c6a50f63-9568-4324-9a52-e3090359e398"
      },
      "execution_count": 153,
      "outputs": [
        {
          "output_type": "stream",
          "name": "stdout",
          "text": [
            "Epoch [10/200], Loss: 0.0042738462798297405\n",
            "Epoch [20/200], Loss: 3.907289283233695e-06\n",
            "Epoch [30/200], Loss: 1.1863387044286355e-05\n",
            "Epoch [40/200], Loss: 1.7592696167412214e-05\n",
            "Epoch [50/200], Loss: 0.07611031085252762\n",
            "Epoch [60/200], Loss: 1.8543612156918243e-07\n",
            "Epoch [70/200], Loss: 1.892210832465935e-09\n",
            "Epoch [80/200], Loss: 5.405445335782133e-06\n",
            "Epoch [90/200], Loss: 0.0\n",
            "Epoch [100/200], Loss: 3.5194744896216434e-07\n",
            "Epoch [110/200], Loss: 0.0\n",
            "Epoch [120/200], Loss: 1.892210832465935e-09\n",
            "Epoch [130/200], Loss: 0.0\n",
            "Epoch [140/200], Loss: 0.0\n",
            "Epoch [150/200], Loss: 0.0\n",
            "Epoch [160/200], Loss: 0.0\n",
            "Epoch [170/200], Loss: 0.0\n",
            "Epoch [180/200], Loss: 0.0\n",
            "Epoch [190/200], Loss: 0.0\n",
            "Epoch [200/200], Loss: 0.0\n",
            "Finished Training\n"
          ]
        }
      ]
    },
    {
      "cell_type": "code",
      "source": [
        "# Convert the dataframe into a PyTorch tensor\n",
        "data = torch.tensor(df_test.values, dtype=torch.float32)\n",
        "    \n",
        "# Split the data into inputs (images) and targets (labels)\n",
        "inputs = data[:, 1:]\n",
        "targets = data[:, 0].long()\n",
        "    \n",
        "# Normalize the inputs\n",
        "inputs = inputs / 255.0\n",
        "    \n",
        "# Convert inputs into a 4D tensor for processing by the model\n",
        "inputs = inputs.view(-1, 1, 28, 28)\n",
        "    \n",
        "# Create a TensorDataset from the inputs and targets\n",
        "dataset = TensorDataset(inputs, targets)\n",
        "    \n",
        "# Create a DataLoader from the dataset\n",
        "test_loader = DataLoader(dataset, batch_size=128, shuffle=True)"
      ],
      "metadata": {
        "id": "-vffSCU7oa2O"
      },
      "execution_count": 155,
      "outputs": []
    },
    {
      "cell_type": "code",
      "source": [
        "def test(model, test_loader, criterion):\n",
        "    model.eval()\n",
        "    with torch.no_grad():\n",
        "        correct = 0\n",
        "        total = 0\n",
        "        for images, labels in test_loader:\n",
        "            images = images.to(device)\n",
        "            labels = labels.to(device)\n",
        "            outputs = model(images)\n",
        "            _, predicted = torch.max(outputs.data, 1)\n",
        "            total += labels.size(0)\n",
        "            correct += (predicted == labels).sum().item()\n",
        "        accuracy = correct / total\n",
        "        return accuracy"
      ],
      "metadata": {
        "id": "S5hxEdF7rXBG"
      },
      "execution_count": 156,
      "outputs": []
    },
    {
      "cell_type": "code",
      "source": [
        "xxxxx = test(model, test_loader, criterion)\n",
        "print(xxxxx)"
      ],
      "metadata": {
        "colab": {
          "base_uri": "https://localhost:8080/"
        },
        "id": "u7fqSxonqaB8",
        "outputId": "a8b035fd-bd52-4cb5-df06-9628474fadcd"
      },
      "execution_count": 160,
      "outputs": [
        {
          "output_type": "stream",
          "name": "stdout",
          "text": [
            "0.9726715002788623\n"
          ]
        }
      ]
    }
  ]
}