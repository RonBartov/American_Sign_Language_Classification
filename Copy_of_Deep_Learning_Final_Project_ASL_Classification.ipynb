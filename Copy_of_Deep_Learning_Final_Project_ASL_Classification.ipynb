{
  "nbformat": 4,
  "nbformat_minor": 0,
  "metadata": {
    "colab": {
      "provenance": [],
      "include_colab_link": true
    },
    "kernelspec": {
      "name": "python3",
      "display_name": "Python 3"
    },
    "language_info": {
      "name": "python"
    },
    "accelerator": "GPU",
    "gpuClass": "standard"
  },
  "cells": [
    {
      "cell_type": "markdown",
      "metadata": {
        "id": "view-in-github",
        "colab_type": "text"
      },
      "source": [
        "<a href=\"https://colab.research.google.com/github/RonBartov/American_Sign_Language_Classification/blob/main/Copy_of_Deep_Learning_Final_Project_ASL_Classification.ipynb\" target=\"_parent\"><img src=\"https://colab.research.google.com/assets/colab-badge.svg\" alt=\"Open In Colab\"/></a>"
      ]
    },
    {
      "cell_type": "code",
      "execution_count": 1,
      "metadata": {
        "id": "aMh1xZpHfGw3",
        "colab": {
          "base_uri": "https://localhost:8080/"
        },
        "outputId": "1351f3b0-547f-43a7-be4a-605411b5919b"
      },
      "outputs": [
        {
          "output_type": "stream",
          "name": "stdout",
          "text": [
            "Mounted at /content/gdrive\n"
          ]
        }
      ],
      "source": [
        "import cv2\n",
        "import numpy as np\n",
        "import matplotlib as plt\n",
        "import pandas as pd\n",
        "from PIL import Image,ImageOps\n",
        "from google.colab import drive\n",
        "import seaborn as sns\n",
        "drive.mount('/content/gdrive')"
      ]
    },
    {
      "cell_type": "code",
      "source": [
        "from torch.utils.data import DataLoader, TensorDataset\n",
        "from torchvision import transforms\n",
        "from torch.autograd import Variable\n",
        "import torch\n",
        "import torch.nn as nn\n",
        "import torch.nn.functional as F\n",
        "from torchvision.utils import make_grid\n",
        "from IPython.display import Image\n",
        "import matplotlib.pyplot as plt\n",
        "import numpy as np\n",
        "import random\n",
        "\n",
        "from torchvision.utils import make_grid\n",
        "import torch.optim as optim\n",
        "device = torch.device('cuda' if torch.cuda.is_available() else 'cpu')"
      ],
      "metadata": {
        "id": "25cpEMAeG2As"
      },
      "execution_count": 50,
      "outputs": []
    },
    {
      "cell_type": "markdown",
      "source": [
        "## **Import The Data**\n",
        "\n",
        "Our data composed from 28x28 grayscale images (one channel images) that are the american sign language representation of one of the 24 american letters that not requires any motion, i.e all the american letters except J and Z.\n",
        "\n",
        "The data is devided to:\n",
        "\n",
        "Test and Validation data- 27,455 images\n",
        " \n",
        "Test Data- 7,172 images \n",
        "\n",
        "The first column of the data frame represents the labels of the images. Because we have in total 26 american letters the labels are the numbers 0-25 correspondingly to the order of the letters, and because we are not using the letters J and Z we have the labels 0-8 and 10-24."
      ],
      "metadata": {
        "id": "cGvBEDNOqBoJ"
      }
    },
    {
      "cell_type": "code",
      "source": [
        "# Ron's paths\n",
        "# csv_train_path = \"/content/gdrive/MyDrive/Colab Notebooks/Deep Learning Final Project- ASL/sign_mnist_train.zip\"\n",
        "# csv_test_path = \"/content/gdrive/MyDrive/Colab Notebooks/Deep Learning Final Project- ASL/sign_mnist_test.zip\"\n",
        "\n",
        "# Aviv's paths\n",
        "csv_train_path = \"/content/gdrive/MyDrive/DP_course/final/data/sign_mnist_train.csv\"\n",
        "csv_test_path = \"/content/gdrive/MyDrive/DP_course/final/data/sign_mnist_test.csv\"\n"
      ],
      "metadata": {
        "id": "vMBLUgKeHD9T"
      },
      "execution_count": 3,
      "outputs": []
    },
    {
      "cell_type": "code",
      "source": [
        "df_train = pd.read_csv(csv_train_path)\n",
        "df_test = pd.read_csv(csv_test_path)"
      ],
      "metadata": {
        "id": "eU7yBu90K9kb"
      },
      "execution_count": 178,
      "outputs": []
    },
    {
      "cell_type": "code",
      "source": [
        "lenn = len(df_train)\n",
        "train_size = int(0.8 * len(df_train))\n",
        "val_size = len(df_train) - train_size\n",
        "\n",
        "df_val = df_train[train_size:]\n",
        "df_train = df_train[:train_size-1]\n",
        "print(len(df_train))"
      ],
      "metadata": {
        "id": "vUZgREy8E-Uq",
        "outputId": "1f4ee6a8-49a1-4cb9-c224-47da5999bb71",
        "colab": {
          "base_uri": "https://localhost:8080/"
        }
      },
      "execution_count": 179,
      "outputs": [
        {
          "output_type": "stream",
          "name": "stdout",
          "text": [
            "21963\n"
          ]
        }
      ]
    },
    {
      "cell_type": "markdown",
      "source": [
        "## **Presenting an image from the data as an example**"
      ],
      "metadata": {
        "id": "sz2uqVDn74pY"
      }
    },
    {
      "cell_type": "code",
      "source": [
        "pic_df = df_train.iloc[0:1,1:]\n",
        "pic = pic_df.to_numpy()\n",
        "plt.pyplot.imshow(pic.reshape(28,28), cmap=\"gray\")"
      ],
      "metadata": {
        "colab": {
          "base_uri": "https://localhost:8080/",
          "height": 282
        },
        "id": "EetAKTUS7_o_",
        "outputId": "b579f847-633f-4b76-fd97-846ef2a2b205"
      },
      "execution_count": null,
      "outputs": [
        {
          "output_type": "execute_result",
          "data": {
            "text/plain": [
              "<matplotlib.image.AxesImage at 0x7fc22342d6a0>"
            ]
          },
          "metadata": {},
          "execution_count": 4
        },
        {
          "output_type": "display_data",
          "data": {
            "text/plain": [
              "<Figure size 432x288 with 1 Axes>"
            ],
            "image/png": "[encoded data removed]"
          },
          "metadata": {
            "needs_background": "light"
          }
        }
      ]
    },
    {
      "cell_type": "markdown",
      "source": [
        "## **The Main Goal**\n",
        "\n",
        "Our goal will be to be able to classify the letter from an image that we took with our personal phones.\n",
        "This is one example for such an image "
      ],
      "metadata": {
        "id": "YSwgWUGE8Q7K"
      }
    },
    {
      "cell_type": "code",
      "source": [
        "ext_img_rgb = Image.open(\"/content/gdrive/MyDrive/Colab Notebooks/Deep Learning Final Project- ASL/ASL-test-img2.jpg\")\n",
        "ext_img_gray = ImageOps.grayscale(ext_img_rgb)\n",
        "plt.pyplot.imshow(ext_img_gray, cmap='gray')"
      ],
      "metadata": {
        "colab": {
          "base_uri": "https://localhost:8080/",
          "height": 287
        },
        "id": "UpEc1VuA8piS",
        "outputId": "78a93335-2803-45d2-c333-878f98f7026b"
      },
      "execution_count": null,
      "outputs": [
        {
          "output_type": "execute_result",
          "data": {
            "text/plain": [
              "<matplotlib.image.AxesImage at 0x7fa81d773490>"
            ]
          },
          "metadata": {},
          "execution_count": 39
        },
        {
          "output_type": "display_data",
          "data": {
            "text/plain": [
              "<Figure size 432x288 with 1 Axes>"
            ],
            "image/png": "[encoded data removed]"
          },
          "metadata": {}
        }
      ]
    },
    {
      "cell_type": "code",
      "source": [
        "# resize the image\n",
        "ext_img_gray_res = ext_img_gray.resize((28, 28))\n",
        "np_ext_img_gray = np.array(ext_img_gray_res)\n",
        "np.shape(np_ext_img_gray)\n",
        "plt.pyplot.imshow(ext_img_gray_res, cmap='gray')"
      ],
      "metadata": {
        "colab": {
          "base_uri": "https://localhost:8080/",
          "height": 283
        },
        "id": "dPCLc8-L9ds7",
        "outputId": "fa333b43-3ea5-48b9-9358-3c27298dce7c"
      },
      "execution_count": null,
      "outputs": [
        {
          "output_type": "execute_result",
          "data": {
            "text/plain": [
              "<matplotlib.image.AxesImage at 0x7fa81d7460d0>"
            ]
          },
          "metadata": {},
          "execution_count": 40
        },
        {
          "output_type": "display_data",
          "data": {
            "text/plain": [
              "<Figure size 432x288 with 1 Axes>"
            ],
            "image/png": "[encoded data removed]"
          },
          "metadata": {}
        }
      ]
    },
    {
      "cell_type": "markdown",
      "source": [
        "## **Check if the data is balanced**\n",
        "\n",
        "In order to know how to train our network weights properly, we would like to know if we have almost the same amount of images from each label, which can be treated as balanced training data. "
      ],
      "metadata": {
        "id": "-hXCN0rc4V6T"
      }
    },
    {
      "cell_type": "code",
      "source": [
        "# calculate the appearence percentage for each label\n",
        "count_label = df_train.groupby('label').size() \n",
        "count_label_percentage = count_label/len(df_train.axes[0])\n",
        "count_label_percentage"
      ],
      "metadata": {
        "colab": {
          "base_uri": "https://localhost:8080/"
        },
        "id": "mbYQf-3K5T68",
        "outputId": "28621005-4520-4962-9d94-eb818d522aba"
      },
      "execution_count": null,
      "outputs": [
        {
          "output_type": "execute_result",
          "data": {
            "text/plain": [
              "label\n",
              "0     0.041013\n",
              "1     0.036787\n",
              "2     0.041668\n",
              "3     0.043562\n",
              "4     0.034857\n",
              "5     0.043854\n",
              "6     0.039701\n",
              "7     0.036897\n",
              "8     0.042324\n",
              "10    0.040575\n",
              "11    0.045201\n",
              "12    0.038427\n",
              "13    0.041923\n",
              "14    0.043562\n",
              "15    0.039628\n",
              "16    0.046585\n",
              "17    0.047132\n",
              "18    0.043671\n",
              "19    0.043198\n",
              "20    0.042287\n",
              "21    0.039410\n",
              "22    0.044618\n",
              "23    0.042397\n",
              "24    0.040721\n",
              "dtype: float64"
            ]
          },
          "metadata": {},
          "execution_count": 5
        }
      ]
    },
    {
      "cell_type": "code",
      "source": [
        "# calculate the distance to the average number of images per label (in terms of number of images)\n",
        "label_avg_count = count_label.sum()//24\n",
        "print(\"The average number of samples per label is: \", label_avg_count)\n",
        "label_diffrence_from_avg = abs(count_label - label_avg_count)\n",
        "label_diffrence_from_avg"
      ],
      "metadata": {
        "colab": {
          "base_uri": "https://localhost:8080/"
        },
        "id": "j8-MLG8f6dWb",
        "outputId": "1e7c534b-a50f-444e-ae46-98a11c41b6b3"
      },
      "execution_count": null,
      "outputs": [
        {
          "output_type": "stream",
          "name": "stdout",
          "text": [
            "The average number of samples per label is:  1143\n"
          ]
        },
        {
          "output_type": "execute_result",
          "data": {
            "text/plain": [
              "label\n",
              "0      17\n",
              "1     133\n",
              "2       1\n",
              "3      53\n",
              "4     186\n",
              "5      61\n",
              "6      53\n",
              "7     130\n",
              "8      19\n",
              "10     29\n",
              "11     98\n",
              "12     88\n",
              "13      8\n",
              "14     53\n",
              "15     55\n",
              "16    136\n",
              "17    151\n",
              "18     56\n",
              "19     43\n",
              "20     18\n",
              "21     61\n",
              "22     82\n",
              "23     21\n",
              "24     25\n",
              "dtype: int64"
            ]
          },
          "metadata": {},
          "execution_count": 34
        }
      ]
    },
    {
      "cell_type": "code",
      "source": [
        "# visualize the label distribution\n",
        "y_train = df_train['label']\n",
        "plt.pyplot.figure(figsize=(15,6))\n",
        "sns.set_style(\"darkgrid\")\n",
        "sns.countplot(y_train)"
      ],
      "metadata": {
        "id": "m0Y3gl0YKnMg",
        "colab": {
          "base_uri": "https://localhost:8080/",
          "height": 460
        },
        "outputId": "1eef16c1-1098-4967-c6b0-a1bf1ae1eebf"
      },
      "execution_count": null,
      "outputs": [
        {
          "output_type": "stream",
          "name": "stderr",
          "text": [
            "/usr/local/lib/python3.8/dist-packages/seaborn/_decorators.py:36: FutureWarning: Pass the following variable as a keyword arg: x. From version 0.12, the only valid positional argument will be `data`, and passing other arguments without an explicit keyword will result in an error or misinterpretation.\n",
            "  warnings.warn(\n"
          ]
        },
        {
          "output_type": "execute_result",
          "data": {
            "text/plain": [
              "<matplotlib.axes._subplots.AxesSubplot at 0x7fc2233622b0>"
            ]
          },
          "metadata": {},
          "execution_count": 6
        },
        {
          "output_type": "display_data",
          "data": {
            "text/plain": [
              "<Figure size 1080x432 with 1 Axes>"
            ],
            "image/png": "[encoded data removed]"
          },
          "metadata": {
            "needs_background": "light"
          }
        }
      ]
    },
    {
      "cell_type": "markdown",
      "source": [
        "## **Split the data into train and validation**"
      ],
      "metadata": {
        "id": "SyXyoJyD-ej-"
      }
    },
    {
      "cell_type": "code",
      "source": [
        "# y_train = df_train['label']\n",
        "# y_test = df_test['label']\n",
        "# del df_train['label']\n",
        "# del df_test['label']\n",
        "# x_train = df_train.values\n",
        "# x_test = df_test.values\n",
        "# x_train = x_train / 255\n",
        "# x_test = x_test / 255\n",
        "# x_train = x_train.reshape(-1,28,28,1)\n",
        "# x_test = x_test.reshape(-1,28,28,1)\n",
        "# x_test_tensor = torch.Tensor(x_test).swapaxes(1, 3).swapaxes(2 , 3)\n",
        "# x_train_tensor = torch.Tensor(x_train).swapaxes(1, 3).swapaxes(2 , 3)"
      ],
      "metadata": {
        "id": "WeH4H6Sw-dhL"
      },
      "execution_count": 28,
      "outputs": []
    },
    {
      "cell_type": "code",
      "source": [
        "# print(x_test.shape)\n",
        "# print(x_test_tensor.shape)"
      ],
      "metadata": {
        "colab": {
          "base_uri": "https://localhost:8080/"
        },
        "id": "05omY_oWO-zu",
        "outputId": "85bd9975-2f8c-40e5-9f0f-9ebb2fdbd1ba"
      },
      "execution_count": 26,
      "outputs": [
        {
          "output_type": "stream",
          "name": "stdout",
          "text": [
            "(7172, 28, 28, 1)\n",
            "torch.Size([7172, 1, 28, 28])\n"
          ]
        }
      ]
    },
    {
      "cell_type": "code",
      "source": [],
      "metadata": {
        "id": "sI7GlX3KT9rg"
      },
      "execution_count": 31,
      "outputs": []
    },
    {
      "cell_type": "code",
      "source": [
        "# norm_mean = 0.5 \n",
        "# norm_std = 0.5 \n",
        "# output_size = 24      # there are 10 classes\n",
        "# train_loader = torch.utils.data.DataLoader(df_train, batch_size=500, shuffle=True , transform=transforms.Compose([\n",
        "#                        transforms.ToTensor(),\n",
        "#                        transforms.Normalize((norm_mean,), (norm_std,))\n",
        "#                    ]))\n",
        "# test_loader = torch.utils.data.DataLoader(df_test, batch_size=500, shuffle=True)\n",
        "# print(train_loader.dataset.__len__())\n",
        "# print(test_loader.dataset.__len__())"
      ],
      "metadata": {
        "id": "0nZmWO6_Ht8G"
      },
      "execution_count": null,
      "outputs": []
    },
    {
      "cell_type": "markdown",
      "source": [
        "## **Creating the neural network for the classification**\n",
        "\n",
        "Consider ResNet and VGG"
      ],
      "metadata": {
        "id": "QCJE9ZbN-uEV"
      }
    },
    {
      "cell_type": "code",
      "source": [
        "class ConvNet(nn.Module):\n",
        "    def __init__(self):\n",
        "        super().__init__()\n",
        "        \n",
        "        self.conv1 = nn.Conv2d(in_channels=1, out_channels=75, kernel_size=(3, 3), stride=1, padding=1)\n",
        "        self.batchnorm1 = nn.BatchNorm2d(75)\n",
        "        self.pool1 = nn.MaxPool2d(kernel_size=(2, 2), stride=2, padding=0)\n",
        "        \n",
        "        self.conv2 = nn.Conv2d(in_channels=75, out_channels=50, kernel_size=(3, 3), stride=1, padding=1)\n",
        "        self.dropout = nn.Dropout(0.2)\n",
        "        self.batchnorm2 = nn.BatchNorm2d(50)\n",
        "        self.pool2 = nn.MaxPool2d(kernel_size=(2, 2), stride=2, padding=0)\n",
        "        \n",
        "        self.conv3 = nn.Conv2d(in_channels=50, out_channels=25, kernel_size=(3, 3), stride=1, padding=1)\n",
        "        self.batchnorm3 = nn.BatchNorm2d(25)\n",
        "        self.pool3 = nn.MaxPool2d(kernel_size=(2, 2), stride=2, padding=1)\n",
        "        \n",
        "        self.fc1 = nn.Linear(25 * 4 * 4, 512)\n",
        "        self.dropout2 = nn.Dropout(0.3)\n",
        "        self.fc2 = nn.Linear(512, 25)\n",
        "        self.softmax = nn.Softmax(dim=1)\n",
        "        \n",
        "    def forward(self, x):\n",
        "        x = F.relu(self.conv1(x))\n",
        "        x = self.batchnorm1(x)\n",
        "        x = self.pool1(x)\n",
        "\n",
        "        x = F.relu(self.conv2(x))\n",
        "        x = self.dropout(x)\n",
        "        x = self.batchnorm2(x)\n",
        "        x = self.pool2(x)\n",
        "\n",
        "        x = F.relu(self.conv3(x))\n",
        "        x = self.batchnorm3(x)\n",
        "        x = self.pool3(x)\n",
        "\n",
        "        x = x.view(-1, 25 * 4 * 4)\n",
        "        x = F.relu(self.fc1(x))\n",
        "        x = self.dropout2(x)\n",
        "        x = self.fc2(x)\n",
        "        x = F.log_softmax(x, dim=1)\n",
        "        \n",
        "        return x"
      ],
      "metadata": {
        "id": "-4K99SW2BWCV"
      },
      "execution_count": 151,
      "outputs": []
    },
    {
      "cell_type": "markdown",
      "source": [
        "## **Creating the training function**"
      ],
      "metadata": {
        "id": "krLCucnWHCbF"
      }
    },
    {
      "cell_type": "code",
      "source": [
        "def test(model, test_loader, criterion):\n",
        "    model.eval()\n",
        "    with torch.no_grad():\n",
        "        correct = 0\n",
        "        total = 0\n",
        "        for images, labels in test_loader:\n",
        "            images = images.to(device)\n",
        "            labels = labels.to(device)\n",
        "            outputs = model(images)\n",
        "            _, predicted = torch.max(outputs.data, 1)\n",
        "            total += labels.size(0)\n",
        "            correct += (predicted == labels).sum().item()\n",
        "        accuracy = correct / total\n",
        "        return accuracy"
      ],
      "metadata": {
        "id": "fHzDn12j7GKJ"
      },
      "execution_count": 183,
      "outputs": []
    },
    {
      "cell_type": "code",
      "source": [
        "def data_loader(csv_data ,batch_size):\n",
        "    # Convert the dataframe into a PyTorch tensor\n",
        "    data = torch.tensor(csv_data.values, dtype=torch.float32)\n",
        "    \n",
        "    # Split the data into inputs (images) and targets (labels)\n",
        "    inputs = data[:, 1:]\n",
        "    targets = data[:, 0].long()\n",
        "    \n",
        "    # Normalize the inputs\n",
        "    inputs = inputs / 255.0\n",
        "    \n",
        "    # Convert inputs into a 4D tensor for processing by the model\n",
        "    inputs = inputs.view(-1, 1, 28, 28)\n",
        "    \n",
        "    # Create a TensorDataset from the inputs and targets\n",
        "    dataset = TensorDataset(inputs, targets)\n",
        "    \n",
        "    # Create a DataLoader from the dataset\n",
        "    return DataLoader(dataset, batch_size=batch_size, shuffle=True)"
      ],
      "metadata": {
        "id": "xgY5puK_5ns9"
      },
      "execution_count": 234,
      "outputs": []
    },
    {
      "cell_type": "code",
      "source": [
        "def train_model(train_data,val_data, model, criterion, optimizer, num_epochs = 500, batch_size= 500):\n",
        "    model.train()\n",
        "\n",
        "    # # Create a DataLoader from the dataset\n",
        "    data_train = data_loader(train_data , batch_size)\n",
        "    data_val = data_loader(val_data , batch_size)\n",
        "    n = 0\n",
        "    iters, losses = [], []\n",
        "    iters_sub, train_accs, val_accs  = [], [] ,[]\n",
        "    for epoch in range(num_epochs):\n",
        "\n",
        "        for i, (images, labels) in enumerate(data_train):\n",
        "            images, labels = images.to(device), labels.to(device)\n",
        "            # Forward pass\n",
        "            outputs = model(images)\n",
        "            #loss = criterion(outputs.cpu(), labels.cpu())\n",
        "            loss = F.nll_loss(outputs.cpu(), labels.cpu())\n",
        "            # Backward pass and optimization\n",
        "            optimizer.zero_grad()\n",
        "            loss.backward()\n",
        "            optimizer.step()\n",
        "\n",
        "            iters.append(n)\n",
        "            losses.append(float(loss)/batch_size)  # compute *average* loss\n",
        "            n+=1\n",
        "            if n%50 ==0:\n",
        "              iters_sub.append(n)\n",
        "              train_cost = float(loss.detach().numpy())\n",
        "              data_train_2 = data_loader(train_data[1:2000] , batch_size)\n",
        "              train_acc = test(model, data_train_2 , criterion)\n",
        "\n",
        "              train_accs.append(train_acc)\n",
        "              val_acc = test(model, data_val , criterion)\n",
        "              val_accs.append(val_acc)\n",
        "              print(f'Epoch [{epoch+1}/{num_epochs}] '+\"Iter %d. [Val Acc %.0f%%] [Train Acc %.0f%%, Loss %f]\" % (\n",
        "              n, val_acc * 100, train_acc * 100, train_cost))\n",
        "              #print(f'Epoch [{epoch+1}/{num_epochs}] , Iteration[{n}], Loss: {loss.item()}')\n",
        "            \n",
        "    print('Finished Training')\n",
        "    return iters, losses, iters_sub, train_accs, val_accs"
      ],
      "metadata": {
        "id": "9iFvixTGNG-y"
      },
      "execution_count": 261,
      "outputs": []
    },
    {
      "cell_type": "markdown",
      "source": [
        "##Train the model"
      ],
      "metadata": {
        "id": "x5qWmFnCZBbO"
      }
    },
    {
      "cell_type": "code",
      "source": [
        "model = ConvNet()\n",
        "criterion = nn.CrossEntropyLoss()\n",
        "optimizer = torch.optim.Adam(model.parameters())"
      ],
      "metadata": {
        "id": "8hR7IBGkZECe"
      },
      "execution_count": 251,
      "outputs": []
    },
    {
      "cell_type": "code",
      "source": [
        "from torchvision import models\n",
        "from torchsummary import summary\n",
        "summary(model.cuda(), (1,28,28))"
      ],
      "metadata": {
        "colab": {
          "base_uri": "https://localhost:8080/"
        },
        "id": "eu82qaJacRAO",
        "outputId": "9269c264-018e-4568-bd74-2c765b207dc5"
      },
      "execution_count": 102,
      "outputs": [
        {
          "output_type": "stream",
          "name": "stdout",
          "text": [
            "input shape: torch.Size([2, 1, 28, 28])\n",
            "second shape: torch.Size([2, 75, 14, 14])\n",
            "3 shape: torch.Size([2, 50, 7, 7])\n",
            "4 shape: torch.Size([2, 25, 4, 4])\n",
            "----------------------------------------------------------------\n",
            "        Layer (type)               Output Shape         Param #\n",
            "================================================================\n",
            "            Conv2d-1           [-1, 75, 28, 28]             750\n",
            "       BatchNorm2d-2           [-1, 75, 28, 28]             150\n",
            "         MaxPool2d-3           [-1, 75, 14, 14]               0\n",
            "            Conv2d-4           [-1, 50, 14, 14]          33,800\n",
            "           Dropout-5           [-1, 50, 14, 14]               0\n",
            "       BatchNorm2d-6           [-1, 50, 14, 14]             100\n",
            "         MaxPool2d-7             [-1, 50, 7, 7]               0\n",
            "            Conv2d-8             [-1, 25, 7, 7]          11,275\n",
            "       BatchNorm2d-9             [-1, 25, 7, 7]              50\n",
            "        MaxPool2d-10             [-1, 25, 4, 4]               0\n",
            "           Linear-11                  [-1, 512]         205,312\n",
            "          Dropout-12                  [-1, 512]               0\n",
            "           Linear-13                   [-1, 24]          12,312\n",
            "          Softmax-14                   [-1, 24]               0\n",
            "================================================================\n",
            "Total params: 263,749\n",
            "Trainable params: 263,749\n",
            "Non-trainable params: 0\n",
            "----------------------------------------------------------------\n",
            "Input size (MB): 0.00\n",
            "Forward/backward pass size (MB): 1.28\n",
            "Params size (MB): 1.01\n",
            "Estimated Total Size (MB): 2.29\n",
            "----------------------------------------------------------------\n"
          ]
        }
      ]
    },
    {
      "cell_type": "code",
      "source": [
        "model.to(device)\n",
        "iters, losses, iters_sub, train_accs, val_accs = train_model(df_train,df_val, model, criterion, optimizer, num_epochs = 3, batch_size= 128)\n"
      ],
      "metadata": {
        "colab": {
          "base_uri": "https://localhost:8080/"
        },
        "id": "9C6WXW7_ZFJl",
        "outputId": "23841ba1-1b98-493b-acbc-76b339cb41f8"
      },
      "execution_count": 262,
      "outputs": [
        {
          "output_type": "stream",
          "name": "stdout",
          "text": [
            "Epoch [1/3] Iter 50. [Val Acc 100%] [Train Acc 100%, Loss 0.009620]\n",
            "Epoch [1/3] Iter 100. [Val Acc 98%] [Train Acc 98%, Loss 0.087262]\n",
            "Epoch [1/3] Iter 150. [Val Acc 99%] [Train Acc 99%, Loss 0.007080]\n",
            "Epoch [2/3] Iter 200. [Val Acc 100%] [Train Acc 100%, Loss 0.000788]\n",
            "Epoch [2/3] Iter 250. [Val Acc 100%] [Train Acc 100%, Loss 0.000037]\n",
            "Epoch [2/3] Iter 300. [Val Acc 100%] [Train Acc 100%, Loss 0.000088]\n",
            "Epoch [3/3] Iter 350. [Val Acc 100%] [Train Acc 100%, Loss 0.000036]\n",
            "Epoch [3/3] Iter 400. [Val Acc 100%] [Train Acc 100%, Loss 0.000041]\n",
            "Epoch [3/3] Iter 450. [Val Acc 100%] [Train Acc 100%, Loss 0.000016]\n",
            "Epoch [3/3] Iter 500. [Val Acc 100%] [Train Acc 100%, Loss 0.000073]\n",
            "Finished Training\n"
          ]
        }
      ]
    },
    {
      "cell_type": "code",
      "source": [
        "def plot_learning_curve(iters, losses, iters_sub, train_accs, val_accs):\n",
        "    \"\"\"\n",
        "    Plot the learning curve.\n",
        "    \"\"\"\n",
        "    plt.title(\"Learning Curve: Loss per Iteration\")\n",
        "    plt.plot(iters, losses, label=\"Train\")\n",
        "    plt.xlabel(\"Iterations\")\n",
        "    plt.ylabel(\"Loss\")\n",
        "    plt.show()\n",
        "\n",
        "    plt.title(\"Learning Curve: Accuracy per Iteration\")\n",
        "    plt.plot(iters_sub, train_accs*100, label=\"Train\")\n",
        "    plt.plot(iters_sub, val_accs*100, label=\"Validation\")\n",
        "    plt.xlabel(\"Iterations\")\n",
        "    plt.ylabel(\"Accuracy\")\n",
        "    plt.legend(loc='best')\n",
        "    plt.show()"
      ],
      "metadata": {
        "id": "27be0qwUdfIl"
      },
      "execution_count": 248,
      "outputs": []
    },
    {
      "cell_type": "code",
      "source": [
        "val_accs = np.array(val_accs)\n",
        "train_accs = np.array(train_accs)\n",
        "plot_learning_curve(iters, losses, iters_sub, train_accs, val_accs)"
      ],
      "metadata": {
        "colab": {
          "base_uri": "https://localhost:8080/",
          "height": 573
        },
        "id": "85_RPGs545pv",
        "outputId": "f17d67e0-3677-416b-a3e4-39afa7ffd6f6"
      },
      "execution_count": 253,
      "outputs": [
        {
          "output_type": "display_data",
          "data": {
            "text/plain": [
              "<Figure size 432x288 with 1 Axes>"
            ],
            "image/png": "[encoded data removed]"
          },
          "metadata": {
            "needs_background": "light"
          }
        },
        {
          "output_type": "display_data",
          "data": {
            "text/plain": [
              "<Figure size 432x288 with 1 Axes>"
            ],
            "image/png": "[encoded data removed]"
          },
          "metadata": {
            "needs_background": "light"
          }
        }
      ]
    },
    {
      "cell_type": "code",
      "source": [
        "test_loader = data_loader(df_test , 120)"
      ],
      "metadata": {
        "id": "S5hxEdF7rXBG"
      },
      "execution_count": 228,
      "outputs": []
    },
    {
      "cell_type": "code",
      "source": [
        "##lets see some results"
      ],
      "metadata": {
        "id": "9hpQcZXEhqgw"
      },
      "execution_count": null,
      "outputs": []
    },
    {
      "cell_type": "code",
      "source": [
        "xxxxx = test(model, test_loader, criterion)\n",
        "print(xxxxx)"
      ],
      "metadata": {
        "colab": {
          "base_uri": "https://localhost:8080/"
        },
        "id": "u7fqSxonqaB8",
        "outputId": "653ff7c7-f793-4b99-f801-af535229a8f7"
      },
      "execution_count": 254,
      "outputs": [
        {
          "output_type": "stream",
          "name": "stdout",
          "text": [
            "0.9584495259341885\n"
          ]
        }
      ]
    },
    {
      "cell_type": "code",
      "source": [
        "#torch.save(model, \"/content/gdrive/MyDrive/DP_course/final/data/model1.pk.\")"
      ],
      "metadata": {
        "id": "jGF6lrF7w1lH"
      },
      "execution_count": 165,
      "outputs": []
    }
  ]
}