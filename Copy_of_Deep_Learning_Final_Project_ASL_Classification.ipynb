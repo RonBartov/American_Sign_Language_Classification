{
  "nbformat": 4,
  "nbformat_minor": 0,
  "metadata": {
    "colab": {
      "provenance": [],
      "include_colab_link": true
    },
    "kernelspec": {
      "name": "python3",
      "display_name": "Python 3"
    },
    "language_info": {
      "name": "python"
    },
    "accelerator": "GPU",
    "gpuClass": "standard"
  },
  "cells": [
    {
      "cell_type": "markdown",
      "metadata": {
        "id": "view-in-github",
        "colab_type": "text"
      },
      "source": [
        "<a href=\"https://colab.research.google.com/github/RonBartov/American_Sign_Language_Classification/blob/main/Copy_of_Deep_Learning_Final_Project_ASL_Classification.ipynb\" target=\"_parent\"><img src=\"https://colab.research.google.com/assets/colab-badge.svg\" alt=\"Open In Colab\"/></a>"
      ]
    },
    {
      "cell_type": "markdown",
      "source": [
        "# **Deep Learning Final Project- American Sign Language Images Classification**"
      ],
      "metadata": {
        "id": "n8US6O-11ZYG"
      }
    },
    {
      "cell_type": "code",
      "execution_count": 2,
      "metadata": {
        "id": "aMh1xZpHfGw3",
        "colab": {
          "base_uri": "https://localhost:8080/"
        },
        "outputId": "68a06517-49c2-4741-f454-2e9dd3b45e40"
      },
      "outputs": [
        {
          "output_type": "stream",
          "name": "stdout",
          "text": [
            "Mounted at /content/gdrive\n"
          ]
        }
      ],
      "source": [
        "import cv2\n",
        "from sklearn.model_selection import train_test_split\n",
        "import pandas as pd\n",
        "from PIL import Image as Im \n",
        "from PIL import ImageOps\n",
        "from google.colab import drive\n",
        "import seaborn as sns\n",
        "from torch.utils.data import DataLoader, TensorDataset\n",
        "from torchvision import transforms\n",
        "from torch.autograd import Variable\n",
        "import torch\n",
        "import torch.nn as nn\n",
        "import torch.nn.functional as F\n",
        "from torchvision.utils import make_grid\n",
        "from IPython.display import Image\n",
        "import matplotlib.pyplot as plt\n",
        "import numpy as np\n",
        "import random\n",
        "from torchvision.utils import make_grid\n",
        "import torch.optim as optim\n",
        "\n",
        "device = torch.device('cuda' if torch.cuda.is_available() else 'cpu')\n",
        "drive.mount('/content/gdrive')"
      ]
    },
    {
      "cell_type": "markdown",
      "source": [
        "# **Additional Functions That Will Be Used In The Project**"
      ],
      "metadata": {
        "id": "t337yy5utFvU"
      }
    },
    {
      "cell_type": "code",
      "source": [
        "# Here we will write a function that will be used throughout the project \n",
        "# whenever we want to display an image from the dataframe or from the images we \n",
        "# took from our personal device\n",
        "\n",
        "def plot_image(indicator=None, img_source_name=None, img_source=None, int_to_letter_dict = None):\n",
        "  ''' Inputs:\n",
        "      indicator: for img_source 'iPhone' it's a full name of the image including extenison. For img_source 'MNIST' it's a row number of img_source\n",
        "      img_source_name: 'iPhone' or 'MNIST'\n",
        "      img_source: for 'iPhone' insert the path of the iPhone images folder and for MNIST image insert the data frame of the MNIST\n",
        "      int_to_letter_dict: dictionary that maps int (label's number) to their corresponding letters {int: leter}\n",
        "\n",
        "      Output:\n",
        "      Image plot\n",
        "  '''\n",
        "  \n",
        "  if img_source_name == 'iPhone':\n",
        "    img_name = indicator\n",
        "    print(\"Image Name: \" + img_name + \"\\n\")\n",
        "    img_path = img_source + \"/\" + img_name\n",
        "    img_rgb = Im.open(img_path)\n",
        "    img_gray = ImageOps.grayscale(img_rgb)\n",
        "    resized_gray_img = img_gray.resize((28, 28))\n",
        "\n",
        "    print(\"Size of the original image:\", np.array(img_rgb).shape)\n",
        "    print(\"Size of the gray image:\", np.array(img_gray).shape)\n",
        "    print(\"Size of the gray resized image:\", np.array(resized_gray_img).shape)\n",
        "\n",
        "    gray_img_array = np.array(resized_gray_img).reshape(-1)\n",
        "    df = pd.DataFrame(gray_img_array.reshape(1, -1), columns=[\"pixel\" + str(i+1) for i in range(784)])\n",
        "\n",
        "    # Plots\n",
        "    fig, axs = plt.subplots(1, 3, figsize=(15, 5))\n",
        "    axs[0].imshow(img_rgb)\n",
        "    axs[0].set_title(\"Original Image\")\n",
        "    axs[1].imshow(img_gray, cmap='gray')\n",
        "    axs[1].set_title(\"Gray Image\")\n",
        "    axs[2].imshow(resized_gray_img, cmap='gray')\n",
        "    axs[2].set_title(\"Gray Resized Image\")\n",
        "\n",
        "    return df\n",
        "    \n",
        "  elif img_source_name == 'MNIST':\n",
        "    row_num = indicator\n",
        "    label_name = int_to_letter_dict[img_source.iloc[row_num:row_num+1,0].iloc[0]]\n",
        "    img_name = \"ASL_MNIST_Image_\" + label_name\n",
        "    img_df = img_source.iloc[row_num:row_num+1,1:]\n",
        "    img = img_df.to_numpy()\n",
        "\n",
        "    print(\"Image Name: \" + img_name + \"\\n\")\n",
        "    plt.imshow(img.reshape(28,28), cmap=\"gray\")\n",
        "    \n",
        "\n",
        "  return None"
      ],
      "metadata": {
        "id": "cyD94YazQWfz"
      },
      "execution_count": 109,
      "outputs": []
    },
    {
      "cell_type": "code",
      "source": [
        "def bar_graph_plot(pd_series, x_label='',y_label='',Title=''):\n",
        "  '''\n",
        "  Inputs:\n",
        "  pd_series: pandas series of shape(N,). The names of the columns need to be an integers\n",
        "  '''\n",
        "  mean = pd_series.values.mean()\n",
        "  plt.bar(pd_series.index, pd_series.values)\n",
        "  plt.xticks(pd_series.index + 0.5, pd_series.index)\n",
        "  plt.axhline(y=mean, color='red', linestyle='--')\n",
        "  plt.xlabel(x_label)\n",
        "  plt.ylabel(y_label)\n",
        "  plt.title(Title)\n",
        "  \n",
        "  # add average value to plot\n",
        "  plt.annotate(\"Average: {:.6f}\".format(mean), xy=(0, mean), xycoords='data',\n",
        "              xytext=(0.3, 0.85), textcoords='figure fraction',\n",
        "              arrowprops=dict(arrowstyle=\"->\", connectionstyle=\"arc3,rad=-0.2\", color='black'),\n",
        "              ha='center', va='bottom')\n",
        "  plt.show()\n",
        "  return None"
      ],
      "metadata": {
        "id": "aE06-qRt4dty"
      },
      "execution_count": 5,
      "outputs": []
    },
    {
      "cell_type": "markdown",
      "source": [
        "# **General Background and Goals**\n",
        "\n",
        "Sign languages are visual languages that use hand gestures, facial expressions, and body language to convey some meaning. They are used as a means of communication by deaf and hard-of-hearing individuals in many countries around the world. Unlike spoken languages, sign languages are not based on a particular spoken language and are unique to the deaf communities in which they are used.\n",
        "\n",
        "Despite the widespread use of sign languages, there is still much work to be done in improving communication between deaf and hearing individuals and the development of technologies that can recognize and understand sign languages is an important step towards this goal. \n",
        "\n",
        "**In our project**, we are exploring the use of deep learning for American Sign Language (ASL) recognition by teaching our neural network to classify between different ASL letters. The dataset we are using is the ASL MNIST dataset, which is a dataset that has been adapted to specifically focus on the recognition of American Sign Language.\n",
        "\n",
        "\n",
        "###**Data Description**\n",
        "Our data composed from 28x28 grayscale images (one channel images), each one represents one of the 24 american letters that **not require any motion**, i.e all the american letters except J and Z.\n",
        "\n",
        "\n",
        "\n",
        "The data contains 34,627 images in total and it devided into the following types:\n",
        "\n",
        "1) Test and Validation data- 27,455 images\n",
        "\n",
        "2) Test Data- 7,172 images\n",
        "\n",
        "\n",
        "In addition, the first column of the data represents the labels of the images as a numeric values. We have in total 26 american letters that their labels are the numbers 0-25 correspondingly to the order of the letters, and because we are not using the letters J and Z (which require motion as we mentioned before) we have left only with the labels 0-8 and 10-24.\n",
        "\n",
        "\n",
        "###**Additional Goal**\n",
        "\n",
        "In addition to the classification of the MNIST data itself, our goal in this project is to be able to classify letter from an image that was taken from our personal phones. This image will have a different properties, due to the type of the camera, initial resolution and also the enviroment where the image were taken, thus we will expect to get lower accuracy for those king of images.\n",
        "\n",
        "Below you can see one example for an image that was taken with iPhone. The image initial rezolution is 2048x2048 and its type is RGB.\n",
        "\n",
        "###**Using 'Notes'** \n",
        "In orded to give some clear explenations regarding specific actions or decision we make, we will add a text box with a 'Note' title everytime we will finish such an action. "
      ],
      "metadata": {
        "id": "jEuOp2Jj1Psp"
      }
    },
    {
      "cell_type": "code",
      "source": [
        "iPhone_images_path =\"/content/gdrive/MyDrive/Colab Notebooks/Deep Learning Final Project- ASL/ASL_Images_From_Iphone\"\n",
        "iphone_img_df = plot_image(indicator='ASL_Image_D.jpeg', img_source=iPhone_images_path,img_source_name='iPhone')\n",
        "iphone_img_df.head()"
      ],
      "metadata": {
        "colab": {
          "base_uri": "https://localhost:8080/",
          "height": 554
        },
        "id": "Dfp7uC1DZL4O",
        "outputId": "8842516a-8037-4405-b6df-91ca60d6f44f"
      },
      "execution_count": 111,
      "outputs": [
        {
          "output_type": "stream",
          "name": "stdout",
          "text": [
            "Image Name: ASL_Image_D.jpeg\n",
            "\n",
            "Size of the original image: (2048, 2048, 3)\n",
            "Size of the gray image: (2048, 2048)\n",
            "Size of the gray resized image: (28, 28)\n"
          ]
        },
        {
          "output_type": "execute_result",
          "data": {
            "text/plain": [
              "   pixel1  pixel2  pixel3  pixel4  pixel5  pixel6  pixel7  pixel8  pixel9  \\\n",
              "0     203     204     204     204     205     205     206     206     207   \n",
              "\n",
              "   pixel10  ...  pixel775  pixel776  pixel777  pixel778  pixel779  pixel780  \\\n",
              "0      207  ...        95        92        89        85       106       177   \n",
              "\n",
              "   pixel781  pixel782  pixel783  pixel784  \n",
              "0       181       180       180       181  \n",
              "\n",
              "[1 rows x 784 columns]"
            ],
            "text/html": [
              "\n",
              "  <div id=\"df-056cc50e-caee-4822-a5b0-950c9d014579\">\n",
              "    <div class=\"colab-df-container\">\n",
              "      <div>\n",
              "<style scoped>\n",
              "    .dataframe tbody tr th:only-of-type {\n",
              "        vertical-align: middle;\n",
              "    }\n",
              "\n",
              "    .dataframe tbody tr th {\n",
              "        vertical-align: top;\n",
              "    }\n",
              "\n",
              "    .dataframe thead th {\n",
              "        text-align: right;\n",
              "    }\n",
              "</style>\n",
              "<table border=\"1\" class=\"dataframe\">\n",
              "  <thead>\n",
              "    <tr style=\"text-align: right;\">\n",
              "      <th></th>\n",
              "      <th>pixel1</th>\n",
              "      <th>pixel2</th>\n",
              "      <th>pixel3</th>\n",
              "      <th>pixel4</th>\n",
              "      <th>pixel5</th>\n",
              "      <th>pixel6</th>\n",
              "      <th>pixel7</th>\n",
              "      <th>pixel8</th>\n",
              "      <th>pixel9</th>\n",
              "      <th>pixel10</th>\n",
              "      <th>...</th>\n",
              "      <th>pixel775</th>\n",
              "      <th>pixel776</th>\n",
              "      <th>pixel777</th>\n",
              "      <th>pixel778</th>\n",
              "      <th>pixel779</th>\n",
              "      <th>pixel780</th>\n",
              "      <th>pixel781</th>\n",
              "      <th>pixel782</th>\n",
              "      <th>pixel783</th>\n",
              "      <th>pixel784</th>\n",
              "    </tr>\n",
              "  </thead>\n",
              "  <tbody>\n",
              "    <tr>\n",
              "      <th>0</th>\n",
              "      <td>203</td>\n",
              "      <td>204</td>\n",
              "      <td>204</td>\n",
              "      <td>204</td>\n",
              "      <td>205</td>\n",
              "      <td>205</td>\n",
              "      <td>206</td>\n",
              "      <td>206</td>\n",
              "      <td>207</td>\n",
              "      <td>207</td>\n",
              "      <td>...</td>\n",
              "      <td>95</td>\n",
              "      <td>92</td>\n",
              "      <td>89</td>\n",
              "      <td>85</td>\n",
              "      <td>106</td>\n",
              "      <td>177</td>\n",
              "      <td>181</td>\n",
              "      <td>180</td>\n",
              "      <td>180</td>\n",
              "      <td>181</td>\n",
              "    </tr>\n",
              "  </tbody>\n",
              "</table>\n",
              "<p>1 rows × 784 columns</p>\n",
              "</div>\n",
              "      <button class=\"colab-df-convert\" onclick=\"convertToInteractive('df-056cc50e-caee-4822-a5b0-950c9d014579')\"\n",
              "              title=\"Convert this dataframe to an interactive table.\"\n",
              "              style=\"display:none;\">\n",
              "        \n",
              "  <svg xmlns=\"http://www.w3.org/2000/svg\" height=\"24px\"viewBox=\"0 0 24 24\"\n",
              "       width=\"24px\">\n",
              "    <path d=\"M0 0h24v24H0V0z\" fill=\"none\"/>\n",
              "    <path d=\"M18.56 5.44l.94 2.06.94-2.06 2.06-.94-2.06-.94-.94-2.06-.94 2.06-2.06.94zm-11 1L8.5 8.5l.94-2.06 2.06-.94-2.06-.94L8.5 2.5l-.94 2.06-2.06.94zm10 10l.94 2.06.94-2.06 2.06-.94-2.06-.94-.94-2.06-.94 2.06-2.06.94z\"/><path d=\"M17.41 7.96l-1.37-1.37c-.4-.4-.92-.59-1.43-.59-.52 0-1.04.2-1.43.59L10.3 9.45l-7.72 7.72c-.78.78-.78 2.05 0 2.83L4 21.41c.39.39.9.59 1.41.59.51 0 1.02-.2 1.41-.59l7.78-7.78 2.81-2.81c.8-.78.8-2.07 0-2.86zM5.41 20L4 18.59l7.72-7.72 1.47 1.35L5.41 20z\"/>\n",
              "  </svg>\n",
              "      </button>\n",
              "      \n",
              "  <style>\n",
              "    .colab-df-container {\n",
              "      display:flex;\n",
              "      flex-wrap:wrap;\n",
              "      gap: 12px;\n",
              "    }\n",
              "\n",
              "    .colab-df-convert {\n",
              "      background-color: #E8F0FE;\n",
              "      border: none;\n",
              "      border-radius: 50%;\n",
              "      cursor: pointer;\n",
              "      display: none;\n",
              "      fill: #1967D2;\n",
              "      height: 32px;\n",
              "      padding: 0 0 0 0;\n",
              "      width: 32px;\n",
              "    }\n",
              "\n",
              "    .colab-df-convert:hover {\n",
              "      background-color: #E2EBFA;\n",
              "      box-shadow: 0px 1px 2px rgba(60, 64, 67, 0.3), 0px 1px 3px 1px rgba(60, 64, 67, 0.15);\n",
              "      fill: #174EA6;\n",
              "    }\n",
              "\n",
              "    [theme=dark] .colab-df-convert {\n",
              "      background-color: #3B4455;\n",
              "      fill: #D2E3FC;\n",
              "    }\n",
              "\n",
              "    [theme=dark] .colab-df-convert:hover {\n",
              "      background-color: #434B5C;\n",
              "      box-shadow: 0px 1px 3px 1px rgba(0, 0, 0, 0.15);\n",
              "      filter: drop-shadow(0px 1px 2px rgba(0, 0, 0, 0.3));\n",
              "      fill: #FFFFFF;\n",
              "    }\n",
              "  </style>\n",
              "\n",
              "      <script>\n",
              "        const buttonEl =\n",
              "          document.querySelector('#df-056cc50e-caee-4822-a5b0-950c9d014579 button.colab-df-convert');\n",
              "        buttonEl.style.display =\n",
              "          google.colab.kernel.accessAllowed ? 'block' : 'none';\n",
              "\n",
              "        async function convertToInteractive(key) {\n",
              "          const element = document.querySelector('#df-056cc50e-caee-4822-a5b0-950c9d014579');\n",
              "          const dataTable =\n",
              "            await google.colab.kernel.invokeFunction('convertToInteractive',\n",
              "                                                     [key], {});\n",
              "          if (!dataTable) return;\n",
              "\n",
              "          const docLinkHtml = 'Like what you see? Visit the ' +\n",
              "            '<a target=\"_blank\" href=https://colab.research.google.com/notebooks/data_table.ipynb>data table notebook</a>'\n",
              "            + ' to learn more about interactive tables.';\n",
              "          element.innerHTML = '';\n",
              "          dataTable['output_type'] = 'display_data';\n",
              "          await google.colab.output.renderOutput(dataTable, element);\n",
              "          const docLink = document.createElement('div');\n",
              "          docLink.innerHTML = docLinkHtml;\n",
              "          element.appendChild(docLink);\n",
              "        }\n",
              "      </script>\n",
              "    </div>\n",
              "  </div>\n",
              "  "
            ]
          },
          "metadata": {},
          "execution_count": 111
        },
        {
          "output_type": "display_data",
          "data": {
            "text/plain": [
              "<Figure size 1080x360 with 3 Axes>"
            ],
            "image/png": "[encoded data removed]"
          },
          "metadata": {
            "needs_background": "light"
          }
        }
      ]
    },
    {
      "cell_type": "code",
      "source": [],
      "metadata": {
        "id": "wQly2x7-5zOe"
      },
      "execution_count": 71,
      "outputs": []
    },
    {
      "cell_type": "markdown",
      "source": [
        "#**Importing the MNIST Data and Learning its Properties**\n",
        "\n",
        "In order to start our training part properly, we would like to learn the data in the best way we can and to work with it in a right way according to its properties. That includes the following:\n",
        "\n",
        "**1) High-level understanding of the data-** Checking the number of samples, classes, and the distribution of the data, such as the range of pixels values, mean and variance. In addition, we will also check wether there are missing values in the data cells.\n",
        "\n",
        "\n",
        "**2) Splitting the data-** The ASL MNIST data already splitted into \"train\" and \"test\" sets, thus we will focus on splitting the \"train\" data into \"train\" and \"validation\" sets while trying not to change its distribution properties.\n",
        "\n",
        "**3) Preprocessing-** Includes normalizing the data, removing missing values, and transforming the data so that it has the correct format for our model."
      ],
      "metadata": {
        "id": "okEatZrBdUsO"
      }
    },
    {
      "cell_type": "code",
      "source": [
        "# Define the data paths\n",
        "\n",
        "# Ron's paths\n",
        "csv_train_val_path = \"/content/gdrive/MyDrive/Colab Notebooks/Deep Learning Final Project- ASL/sign_mnist_train.zip\"\n",
        "csv_test_path = \"/content/gdrive/MyDrive/Colab Notebooks/Deep Learning Final Project- ASL/sign_mnist_test.zip\"\n",
        "\n",
        "# Aviv's paths\n",
        "# csv_train_val_path = \"/content/gdrive/MyDrive/DP_course/final/data/sign_mnist_train.csv\"\n",
        "# csv_test_path = \"/content/gdrive/MyDrive/DP_course/final/data/sign_mnist_test.csv\"\n"
      ],
      "metadata": {
        "id": "vMBLUgKeHD9T"
      },
      "execution_count": 30,
      "outputs": []
    },
    {
      "cell_type": "code",
      "source": [
        "# from google.colab import drive\n",
        "# drive.mount('/content/drive')"
      ],
      "metadata": {
        "id": "Kqu7Lt6quxDP"
      },
      "execution_count": null,
      "outputs": []
    },
    {
      "cell_type": "code",
      "source": [
        "#letters = \"ABCDEFGHIJKLMNOPQRSTUVWXYZ\"\n",
        "# numbers = range(26)\n",
        "# letter_to_number = dict(zip(letters, numbers))"
      ],
      "metadata": {
        "id": "LQYrSYLSaG5T"
      },
      "execution_count": null,
      "outputs": []
    },
    {
      "cell_type": "code",
      "source": [
        "df_train_val = pd.read_csv(csv_train_val_path)\n",
        "df_test = pd.read_csv(csv_test_path)"
      ],
      "metadata": {
        "id": "eU7yBu90K9kb"
      },
      "execution_count": 31,
      "outputs": []
    },
    {
      "cell_type": "code",
      "source": [
        "# presenting few rows from the train dataframe \n",
        "df_train_val.head()"
      ],
      "metadata": {
        "id": "xOYgfzUtdi20",
        "outputId": "597a3512-e6c1-45d1-9abc-c27a1101fd6f",
        "colab": {
          "base_uri": "https://localhost:8080/",
          "height": 279
        }
      },
      "execution_count": 32,
      "outputs": [
        {
          "output_type": "execute_result",
          "data": {
            "text/plain": [
              "   label  pixel1  pixel2  pixel3  pixel4  pixel5  pixel6  pixel7  pixel8  \\\n",
              "0      3     107     118     127     134     139     143     146     150   \n",
              "1      6     155     157     156     156     156     157     156     158   \n",
              "2      2     187     188     188     187     187     186     187     188   \n",
              "3      2     211     211     212     212     211     210     211     210   \n",
              "4     13     164     167     170     172     176     179     180     184   \n",
              "\n",
              "   pixel9  ...  pixel775  pixel776  pixel777  pixel778  pixel779  pixel780  \\\n",
              "0     153  ...       207       207       207       207       206       206   \n",
              "1     158  ...        69       149       128        87        94       163   \n",
              "2     187  ...       202       201       200       199       198       199   \n",
              "3     210  ...       235       234       233       231       230       226   \n",
              "4     185  ...        92       105       105       108       133       163   \n",
              "\n",
              "   pixel781  pixel782  pixel783  pixel784  \n",
              "0       206       204       203       202  \n",
              "1       175       103       135       149  \n",
              "2       198       195       194       195  \n",
              "3       225       222       229       163  \n",
              "4       157       163       164       179  \n",
              "\n",
              "[5 rows x 785 columns]"
            ],
            "text/html": [
              "\n",
              "  <div id=\"df-4e6f0a02-074c-46b9-85a2-3f459e4ea5d3\">\n",
              "    <div class=\"colab-df-container\">\n",
              "      <div>\n",
              "<style scoped>\n",
              "    .dataframe tbody tr th:only-of-type {\n",
              "        vertical-align: middle;\n",
              "    }\n",
              "\n",
              "    .dataframe tbody tr th {\n",
              "        vertical-align: top;\n",
              "    }\n",
              "\n",
              "    .dataframe thead th {\n",
              "        text-align: right;\n",
              "    }\n",
              "</style>\n",
              "<table border=\"1\" class=\"dataframe\">\n",
              "  <thead>\n",
              "    <tr style=\"text-align: right;\">\n",
              "      <th></th>\n",
              "      <th>label</th>\n",
              "      <th>pixel1</th>\n",
              "      <th>pixel2</th>\n",
              "      <th>pixel3</th>\n",
              "      <th>pixel4</th>\n",
              "      <th>pixel5</th>\n",
              "      <th>pixel6</th>\n",
              "      <th>pixel7</th>\n",
              "      <th>pixel8</th>\n",
              "      <th>pixel9</th>\n",
              "      <th>...</th>\n",
              "      <th>pixel775</th>\n",
              "      <th>pixel776</th>\n",
              "      <th>pixel777</th>\n",
              "      <th>pixel778</th>\n",
              "      <th>pixel779</th>\n",
              "      <th>pixel780</th>\n",
              "      <th>pixel781</th>\n",
              "      <th>pixel782</th>\n",
              "      <th>pixel783</th>\n",
              "      <th>pixel784</th>\n",
              "    </tr>\n",
              "  </thead>\n",
              "  <tbody>\n",
              "    <tr>\n",
              "      <th>0</th>\n",
              "      <td>3</td>\n",
              "      <td>107</td>\n",
              "      <td>118</td>\n",
              "      <td>127</td>\n",
              "      <td>134</td>\n",
              "      <td>139</td>\n",
              "      <td>143</td>\n",
              "      <td>146</td>\n",
              "      <td>150</td>\n",
              "      <td>153</td>\n",
              "      <td>...</td>\n",
              "      <td>207</td>\n",
              "      <td>207</td>\n",
              "      <td>207</td>\n",
              "      <td>207</td>\n",
              "      <td>206</td>\n",
              "      <td>206</td>\n",
              "      <td>206</td>\n",
              "      <td>204</td>\n",
              "      <td>203</td>\n",
              "      <td>202</td>\n",
              "    </tr>\n",
              "    <tr>\n",
              "      <th>1</th>\n",
              "      <td>6</td>\n",
              "      <td>155</td>\n",
              "      <td>157</td>\n",
              "      <td>156</td>\n",
              "      <td>156</td>\n",
              "      <td>156</td>\n",
              "      <td>157</td>\n",
              "      <td>156</td>\n",
              "      <td>158</td>\n",
              "      <td>158</td>\n",
              "      <td>...</td>\n",
              "      <td>69</td>\n",
              "      <td>149</td>\n",
              "      <td>128</td>\n",
              "      <td>87</td>\n",
              "      <td>94</td>\n",
              "      <td>163</td>\n",
              "      <td>175</td>\n",
              "      <td>103</td>\n",
              "      <td>135</td>\n",
              "      <td>149</td>\n",
              "    </tr>\n",
              "    <tr>\n",
              "      <th>2</th>\n",
              "      <td>2</td>\n",
              "      <td>187</td>\n",
              "      <td>188</td>\n",
              "      <td>188</td>\n",
              "      <td>187</td>\n",
              "      <td>187</td>\n",
              "      <td>186</td>\n",
              "      <td>187</td>\n",
              "      <td>188</td>\n",
              "      <td>187</td>\n",
              "      <td>...</td>\n",
              "      <td>202</td>\n",
              "      <td>201</td>\n",
              "      <td>200</td>\n",
              "      <td>199</td>\n",
              "      <td>198</td>\n",
              "      <td>199</td>\n",
              "      <td>198</td>\n",
              "      <td>195</td>\n",
              "      <td>194</td>\n",
              "      <td>195</td>\n",
              "    </tr>\n",
              "    <tr>\n",
              "      <th>3</th>\n",
              "      <td>2</td>\n",
              "      <td>211</td>\n",
              "      <td>211</td>\n",
              "      <td>212</td>\n",
              "      <td>212</td>\n",
              "      <td>211</td>\n",
              "      <td>210</td>\n",
              "      <td>211</td>\n",
              "      <td>210</td>\n",
              "      <td>210</td>\n",
              "      <td>...</td>\n",
              "      <td>235</td>\n",
              "      <td>234</td>\n",
              "      <td>233</td>\n",
              "      <td>231</td>\n",
              "      <td>230</td>\n",
              "      <td>226</td>\n",
              "      <td>225</td>\n",
              "      <td>222</td>\n",
              "      <td>229</td>\n",
              "      <td>163</td>\n",
              "    </tr>\n",
              "    <tr>\n",
              "      <th>4</th>\n",
              "      <td>13</td>\n",
              "      <td>164</td>\n",
              "      <td>167</td>\n",
              "      <td>170</td>\n",
              "      <td>172</td>\n",
              "      <td>176</td>\n",
              "      <td>179</td>\n",
              "      <td>180</td>\n",
              "      <td>184</td>\n",
              "      <td>185</td>\n",
              "      <td>...</td>\n",
              "      <td>92</td>\n",
              "      <td>105</td>\n",
              "      <td>105</td>\n",
              "      <td>108</td>\n",
              "      <td>133</td>\n",
              "      <td>163</td>\n",
              "      <td>157</td>\n",
              "      <td>163</td>\n",
              "      <td>164</td>\n",
              "      <td>179</td>\n",
              "    </tr>\n",
              "  </tbody>\n",
              "</table>\n",
              "<p>5 rows × 785 columns</p>\n",
              "</div>\n",
              "      <button class=\"colab-df-convert\" onclick=\"convertToInteractive('df-4e6f0a02-074c-46b9-85a2-3f459e4ea5d3')\"\n",
              "              title=\"Convert this dataframe to an interactive table.\"\n",
              "              style=\"display:none;\">\n",
              "        \n",
              "  <svg xmlns=\"http://www.w3.org/2000/svg\" height=\"24px\"viewBox=\"0 0 24 24\"\n",
              "       width=\"24px\">\n",
              "    <path d=\"M0 0h24v24H0V0z\" fill=\"none\"/>\n",
              "    <path d=\"M18.56 5.44l.94 2.06.94-2.06 2.06-.94-2.06-.94-.94-2.06-.94 2.06-2.06.94zm-11 1L8.5 8.5l.94-2.06 2.06-.94-2.06-.94L8.5 2.5l-.94 2.06-2.06.94zm10 10l.94 2.06.94-2.06 2.06-.94-2.06-.94-.94-2.06-.94 2.06-2.06.94z\"/><path d=\"M17.41 7.96l-1.37-1.37c-.4-.4-.92-.59-1.43-.59-.52 0-1.04.2-1.43.59L10.3 9.45l-7.72 7.72c-.78.78-.78 2.05 0 2.83L4 21.41c.39.39.9.59 1.41.59.51 0 1.02-.2 1.41-.59l7.78-7.78 2.81-2.81c.8-.78.8-2.07 0-2.86zM5.41 20L4 18.59l7.72-7.72 1.47 1.35L5.41 20z\"/>\n",
              "  </svg>\n",
              "      </button>\n",
              "      \n",
              "  <style>\n",
              "    .colab-df-container {\n",
              "      display:flex;\n",
              "      flex-wrap:wrap;\n",
              "      gap: 12px;\n",
              "    }\n",
              "\n",
              "    .colab-df-convert {\n",
              "      background-color: #E8F0FE;\n",
              "      border: none;\n",
              "      border-radius: 50%;\n",
              "      cursor: pointer;\n",
              "      display: none;\n",
              "      fill: #1967D2;\n",
              "      height: 32px;\n",
              "      padding: 0 0 0 0;\n",
              "      width: 32px;\n",
              "    }\n",
              "\n",
              "    .colab-df-convert:hover {\n",
              "      background-color: #E2EBFA;\n",
              "      box-shadow: 0px 1px 2px rgba(60, 64, 67, 0.3), 0px 1px 3px 1px rgba(60, 64, 67, 0.15);\n",
              "      fill: #174EA6;\n",
              "    }\n",
              "\n",
              "    [theme=dark] .colab-df-convert {\n",
              "      background-color: #3B4455;\n",
              "      fill: #D2E3FC;\n",
              "    }\n",
              "\n",
              "    [theme=dark] .colab-df-convert:hover {\n",
              "      background-color: #434B5C;\n",
              "      box-shadow: 0px 1px 3px 1px rgba(0, 0, 0, 0.15);\n",
              "      filter: drop-shadow(0px 1px 2px rgba(0, 0, 0, 0.3));\n",
              "      fill: #FFFFFF;\n",
              "    }\n",
              "  </style>\n",
              "\n",
              "      <script>\n",
              "        const buttonEl =\n",
              "          document.querySelector('#df-4e6f0a02-074c-46b9-85a2-3f459e4ea5d3 button.colab-df-convert');\n",
              "        buttonEl.style.display =\n",
              "          google.colab.kernel.accessAllowed ? 'block' : 'none';\n",
              "\n",
              "        async function convertToInteractive(key) {\n",
              "          const element = document.querySelector('#df-4e6f0a02-074c-46b9-85a2-3f459e4ea5d3');\n",
              "          const dataTable =\n",
              "            await google.colab.kernel.invokeFunction('convertToInteractive',\n",
              "                                                     [key], {});\n",
              "          if (!dataTable) return;\n",
              "\n",
              "          const docLinkHtml = 'Like what you see? Visit the ' +\n",
              "            '<a target=\"_blank\" href=https://colab.research.google.com/notebooks/data_table.ipynb>data table notebook</a>'\n",
              "            + ' to learn more about interactive tables.';\n",
              "          element.innerHTML = '';\n",
              "          dataTable['output_type'] = 'display_data';\n",
              "          await google.colab.output.renderOutput(dataTable, element);\n",
              "          const docLink = document.createElement('div');\n",
              "          docLink.innerHTML = docLinkHtml;\n",
              "          element.appendChild(docLink);\n",
              "        }\n",
              "      </script>\n",
              "    </div>\n",
              "  </div>\n",
              "  "
            ]
          },
          "metadata": {},
          "execution_count": 32
        }
      ]
    },
    {
      "cell_type": "markdown",
      "source": [
        "### **Note #1**\n",
        "\n",
        "As we see above, each row in the data represents an image. The first column is the label value and the rest are the pixels values. Because the images are of size 28x28, then we have 784 pixels values in total."
      ],
      "metadata": {
        "id": "tky7zwHBt6Z7"
      }
    },
    {
      "cell_type": "markdown",
      "source": [
        "## **1) High-level understanding of the data before splitting**"
      ],
      "metadata": {
        "id": "XeDZx2K40l9i"
      }
    },
    {
      "cell_type": "code",
      "source": [
        "# data shape\n",
        "print('Shape the unified training and validation set: ', df_train_val.shape)\n",
        "print('Shape of samples in the test set: ', df_test.shape)"
      ],
      "metadata": {
        "id": "np42BodGsiT7",
        "outputId": "c59c55ab-4422-48f7-8c3b-fb65925f059f",
        "colab": {
          "base_uri": "https://localhost:8080/"
        }
      },
      "execution_count": 33,
      "outputs": [
        {
          "output_type": "stream",
          "name": "stdout",
          "text": [
            "Shape the unified training and validation set:  (27455, 785)\n",
            "Shape of samples in the test set:  (7172, 785)\n"
          ]
        }
      ]
    },
    {
      "cell_type": "code",
      "source": [
        "# check for maximum and minimum pixels values and verify there is no missing values in the data \n",
        "print(\"Missing values in the unified training and validation set: \", df_train_val.isnull().sum().sum())\n",
        "print(\"Missing values in the test set: \", df_test.isnull().sum().sum(), \"\\n\")\n",
        "print(\"Maximum pixel value in unified training and validation set: \", df_train_val.iloc[:,1:].max().max())\n",
        "print(\"Minimum pixel value in unified training and validation set: \", df_train_val.iloc[:,1:].min().min())"
      ],
      "metadata": {
        "id": "RYfjQZ7SymiN",
        "outputId": "1dcfc211-cc39-4327-ee13-6e61c714f63d",
        "colab": {
          "base_uri": "https://localhost:8080/"
        }
      },
      "execution_count": 34,
      "outputs": [
        {
          "output_type": "stream",
          "name": "stdout",
          "text": [
            "Missing values in the unified training and validation set:  0\n",
            "Missing values in the test set:  0 \n",
            "\n",
            "Maximum pixel value in unified training and validation set:  255\n",
            "Minimum pixel value in unified training and validation set:  0\n"
          ]
        }
      ]
    },
    {
      "cell_type": "code",
      "source": [
        "# calculate the appearence percentage for each label in the unified training and validation set\n",
        "count_label = df_train_val.groupby('label').size() \n",
        "count_label_percentage = count_label/len(df_train_val.axes[0])\n",
        "count_label_percentage"
      ],
      "metadata": {
        "id": "3qb4X28Qzkmh",
        "outputId": "d902517f-cfd3-4b43-ccee-7909d6f64d23",
        "colab": {
          "base_uri": "https://localhost:8080/"
        }
      },
      "execution_count": 35,
      "outputs": [
        {
          "output_type": "execute_result",
          "data": {
            "text/plain": [
              "label\n",
              "0     0.041013\n",
              "1     0.036787\n",
              "2     0.041668\n",
              "3     0.043562\n",
              "4     0.034857\n",
              "5     0.043854\n",
              "6     0.039701\n",
              "7     0.036897\n",
              "8     0.042324\n",
              "10    0.040575\n",
              "11    0.045201\n",
              "12    0.038427\n",
              "13    0.041923\n",
              "14    0.043562\n",
              "15    0.039628\n",
              "16    0.046585\n",
              "17    0.047132\n",
              "18    0.043671\n",
              "19    0.043198\n",
              "20    0.042287\n",
              "21    0.039410\n",
              "22    0.044618\n",
              "23    0.042397\n",
              "24    0.040721\n",
              "dtype: float64"
            ]
          },
          "metadata": {},
          "execution_count": 35
        }
      ]
    },
    {
      "cell_type": "code",
      "source": [
        "# presenting appearence percentage for each label in a bar plot\n",
        "bar_graph_plot(count_label_percentage, x_label='Label',y_label='Percentage',Title='Appearence Percentage for Each Label- Train & Val (%)')"
      ],
      "metadata": {
        "id": "DGlYsh726bFo",
        "outputId": "c4e8d3df-45e0-407c-b993-78c20615c0a5",
        "colab": {
          "base_uri": "https://localhost:8080/",
          "height": 295
        }
      },
      "execution_count": 37,
      "outputs": [
        {
          "output_type": "display_data",
          "data": {
            "text/plain": [
              "<Figure size 432x288 with 1 Axes>"
            ],
            "image/png": "[encoded data removed]"
          },
          "metadata": {
            "needs_background": "light"
          }
        }
      ]
    },
    {
      "cell_type": "code",
      "source": [
        "# calculate the distance from the average number of images per label (in terms of percentage)\n",
        "label_avg_count = count_label.sum()//24\n",
        "print(\"Average number of samples per label is: \", label_avg_count)\n",
        "label_diffrence_from_avg = abs(count_label - label_avg_count)/label_avg_count\n",
        "label_diffrence_from_avg"
      ],
      "metadata": {
        "id": "X2JXRkxw0A1Q",
        "outputId": "298a21f8-e773-4f20-8532-26605941a400",
        "colab": {
          "base_uri": "https://localhost:8080/"
        }
      },
      "execution_count": 36,
      "outputs": [
        {
          "output_type": "stream",
          "name": "stdout",
          "text": [
            "Average number of samples per label is:  1143\n"
          ]
        },
        {
          "output_type": "execute_result",
          "data": {
            "text/plain": [
              "label\n",
              "0     0.014873\n",
              "1     0.116360\n",
              "2     0.000875\n",
              "3     0.046369\n",
              "4     0.162730\n",
              "5     0.053368\n",
              "6     0.046369\n",
              "7     0.113736\n",
              "8     0.016623\n",
              "10    0.025372\n",
              "11    0.085739\n",
              "12    0.076990\n",
              "13    0.006999\n",
              "14    0.046369\n",
              "15    0.048119\n",
              "16    0.118985\n",
              "17    0.132108\n",
              "18    0.048994\n",
              "19    0.037620\n",
              "20    0.015748\n",
              "21    0.053368\n",
              "22    0.071741\n",
              "23    0.018373\n",
              "24    0.021872\n",
              "dtype: float64"
            ]
          },
          "metadata": {},
          "execution_count": 36
        }
      ]
    },
    {
      "cell_type": "code",
      "source": [
        "# presenting distance from the average number of images per label in a bar plot\n",
        "bar_graph_plot(label_diffrence_from_avg, x_label='Label',y_label='Percentage',Title='Distance From Average Value of Images Per Label- Train & Val (%)')"
      ],
      "metadata": {
        "id": "NifpJVuo7KEV",
        "outputId": "1628b64e-a975-4eb3-8242-edf8426c989c",
        "colab": {
          "base_uri": "https://localhost:8080/",
          "height": 295
        }
      },
      "execution_count": 38,
      "outputs": [
        {
          "output_type": "display_data",
          "data": {
            "text/plain": [
              "<Figure size 432x288 with 1 Axes>"
            ],
            "image/png": "[encoded data removed]"
          },
          "metadata": {
            "needs_background": "light"
          }
        }
      ]
    },
    {
      "cell_type": "code",
      "source": [
        "# calculate expectation probability distribution properties\n",
        "mean_train_and_val = df_train_val.iloc[:,1:].mean(axis=0) # size (784,)\n",
        "var_train_and_val = df_train_val.iloc[:,1:].var(axis=0) # size (784,)\n",
        "print(\"For each pixel in df_train_val, the mean is around: \", mean_train_and_val.mean())\n",
        "print(\"For each pixel in df_train_val, the variance is around: \", var_train_and_val.mean())"
      ],
      "metadata": {
        "id": "JPOt371oK4_c",
        "outputId": "2c5416cf-8b3c-471c-8240-5ae83d977268",
        "colab": {
          "base_uri": "https://localhost:8080/"
        }
      },
      "execution_count": 39,
      "outputs": [
        {
          "output_type": "stream",
          "name": "stdout",
          "text": [
            "For each pixel in df_train_val, the mean is around:  159.2910081989452\n",
            "For each pixel in df_train_val, the variance is around:  2181.1783633275427\n"
          ]
        }
      ]
    },
    {
      "cell_type": "markdown",
      "source": [
        "## **2) Splitting the data and recheck its distribution**"
      ],
      "metadata": {
        "id": "MGbeKnayRXPk"
      }
    },
    {
      "cell_type": "code",
      "source": [
        "# Split the training data into train and validation sets\n",
        "val_train_factor = 0.2 # df_val_size = val_train_factor*df_train_size\n",
        "df_train, df_val = train_test_split(df_train_val, test_size=val_train_factor, random_state=42)\n",
        "\n",
        "# reset indexes\n",
        "df_train.reset_index(drop=True, inplace=True)\n",
        "df_val.reset_index(drop=True, inplace=True)\n",
        "\n",
        "print('Shape of the unified training and validation set: ', df_train_val.shape)\n",
        "print('Shape of the training set: ', df_train.shape)\n",
        "print('Shape of the validation set: ', df_val.shape)\n",
        "\n",
        "df_train.head()"
      ],
      "metadata": {
        "id": "Hs5QDpRmSkyd",
        "outputId": "b5ee67b4-81b4-4ee9-e2de-4e6a47f9d833",
        "colab": {
          "base_uri": "https://localhost:8080/",
          "height": 331
        }
      },
      "execution_count": 62,
      "outputs": [
        {
          "output_type": "stream",
          "name": "stdout",
          "text": [
            "Shape of the unified training and validation set:  (27455, 785)\n",
            "Shape of the training set:  (21964, 785)\n",
            "Shape of the validation set:  (5491, 785)\n"
          ]
        },
        {
          "output_type": "execute_result",
          "data": {
            "text/plain": [
              "   label  pixel1  pixel2  pixel3  pixel4  pixel5  pixel6  pixel7  pixel8  \\\n",
              "0     10      97      65     128      44      17      67      64      66   \n",
              "1     15     215     216     217     223     206     176     176     191   \n",
              "2      0     144     145     146     147     150     150     151     151   \n",
              "3     10      64      73      83      96     101     108     111     115   \n",
              "4     22      83      88      57      75     101      37      17      63   \n",
              "\n",
              "   pixel9  ...  pixel775  pixel776  pixel777  pixel778  pixel779  pixel780  \\\n",
              "0      69  ...       189       180       134        97        76        86   \n",
              "1     106  ...       133       133       132       132       134       124   \n",
              "2     151  ...        78       107       183       187       171       160   \n",
              "3     118  ...       163       167       169       169       170       173   \n",
              "4      69  ...        87        71        52        95       183       176   \n",
              "\n",
              "   pixel781  pixel782  pixel783  pixel784  \n",
              "0        94        90        91        91  \n",
              "1       167       124        23       140  \n",
              "2       131       134       101        72  \n",
              "3       173       175       175       176  \n",
              "4       180       182       184       186  \n",
              "\n",
              "[5 rows x 785 columns]"
            ],
            "text/html": [
              "\n",
              "  <div id=\"df-103166ed-a136-48c9-a32b-15fbb318f6f4\">\n",
              "    <div class=\"colab-df-container\">\n",
              "      <div>\n",
              "<style scoped>\n",
              "    .dataframe tbody tr th:only-of-type {\n",
              "        vertical-align: middle;\n",
              "    }\n",
              "\n",
              "    .dataframe tbody tr th {\n",
              "        vertical-align: top;\n",
              "    }\n",
              "\n",
              "    .dataframe thead th {\n",
              "        text-align: right;\n",
              "    }\n",
              "</style>\n",
              "<table border=\"1\" class=\"dataframe\">\n",
              "  <thead>\n",
              "    <tr style=\"text-align: right;\">\n",
              "      <th></th>\n",
              "      <th>label</th>\n",
              "      <th>pixel1</th>\n",
              "      <th>pixel2</th>\n",
              "      <th>pixel3</th>\n",
              "      <th>pixel4</th>\n",
              "      <th>pixel5</th>\n",
              "      <th>pixel6</th>\n",
              "      <th>pixel7</th>\n",
              "      <th>pixel8</th>\n",
              "      <th>pixel9</th>\n",
              "      <th>...</th>\n",
              "      <th>pixel775</th>\n",
              "      <th>pixel776</th>\n",
              "      <th>pixel777</th>\n",
              "      <th>pixel778</th>\n",
              "      <th>pixel779</th>\n",
              "      <th>pixel780</th>\n",
              "      <th>pixel781</th>\n",
              "      <th>pixel782</th>\n",
              "      <th>pixel783</th>\n",
              "      <th>pixel784</th>\n",
              "    </tr>\n",
              "  </thead>\n",
              "  <tbody>\n",
              "    <tr>\n",
              "      <th>0</th>\n",
              "      <td>10</td>\n",
              "      <td>97</td>\n",
              "      <td>65</td>\n",
              "      <td>128</td>\n",
              "      <td>44</td>\n",
              "      <td>17</td>\n",
              "      <td>67</td>\n",
              "      <td>64</td>\n",
              "      <td>66</td>\n",
              "      <td>69</td>\n",
              "      <td>...</td>\n",
              "      <td>189</td>\n",
              "      <td>180</td>\n",
              "      <td>134</td>\n",
              "      <td>97</td>\n",
              "      <td>76</td>\n",
              "      <td>86</td>\n",
              "      <td>94</td>\n",
              "      <td>90</td>\n",
              "      <td>91</td>\n",
              "      <td>91</td>\n",
              "    </tr>\n",
              "    <tr>\n",
              "      <th>1</th>\n",
              "      <td>15</td>\n",
              "      <td>215</td>\n",
              "      <td>216</td>\n",
              "      <td>217</td>\n",
              "      <td>223</td>\n",
              "      <td>206</td>\n",
              "      <td>176</td>\n",
              "      <td>176</td>\n",
              "      <td>191</td>\n",
              "      <td>106</td>\n",
              "      <td>...</td>\n",
              "      <td>133</td>\n",
              "      <td>133</td>\n",
              "      <td>132</td>\n",
              "      <td>132</td>\n",
              "      <td>134</td>\n",
              "      <td>124</td>\n",
              "      <td>167</td>\n",
              "      <td>124</td>\n",
              "      <td>23</td>\n",
              "      <td>140</td>\n",
              "    </tr>\n",
              "    <tr>\n",
              "      <th>2</th>\n",
              "      <td>0</td>\n",
              "      <td>144</td>\n",
              "      <td>145</td>\n",
              "      <td>146</td>\n",
              "      <td>147</td>\n",
              "      <td>150</td>\n",
              "      <td>150</td>\n",
              "      <td>151</td>\n",
              "      <td>151</td>\n",
              "      <td>151</td>\n",
              "      <td>...</td>\n",
              "      <td>78</td>\n",
              "      <td>107</td>\n",
              "      <td>183</td>\n",
              "      <td>187</td>\n",
              "      <td>171</td>\n",
              "      <td>160</td>\n",
              "      <td>131</td>\n",
              "      <td>134</td>\n",
              "      <td>101</td>\n",
              "      <td>72</td>\n",
              "    </tr>\n",
              "    <tr>\n",
              "      <th>3</th>\n",
              "      <td>10</td>\n",
              "      <td>64</td>\n",
              "      <td>73</td>\n",
              "      <td>83</td>\n",
              "      <td>96</td>\n",
              "      <td>101</td>\n",
              "      <td>108</td>\n",
              "      <td>111</td>\n",
              "      <td>115</td>\n",
              "      <td>118</td>\n",
              "      <td>...</td>\n",
              "      <td>163</td>\n",
              "      <td>167</td>\n",
              "      <td>169</td>\n",
              "      <td>169</td>\n",
              "      <td>170</td>\n",
              "      <td>173</td>\n",
              "      <td>173</td>\n",
              "      <td>175</td>\n",
              "      <td>175</td>\n",
              "      <td>176</td>\n",
              "    </tr>\n",
              "    <tr>\n",
              "      <th>4</th>\n",
              "      <td>22</td>\n",
              "      <td>83</td>\n",
              "      <td>88</td>\n",
              "      <td>57</td>\n",
              "      <td>75</td>\n",
              "      <td>101</td>\n",
              "      <td>37</td>\n",
              "      <td>17</td>\n",
              "      <td>63</td>\n",
              "      <td>69</td>\n",
              "      <td>...</td>\n",
              "      <td>87</td>\n",
              "      <td>71</td>\n",
              "      <td>52</td>\n",
              "      <td>95</td>\n",
              "      <td>183</td>\n",
              "      <td>176</td>\n",
              "      <td>180</td>\n",
              "      <td>182</td>\n",
              "      <td>184</td>\n",
              "      <td>186</td>\n",
              "    </tr>\n",
              "  </tbody>\n",
              "</table>\n",
              "<p>5 rows × 785 columns</p>\n",
              "</div>\n",
              "      <button class=\"colab-df-convert\" onclick=\"convertToInteractive('df-103166ed-a136-48c9-a32b-15fbb318f6f4')\"\n",
              "              title=\"Convert this dataframe to an interactive table.\"\n",
              "              style=\"display:none;\">\n",
              "        \n",
              "  <svg xmlns=\"http://www.w3.org/2000/svg\" height=\"24px\"viewBox=\"0 0 24 24\"\n",
              "       width=\"24px\">\n",
              "    <path d=\"M0 0h24v24H0V0z\" fill=\"none\"/>\n",
              "    <path d=\"M18.56 5.44l.94 2.06.94-2.06 2.06-.94-2.06-.94-.94-2.06-.94 2.06-2.06.94zm-11 1L8.5 8.5l.94-2.06 2.06-.94-2.06-.94L8.5 2.5l-.94 2.06-2.06.94zm10 10l.94 2.06.94-2.06 2.06-.94-2.06-.94-.94-2.06-.94 2.06-2.06.94z\"/><path d=\"M17.41 7.96l-1.37-1.37c-.4-.4-.92-.59-1.43-.59-.52 0-1.04.2-1.43.59L10.3 9.45l-7.72 7.72c-.78.78-.78 2.05 0 2.83L4 21.41c.39.39.9.59 1.41.59.51 0 1.02-.2 1.41-.59l7.78-7.78 2.81-2.81c.8-.78.8-2.07 0-2.86zM5.41 20L4 18.59l7.72-7.72 1.47 1.35L5.41 20z\"/>\n",
              "  </svg>\n",
              "      </button>\n",
              "      \n",
              "  <style>\n",
              "    .colab-df-container {\n",
              "      display:flex;\n",
              "      flex-wrap:wrap;\n",
              "      gap: 12px;\n",
              "    }\n",
              "\n",
              "    .colab-df-convert {\n",
              "      background-color: #E8F0FE;\n",
              "      border: none;\n",
              "      border-radius: 50%;\n",
              "      cursor: pointer;\n",
              "      display: none;\n",
              "      fill: #1967D2;\n",
              "      height: 32px;\n",
              "      padding: 0 0 0 0;\n",
              "      width: 32px;\n",
              "    }\n",
              "\n",
              "    .colab-df-convert:hover {\n",
              "      background-color: #E2EBFA;\n",
              "      box-shadow: 0px 1px 2px rgba(60, 64, 67, 0.3), 0px 1px 3px 1px rgba(60, 64, 67, 0.15);\n",
              "      fill: #174EA6;\n",
              "    }\n",
              "\n",
              "    [theme=dark] .colab-df-convert {\n",
              "      background-color: #3B4455;\n",
              "      fill: #D2E3FC;\n",
              "    }\n",
              "\n",
              "    [theme=dark] .colab-df-convert:hover {\n",
              "      background-color: #434B5C;\n",
              "      box-shadow: 0px 1px 3px 1px rgba(0, 0, 0, 0.15);\n",
              "      filter: drop-shadow(0px 1px 2px rgba(0, 0, 0, 0.3));\n",
              "      fill: #FFFFFF;\n",
              "    }\n",
              "  </style>\n",
              "\n",
              "      <script>\n",
              "        const buttonEl =\n",
              "          document.querySelector('#df-103166ed-a136-48c9-a32b-15fbb318f6f4 button.colab-df-convert');\n",
              "        buttonEl.style.display =\n",
              "          google.colab.kernel.accessAllowed ? 'block' : 'none';\n",
              "\n",
              "        async function convertToInteractive(key) {\n",
              "          const element = document.querySelector('#df-103166ed-a136-48c9-a32b-15fbb318f6f4');\n",
              "          const dataTable =\n",
              "            await google.colab.kernel.invokeFunction('convertToInteractive',\n",
              "                                                     [key], {});\n",
              "          if (!dataTable) return;\n",
              "\n",
              "          const docLinkHtml = 'Like what you see? Visit the ' +\n",
              "            '<a target=\"_blank\" href=https://colab.research.google.com/notebooks/data_table.ipynb>data table notebook</a>'\n",
              "            + ' to learn more about interactive tables.';\n",
              "          element.innerHTML = '';\n",
              "          dataTable['output_type'] = 'display_data';\n",
              "          await google.colab.output.renderOutput(dataTable, element);\n",
              "          const docLink = document.createElement('div');\n",
              "          docLink.innerHTML = docLinkHtml;\n",
              "          element.appendChild(docLink);\n",
              "        }\n",
              "      </script>\n",
              "    </div>\n",
              "  </div>\n",
              "  "
            ]
          },
          "metadata": {},
          "execution_count": 62
        }
      ]
    },
    {
      "cell_type": "code",
      "source": [
        "# calculate the appearence percentage for each label in the training set\n",
        "count_label_train = df_train.groupby('label').size() \n",
        "count_label_percentage_train = count_label_train/len(df_train.axes[0])\n",
        "count_label_percentage_train\n",
        "\n",
        "bar_graph_plot(count_label_percentage_train, x_label='Label',y_label='Percentage',Title='Appearence Percentage for Each Label- Train (%)')"
      ],
      "metadata": {
        "id": "yNOCXVQ6W_GS",
        "outputId": "a2ad8d31-e9d2-4386-ccb4-8d4ea900eb41",
        "colab": {
          "base_uri": "https://localhost:8080/",
          "height": 295
        }
      },
      "execution_count": 44,
      "outputs": [
        {
          "output_type": "display_data",
          "data": {
            "text/plain": [
              "<Figure size 432x288 with 1 Axes>"
            ],
            "image/png": "[encoded data removed]"
          },
          "metadata": {
            "needs_background": "light"
          }
        }
      ]
    },
    {
      "cell_type": "code",
      "source": [
        "# calculate the distance from the average number of images per label (in terms of percentage)\n",
        "label_avg_count_train = count_label_train.sum()//24\n",
        "label_diffrence_from_avg_train = abs(count_label_train - label_avg_count_train)/label_avg_count_train\n",
        "label_diffrence_from_avg_train\n",
        "\n",
        "print(\"Average number of samples per label is: \", label_avg_count_train)\n",
        "bar_graph_plot(label_diffrence_from_avg_train, x_label='Label',y_label='Percentage',Title='Distance From Average Value of Images Per Label- Train (%)')"
      ],
      "metadata": {
        "id": "6avOISnqXbwX",
        "outputId": "fca6f7a1-c6a6-480d-a768-c11b15d7a014",
        "colab": {
          "base_uri": "https://localhost:8080/",
          "height": 312
        }
      },
      "execution_count": 45,
      "outputs": [
        {
          "output_type": "stream",
          "name": "stdout",
          "text": [
            "Average number of samples per label is:  915\n"
          ]
        },
        {
          "output_type": "display_data",
          "data": {
            "text/plain": [
              "<Figure size 432x288 with 1 Axes>"
            ],
            "image/png": "[encoded data removed]"
          },
          "metadata": {
            "needs_background": "light"
          }
        }
      ]
    },
    {
      "cell_type": "code",
      "source": [
        "# present one image from training set as an example\n",
        "\n",
        "# create dictionary that will map between label int representation to label name \n",
        "letters = \"ABCDEFGHIJKLMNOPQRSTUVWXYZ\"\n",
        "numbers = range(26)\n",
        "int_to_letter_dict = dict(zip(numbers,letters))\n",
        "\n",
        "# plot image\n",
        "plot_image(indicator=10, img_source_name='MNIST', img_source=df_train, int_to_letter_dict = int_to_letter_dict)"
      ],
      "metadata": {
        "colab": {
          "base_uri": "https://localhost:8080/",
          "height": 300
        },
        "id": "EetAKTUS7_o_",
        "outputId": "f2c34283-c296-4609-e7b3-0fe935be55e1"
      },
      "execution_count": 112,
      "outputs": [
        {
          "output_type": "stream",
          "name": "stdout",
          "text": [
            "Image Name: ASL_MNIST_Image_U\n",
            "\n"
          ]
        },
        {
          "output_type": "display_data",
          "data": {
            "text/plain": [
              "<Figure size 432x288 with 1 Axes>"
            ],
            "image/png": "[encoded data removed]"
          },
          "metadata": {
            "needs_background": "light"
          }
        }
      ]
    },
    {
      "cell_type": "code",
      "source": [
        "# y_train = df_train['label']\n",
        "# y_test = df_test['label']\n",
        "# del df_train['label']\n",
        "# del df_test['label']\n",
        "# x_train = df_train.values\n",
        "# x_test = df_test.values\n",
        "# x_train = x_train / 255\n",
        "# x_test = x_test / 255\n",
        "# x_train = x_train.reshape(-1,28,28,1)\n",
        "# x_test = x_test.reshape(-1,28,28,1)\n",
        "# x_test_tensor = torch.Tensor(x_test).swapaxes(1, 3).swapaxes(2 , 3)\n",
        "# x_train_tensor = torch.Tensor(x_train).swapaxes(1, 3).swapaxes(2 , 3)"
      ],
      "metadata": {
        "id": "WeH4H6Sw-dhL"
      },
      "execution_count": null,
      "outputs": []
    },
    {
      "cell_type": "code",
      "source": [
        "# print(x_test.shape)\n",
        "# print(x_test_tensor.shape)"
      ],
      "metadata": {
        "id": "05omY_oWO-zu"
      },
      "execution_count": 59,
      "outputs": []
    },
    {
      "cell_type": "code",
      "source": [],
      "metadata": {
        "id": "sI7GlX3KT9rg"
      },
      "execution_count": null,
      "outputs": []
    },
    {
      "cell_type": "code",
      "source": [
        "# norm_mean = 0.5 \n",
        "# norm_std = 0.5 \n",
        "# output_size = 24      # there are 10 classes\n",
        "# train_loader = torch.utils.data.DataLoader(df_train, batch_size=500, shuffle=True , transform=transforms.Compose([\n",
        "#                        transforms.ToTensor(),\n",
        "#                        transforms.Normalize((norm_mean,), (norm_std,))\n",
        "#                    ]))\n",
        "# test_loader = torch.utils.data.DataLoader(df_test, batch_size=500, shuffle=True)\n",
        "# print(train_loader.dataset.__len__())\n",
        "# print(test_loader.dataset.__len__())"
      ],
      "metadata": {
        "id": "0nZmWO6_Ht8G"
      },
      "execution_count": null,
      "outputs": []
    },
    {
      "cell_type": "markdown",
      "source": [
        "## **Creating the neural network for the classification**\n",
        "\n",
        "Consider ResNet and VGG"
      ],
      "metadata": {
        "id": "QCJE9ZbN-uEV"
      }
    },
    {
      "cell_type": "code",
      "source": [
        "class ConvNet(nn.Module):\n",
        "    def __init__(self):\n",
        "        super().__init__()\n",
        "        \n",
        "        self.conv1 = nn.Conv2d(in_channels=1, out_channels=75, kernel_size=(3, 3), stride=1, padding=1)\n",
        "        self.batchnorm1 = nn.BatchNorm2d(75)\n",
        "        self.pool1 = nn.MaxPool2d(kernel_size=(2, 2), stride=2, padding=0)\n",
        "        \n",
        "        self.conv2 = nn.Conv2d(in_channels=75, out_channels=50, kernel_size=(3, 3), stride=1, padding=1)\n",
        "        self.dropout = nn.Dropout(0.2)\n",
        "        self.batchnorm2 = nn.BatchNorm2d(50)\n",
        "        self.pool2 = nn.MaxPool2d(kernel_size=(2, 2), stride=2, padding=0)\n",
        "        \n",
        "        self.conv3 = nn.Conv2d(in_channels=50, out_channels=25, kernel_size=(3, 3), stride=1, padding=1)\n",
        "        self.batchnorm3 = nn.BatchNorm2d(25)\n",
        "        self.pool3 = nn.MaxPool2d(kernel_size=(2, 2), stride=2, padding=1)\n",
        "        \n",
        "        self.fc1 = nn.Linear(25 * 4 * 4, 512)\n",
        "        self.dropout2 = nn.Dropout(0.3)\n",
        "        self.fc2 = nn.Linear(512, 25)\n",
        "        self.softmax = nn.Softmax(dim=1)\n",
        "        \n",
        "    def forward(self, x):\n",
        "        x = F.relu(self.conv1(x))\n",
        "        x = self.batchnorm1(x)\n",
        "        x = self.pool1(x)\n",
        "\n",
        "        x = F.relu(self.conv2(x))\n",
        "        x = self.dropout(x)\n",
        "        x = self.batchnorm2(x)\n",
        "        x = self.pool2(x)\n",
        "\n",
        "        x = F.relu(self.conv3(x))\n",
        "        x = self.batchnorm3(x)\n",
        "        x = self.pool3(x)\n",
        "\n",
        "        x = x.view(-1, 25 * 4 * 4)\n",
        "        x = F.relu(self.fc1(x))\n",
        "        x = self.dropout2(x)\n",
        "        x = self.fc2(x)\n",
        "        x = F.log_softmax(x, dim=1)\n",
        "        \n",
        "        return x"
      ],
      "metadata": {
        "id": "-4K99SW2BWCV"
      },
      "execution_count": 51,
      "outputs": []
    },
    {
      "cell_type": "markdown",
      "source": [
        "## **Creating the training function**"
      ],
      "metadata": {
        "id": "krLCucnWHCbF"
      }
    },
    {
      "cell_type": "code",
      "source": [
        "def test(model, test_loader, criterion):\n",
        "    model.eval()\n",
        "    with torch.no_grad():\n",
        "        correct = 0\n",
        "        total = 0\n",
        "        for images, labels in test_loader:\n",
        "            images = images.to(device)\n",
        "            labels = labels.to(device)\n",
        "            outputs = model(images)\n",
        "            _, predicted = torch.max(outputs.data, 1)\n",
        "            total += labels.size(0)\n",
        "            correct += (predicted == labels).sum().item()\n",
        "        accuracy = correct / total\n",
        "        return accuracy"
      ],
      "metadata": {
        "id": "fHzDn12j7GKJ"
      },
      "execution_count": 52,
      "outputs": []
    },
    {
      "cell_type": "code",
      "source": [
        "def data_loader(csv_data ,batch_size):\n",
        "    # Convert the dataframe into a PyTorch tensor\n",
        "    data = torch.tensor(csv_data.values, dtype=torch.float32)\n",
        "    \n",
        "    # Split the data into inputs (images) and targets (labels)\n",
        "    inputs = data[:, 1:]\n",
        "    targets = data[:, 0].long()\n",
        "    \n",
        "    # Normalize the inputs\n",
        "    inputs = inputs / 255.0\n",
        "    \n",
        "    # Convert inputs into a 4D tensor for processing by the model\n",
        "    inputs = inputs.view(-1, 1, 28, 28)\n",
        "    \n",
        "    # Create a TensorDataset from the inputs and targets\n",
        "    dataset = TensorDataset(inputs, targets)\n",
        "    \n",
        "    # Create a DataLoader from the dataset\n",
        "    return DataLoader(dataset, batch_size=batch_size, shuffle=True)"
      ],
      "metadata": {
        "id": "xgY5puK_5ns9"
      },
      "execution_count": 53,
      "outputs": []
    },
    {
      "cell_type": "code",
      "source": [
        "def train_model(train_data,val_data, model, criterion, optimizer, num_epochs = 500, batch_size= 500):\n",
        "    model.train()\n",
        "\n",
        "    # # Create a DataLoader from the dataset\n",
        "    data_train = data_loader(train_data , batch_size)\n",
        "    data_val = data_loader(val_data , batch_size)\n",
        "    n = 0\n",
        "    iters, losses = [], []\n",
        "    iters_sub, train_accs, val_accs  = [], [] ,[]\n",
        "    for epoch in range(num_epochs):\n",
        "\n",
        "        for i, (images, labels) in enumerate(data_train):\n",
        "            images, labels = images.to(device), labels.to(device)\n",
        "            # Forward pass\n",
        "            outputs = model(images)\n",
        "            #loss = criterion(outputs.cpu(), labels.cpu())\n",
        "            loss = F.nll_loss(outputs.cpu(), labels.cpu())\n",
        "            # Backward pass and optimization\n",
        "            optimizer.zero_grad()\n",
        "            loss.backward()\n",
        "            optimizer.step()\n",
        "\n",
        "            iters.append(n)\n",
        "            losses.append(float(loss)/batch_size)  # compute *average* loss\n",
        "            n+=1\n",
        "            if n%50 ==0:\n",
        "              iters_sub.append(n)\n",
        "              train_cost = float(loss.detach().numpy())\n",
        "              data_train_2 = data_loader(train_data[1:2000] , batch_size)\n",
        "              train_acc = test(model, data_train_2 , criterion)\n",
        "\n",
        "              train_accs.append(train_acc)\n",
        "              val_acc = test(model, data_val , criterion)\n",
        "              val_accs.append(val_acc)\n",
        "              print(f'Epoch [{epoch+1}/{num_epochs}] '+\"Iter %d. [Val Acc %.0f%%] [Train Acc %.0f%%, Loss %f]\" % (\n",
        "              n, val_acc * 100, train_acc * 100, train_cost))\n",
        "              #print(f'Epoch [{epoch+1}/{num_epochs}] , Iteration[{n}], Loss: {loss.item()}')\n",
        "            \n",
        "    print('Finished Training')\n",
        "    return iters, losses, iters_sub, train_accs, val_accs"
      ],
      "metadata": {
        "id": "9iFvixTGNG-y"
      },
      "execution_count": 54,
      "outputs": []
    },
    {
      "cell_type": "markdown",
      "source": [
        "##Train the model"
      ],
      "metadata": {
        "id": "x5qWmFnCZBbO"
      }
    },
    {
      "cell_type": "code",
      "source": [
        "model = ConvNet()\n",
        "criterion = nn.CrossEntropyLoss()\n",
        "optimizer = torch.optim.Adam(model.parameters())"
      ],
      "metadata": {
        "id": "8hR7IBGkZECe"
      },
      "execution_count": 55,
      "outputs": []
    },
    {
      "cell_type": "code",
      "source": [
        "from torchvision import models\n",
        "from torchsummary import summary\n",
        "summary(model.cuda(), (1,28,28))"
      ],
      "metadata": {
        "colab": {
          "base_uri": "https://localhost:8080/"
        },
        "id": "eu82qaJacRAO",
        "outputId": "9269c264-018e-4568-bd74-2c765b207dc5"
      },
      "execution_count": null,
      "outputs": [
        {
          "output_type": "stream",
          "name": "stdout",
          "text": [
            "input shape: torch.Size([2, 1, 28, 28])\n",
            "second shape: torch.Size([2, 75, 14, 14])\n",
            "3 shape: torch.Size([2, 50, 7, 7])\n",
            "4 shape: torch.Size([2, 25, 4, 4])\n",
            "----------------------------------------------------------------\n",
            "        Layer (type)               Output Shape         Param #\n",
            "================================================================\n",
            "            Conv2d-1           [-1, 75, 28, 28]             750\n",
            "       BatchNorm2d-2           [-1, 75, 28, 28]             150\n",
            "         MaxPool2d-3           [-1, 75, 14, 14]               0\n",
            "            Conv2d-4           [-1, 50, 14, 14]          33,800\n",
            "           Dropout-5           [-1, 50, 14, 14]               0\n",
            "       BatchNorm2d-6           [-1, 50, 14, 14]             100\n",
            "         MaxPool2d-7             [-1, 50, 7, 7]               0\n",
            "            Conv2d-8             [-1, 25, 7, 7]          11,275\n",
            "       BatchNorm2d-9             [-1, 25, 7, 7]              50\n",
            "        MaxPool2d-10             [-1, 25, 4, 4]               0\n",
            "           Linear-11                  [-1, 512]         205,312\n",
            "          Dropout-12                  [-1, 512]               0\n",
            "           Linear-13                   [-1, 24]          12,312\n",
            "          Softmax-14                   [-1, 24]               0\n",
            "================================================================\n",
            "Total params: 263,749\n",
            "Trainable params: 263,749\n",
            "Non-trainable params: 0\n",
            "----------------------------------------------------------------\n",
            "Input size (MB): 0.00\n",
            "Forward/backward pass size (MB): 1.28\n",
            "Params size (MB): 1.01\n",
            "Estimated Total Size (MB): 2.29\n",
            "----------------------------------------------------------------\n"
          ]
        }
      ]
    },
    {
      "cell_type": "code",
      "source": [
        "model.to(device)\n",
        "iters, losses, iters_sub, train_accs, val_accs = train_model(df_train,df_val, model, criterion, optimizer, num_epochs = 3, batch_size= 128)\n"
      ],
      "metadata": {
        "colab": {
          "base_uri": "https://localhost:8080/"
        },
        "id": "9C6WXW7_ZFJl",
        "outputId": "6c5503d3-155d-411c-c446-4c47a33fe760"
      },
      "execution_count": 56,
      "outputs": [
        {
          "output_type": "stream",
          "name": "stdout",
          "text": [
            "Epoch [1/3] Iter 50. [Val Acc 81%] [Train Acc 81%, Loss 0.418508]\n",
            "Epoch [1/3] Iter 100. [Val Acc 98%] [Train Acc 98%, Loss 0.112319]\n",
            "Epoch [1/3] Iter 150. [Val Acc 100%] [Train Acc 100%, Loss 0.008116]\n",
            "Epoch [2/3] Iter 200. [Val Acc 100%] [Train Acc 100%, Loss 0.002498]\n",
            "Epoch [2/3] Iter 250. [Val Acc 100%] [Train Acc 100%, Loss 0.000581]\n",
            "Epoch [2/3] Iter 300. [Val Acc 100%] [Train Acc 100%, Loss 0.000738]\n",
            "Epoch [3/3] Iter 350. [Val Acc 100%] [Train Acc 100%, Loss 0.000450]\n",
            "Epoch [3/3] Iter 400. [Val Acc 100%] [Train Acc 100%, Loss 0.000317]\n",
            "Epoch [3/3] Iter 450. [Val Acc 100%] [Train Acc 100%, Loss 0.000182]\n",
            "Epoch [3/3] Iter 500. [Val Acc 100%] [Train Acc 100%, Loss 0.000275]\n",
            "Finished Training\n"
          ]
        }
      ]
    },
    {
      "cell_type": "code",
      "source": [
        "def plot_learning_curve(iters, losses, iters_sub, train_accs, val_accs):\n",
        "    \"\"\"\n",
        "    Plot the learning curve.\n",
        "    \"\"\"\n",
        "    plt.title(\"Learning Curve: Loss per Iteration\")\n",
        "    plt.plot(iters, losses, label=\"Train\")\n",
        "    plt.xlabel(\"Iterations\")\n",
        "    plt.ylabel(\"Loss\")\n",
        "    plt.show()\n",
        "\n",
        "    plt.title(\"Learning Curve: Accuracy per Iteration\")\n",
        "    plt.plot(iters_sub, train_accs*100, label=\"Train\")\n",
        "    plt.plot(iters_sub, val_accs*100, label=\"Validation\")\n",
        "    plt.xlabel(\"Iterations\")\n",
        "    plt.ylabel(\"Accuracy\")\n",
        "    plt.legend(loc='best')\n",
        "    plt.show()"
      ],
      "metadata": {
        "id": "27be0qwUdfIl"
      },
      "execution_count": 57,
      "outputs": []
    },
    {
      "cell_type": "code",
      "source": [
        "val_accs = np.array(val_accs)\n",
        "train_accs = np.array(train_accs)\n",
        "plot_learning_curve(iters, losses, iters_sub, train_accs, val_accs)"
      ],
      "metadata": {
        "colab": {
          "base_uri": "https://localhost:8080/",
          "height": 573
        },
        "id": "85_RPGs545pv",
        "outputId": "510bffe2-fcdf-4399-dd99-f7ab4cca7382"
      },
      "execution_count": 58,
      "outputs": [
        {
          "output_type": "display_data",
          "data": {
            "text/plain": [
              "<Figure size 432x288 with 1 Axes>"
            ],
            "image/png": "[encoded data removed]"
          },
          "metadata": {
            "needs_background": "light"
          }
        },
        {
          "output_type": "display_data",
          "data": {
            "text/plain": [
              "<Figure size 432x288 with 1 Axes>"
            ],
            "image/png": "[encoded data removed]"
          },
          "metadata": {
            "needs_background": "light"
          }
        }
      ]
    },
    {
      "cell_type": "code",
      "source": [
        "test_loader = data_loader(df_test , 120)"
      ],
      "metadata": {
        "id": "S5hxEdF7rXBG"
      },
      "execution_count": null,
      "outputs": []
    },
    {
      "cell_type": "code",
      "source": [
        "##lets see some results"
      ],
      "metadata": {
        "id": "9hpQcZXEhqgw"
      },
      "execution_count": null,
      "outputs": []
    },
    {
      "cell_type": "code",
      "source": [
        "xxxxx = test(model, test_loader, criterion)\n",
        "print(xxxxx)"
      ],
      "metadata": {
        "colab": {
          "base_uri": "https://localhost:8080/"
        },
        "id": "u7fqSxonqaB8",
        "outputId": "654869ca-cc83-4524-e6d7-9cee1f6f0421"
      },
      "execution_count": null,
      "outputs": [
        {
          "output_type": "stream",
          "name": "stdout",
          "text": [
            "0.9485499163413273\n"
          ]
        }
      ]
    },
    {
      "cell_type": "code",
      "source": [
        "#torch.save(model, \"/content/gdrive/MyDrive/DP_course/final/data/model1.pk.\")"
      ],
      "metadata": {
        "id": "jGF6lrF7w1lH"
      },
      "execution_count": null,
      "outputs": []
    }
  ]
}